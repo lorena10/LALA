{
 "cells": [
  {
   "cell_type": "markdown",
   "id": "strange-vulnerability",
   "metadata": {},
   "source": [
    "# Proyecto 1"
   ]
  },
  {
   "cell_type": "markdown",
   "id": "sitting-table",
   "metadata": {},
   "source": [
    "Natalia Isabel Padilla Terrones 173716\n",
    "Lorena Patricia Barrera Rodríguez 164694"
   ]
  },
  {
   "cell_type": "markdown",
   "id": "indoor-intention",
   "metadata": {},
   "source": [
    "## Preguntas"
   ]
  },
  {
   "cell_type": "markdown",
   "id": "correct-recruitment",
   "metadata": {},
   "source": [
    "### 1. ¿Cuál es la variable target?\n",
    "\n",
    "La variable target es **churn** o **no churn**, es decir que el objetivo del modelo es si el cliente abandonará la empresa o seguirá siendo cliente; por lo tanto, la etiqueta positiva es *churn*. En este caso, un *positivo verdadero* (TP) es si el modelo detecta que un cliente va a churnear y, efectivamente, churnea; un *negativo verdadero* (TN) es si el modelo detecta que un cliente no va a churnear y, efectivamente, no churnea; un *falso positivo* (FP) es si el modelo detecta que un cliente va a churnear, pero al final no lo hace; y finalmente, un *falso negativo* (FN) es si el modelo detecta que un cliente no va a churnear, pero al final sí lo hace.\n",
    "Para esa situación, es preferible minimizar los falsos negativos porque son los casos que más pueden \"afectar\" a la empresa ya que con los FP la empresa no pierde clientes y con los FN sí. Para poder cumplir con lo dicho anteriormente, y de acuerdo al contexto del problema, la métrica que se necesita optimizar es el *recall*.\n"
   ]
  },
  {
   "cell_type": "markdown",
   "id": "local-conditions",
   "metadata": {},
   "source": [
    "### 2. Genera el data profiling de las variables totalcharges y la variable contract interpreta la salida.\n",
    "\n"
   ]
  },
  {
   "cell_type": "code",
   "execution_count": 105,
   "id": "alone-printer",
   "metadata": {},
   "outputs": [],
   "source": [
    "import pandas as pd\n",
    "import numpy as np\n",
    "import matplotlib.pyplot as plt\n",
    "import seaborn as sns"
   ]
  },
  {
   "cell_type": "code",
   "execution_count": 106,
   "id": "grave-narrative",
   "metadata": {},
   "outputs": [],
   "source": [
    "# Se lee la base de datos\n",
    "empresa = pd.read_csv('/Users/lorenabarrera/Documents/Minería de Datos/Telco-Customer-Churn.csv', sep=',')\n",
    "#empresa.rename(columns={'LugarMuerte': 'lugar_muerte'},\n",
    " #            inplace=True)"
   ]
  },
  {
   "cell_type": "code",
   "execution_count": 107,
   "id": "biblical-headquarters",
   "metadata": {},
   "outputs": [
    {
     "data": {
      "text/html": [
       "<div>\n",
       "<style scoped>\n",
       "    .dataframe tbody tr th:only-of-type {\n",
       "        vertical-align: middle;\n",
       "    }\n",
       "\n",
       "    .dataframe tbody tr th {\n",
       "        vertical-align: top;\n",
       "    }\n",
       "\n",
       "    .dataframe thead th {\n",
       "        text-align: right;\n",
       "    }\n",
       "</style>\n",
       "<table border=\"1\" class=\"dataframe\">\n",
       "  <thead>\n",
       "    <tr style=\"text-align: right;\">\n",
       "      <th></th>\n",
       "      <th>customerID</th>\n",
       "      <th>gender</th>\n",
       "      <th>SeniorCitizen</th>\n",
       "      <th>Partner</th>\n",
       "      <th>Dependents</th>\n",
       "      <th>tenure</th>\n",
       "      <th>PhoneService</th>\n",
       "      <th>MultipleLines</th>\n",
       "      <th>InternetService</th>\n",
       "      <th>OnlineSecurity</th>\n",
       "      <th>...</th>\n",
       "      <th>DeviceProtection</th>\n",
       "      <th>TechSupport</th>\n",
       "      <th>StreamingTV</th>\n",
       "      <th>StreamingMovies</th>\n",
       "      <th>Contract</th>\n",
       "      <th>PaperlessBilling</th>\n",
       "      <th>PaymentMethod</th>\n",
       "      <th>MonthlyCharges</th>\n",
       "      <th>TotalCharges</th>\n",
       "      <th>Churn</th>\n",
       "    </tr>\n",
       "  </thead>\n",
       "  <tbody>\n",
       "    <tr>\n",
       "      <th>0</th>\n",
       "      <td>7590-VHVEG</td>\n",
       "      <td>Female</td>\n",
       "      <td>0</td>\n",
       "      <td>Yes</td>\n",
       "      <td>No</td>\n",
       "      <td>1</td>\n",
       "      <td>No</td>\n",
       "      <td>No phone service</td>\n",
       "      <td>DSL</td>\n",
       "      <td>No</td>\n",
       "      <td>...</td>\n",
       "      <td>No</td>\n",
       "      <td>No</td>\n",
       "      <td>No</td>\n",
       "      <td>No</td>\n",
       "      <td>Month-to-month</td>\n",
       "      <td>Yes</td>\n",
       "      <td>Electronic check</td>\n",
       "      <td>29.85</td>\n",
       "      <td>29.85</td>\n",
       "      <td>No</td>\n",
       "    </tr>\n",
       "    <tr>\n",
       "      <th>1</th>\n",
       "      <td>5575-GNVDE</td>\n",
       "      <td>Male</td>\n",
       "      <td>0</td>\n",
       "      <td>No</td>\n",
       "      <td>No</td>\n",
       "      <td>34</td>\n",
       "      <td>Yes</td>\n",
       "      <td>No</td>\n",
       "      <td>DSL</td>\n",
       "      <td>Yes</td>\n",
       "      <td>...</td>\n",
       "      <td>Yes</td>\n",
       "      <td>No</td>\n",
       "      <td>No</td>\n",
       "      <td>No</td>\n",
       "      <td>One year</td>\n",
       "      <td>No</td>\n",
       "      <td>Mailed check</td>\n",
       "      <td>56.95</td>\n",
       "      <td>1889.5</td>\n",
       "      <td>No</td>\n",
       "    </tr>\n",
       "    <tr>\n",
       "      <th>2</th>\n",
       "      <td>3668-QPYBK</td>\n",
       "      <td>Male</td>\n",
       "      <td>0</td>\n",
       "      <td>No</td>\n",
       "      <td>No</td>\n",
       "      <td>2</td>\n",
       "      <td>Yes</td>\n",
       "      <td>No</td>\n",
       "      <td>DSL</td>\n",
       "      <td>Yes</td>\n",
       "      <td>...</td>\n",
       "      <td>No</td>\n",
       "      <td>No</td>\n",
       "      <td>No</td>\n",
       "      <td>No</td>\n",
       "      <td>Month-to-month</td>\n",
       "      <td>Yes</td>\n",
       "      <td>Mailed check</td>\n",
       "      <td>53.85</td>\n",
       "      <td>108.15</td>\n",
       "      <td>Yes</td>\n",
       "    </tr>\n",
       "    <tr>\n",
       "      <th>3</th>\n",
       "      <td>7795-CFOCW</td>\n",
       "      <td>Male</td>\n",
       "      <td>0</td>\n",
       "      <td>No</td>\n",
       "      <td>No</td>\n",
       "      <td>45</td>\n",
       "      <td>No</td>\n",
       "      <td>No phone service</td>\n",
       "      <td>DSL</td>\n",
       "      <td>Yes</td>\n",
       "      <td>...</td>\n",
       "      <td>Yes</td>\n",
       "      <td>Yes</td>\n",
       "      <td>No</td>\n",
       "      <td>No</td>\n",
       "      <td>One year</td>\n",
       "      <td>No</td>\n",
       "      <td>Bank transfer (automatic)</td>\n",
       "      <td>42.30</td>\n",
       "      <td>1840.75</td>\n",
       "      <td>No</td>\n",
       "    </tr>\n",
       "    <tr>\n",
       "      <th>4</th>\n",
       "      <td>9237-HQITU</td>\n",
       "      <td>Female</td>\n",
       "      <td>0</td>\n",
       "      <td>No</td>\n",
       "      <td>No</td>\n",
       "      <td>2</td>\n",
       "      <td>Yes</td>\n",
       "      <td>No</td>\n",
       "      <td>Fiber optic</td>\n",
       "      <td>No</td>\n",
       "      <td>...</td>\n",
       "      <td>No</td>\n",
       "      <td>No</td>\n",
       "      <td>No</td>\n",
       "      <td>No</td>\n",
       "      <td>Month-to-month</td>\n",
       "      <td>Yes</td>\n",
       "      <td>Electronic check</td>\n",
       "      <td>70.70</td>\n",
       "      <td>151.65</td>\n",
       "      <td>Yes</td>\n",
       "    </tr>\n",
       "  </tbody>\n",
       "</table>\n",
       "<p>5 rows × 21 columns</p>\n",
       "</div>"
      ],
      "text/plain": [
       "   customerID  gender  SeniorCitizen Partner Dependents  tenure PhoneService  \\\n",
       "0  7590-VHVEG  Female              0     Yes         No       1           No   \n",
       "1  5575-GNVDE    Male              0      No         No      34          Yes   \n",
       "2  3668-QPYBK    Male              0      No         No       2          Yes   \n",
       "3  7795-CFOCW    Male              0      No         No      45           No   \n",
       "4  9237-HQITU  Female              0      No         No       2          Yes   \n",
       "\n",
       "      MultipleLines InternetService OnlineSecurity  ... DeviceProtection  \\\n",
       "0  No phone service             DSL             No  ...               No   \n",
       "1                No             DSL            Yes  ...              Yes   \n",
       "2                No             DSL            Yes  ...               No   \n",
       "3  No phone service             DSL            Yes  ...              Yes   \n",
       "4                No     Fiber optic             No  ...               No   \n",
       "\n",
       "  TechSupport StreamingTV StreamingMovies        Contract PaperlessBilling  \\\n",
       "0          No          No              No  Month-to-month              Yes   \n",
       "1          No          No              No        One year               No   \n",
       "2          No          No              No  Month-to-month              Yes   \n",
       "3         Yes          No              No        One year               No   \n",
       "4          No          No              No  Month-to-month              Yes   \n",
       "\n",
       "               PaymentMethod MonthlyCharges  TotalCharges Churn  \n",
       "0           Electronic check          29.85         29.85    No  \n",
       "1               Mailed check          56.95        1889.5    No  \n",
       "2               Mailed check          53.85        108.15   Yes  \n",
       "3  Bank transfer (automatic)          42.30       1840.75    No  \n",
       "4           Electronic check          70.70        151.65   Yes  \n",
       "\n",
       "[5 rows x 21 columns]"
      ]
     },
     "execution_count": 107,
     "metadata": {},
     "output_type": "execute_result"
    }
   ],
   "source": [
    "empresa.head()"
   ]
  },
  {
   "cell_type": "markdown",
   "id": "lyric-confidence",
   "metadata": {},
   "source": [
    "#### Limpieza de datos"
   ]
  },
  {
   "cell_type": "code",
   "execution_count": 108,
   "id": "fossil-racing",
   "metadata": {},
   "outputs": [],
   "source": [
    "empresa.rename(columns={'customerID': 'customer_id', 'SeniorCitizen':'senior_citizen', \n",
    "                        'Partner':'partner', 'Dependents':'dependents', 'PhoneService':'phone_service',\n",
    "                        'MultipleLines':'multiple_lines', 'InternetService':'internet_service',\n",
    "                        'OnlineSecurity':'online_security', 'OnlineBackup':'online_backup',\n",
    "                        'DeviceProtection':'device_protection', 'TechSupport':'tech_support',\n",
    "                        'StreamingTV':'streaming_tv', 'StreamingMovies':'streaming_movies',\n",
    "                        'Contract':'contract', 'PaperlessBilling':'paperless_billing', \n",
    "                        'PaymentMethod':'payment_method', 'MonthlyCharges':'monthly_charges',\n",
    "                        'TotalCharges':'total_charges', 'Churn':'churn'}, inplace=True)\n"
   ]
  },
  {
   "cell_type": "code",
   "execution_count": 109,
   "id": "sonic-porcelain",
   "metadata": {},
   "outputs": [
    {
     "data": {
      "text/plain": [
       "7043"
      ]
     },
     "execution_count": 109,
     "metadata": {},
     "output_type": "execute_result"
    }
   ],
   "source": [
    "empresa.customer_id.count()"
   ]
  },
  {
   "cell_type": "code",
   "execution_count": 110,
   "id": "mysterious-angola",
   "metadata": {
    "scrolled": false
   },
   "outputs": [
    {
     "data": {
      "text/plain": [
       "7032"
      ]
     },
     "execution_count": 110,
     "metadata": {},
     "output_type": "execute_result"
    }
   ],
   "source": [
    "empresa.replace(' ', np.nan, inplace = True)\n",
    "empresa.dropna(inplace = True)\n",
    "empresa.reset_index(drop=True, inplace=True)\n",
    "empresa.customer_id.count()"
   ]
  },
  {
   "cell_type": "markdown",
   "id": "silent-virgin",
   "metadata": {},
   "source": [
    "#### Tipos de variables"
   ]
  },
  {
   "cell_type": "markdown",
   "id": "desperate-influence",
   "metadata": {},
   "source": [
    "Se analizan los datos de las columnas:"
   ]
  },
  {
   "cell_type": "code",
   "execution_count": 111,
   "id": "equipped-montreal",
   "metadata": {},
   "outputs": [
    {
     "data": {
      "text/plain": [
       "customer_id           object\n",
       "gender                object\n",
       "senior_citizen         int64\n",
       "partner               object\n",
       "dependents            object\n",
       "tenure                 int64\n",
       "phone_service         object\n",
       "multiple_lines        object\n",
       "internet_service      object\n",
       "online_security       object\n",
       "online_backup         object\n",
       "device_protection     object\n",
       "tech_support          object\n",
       "streaming_tv          object\n",
       "streaming_movies      object\n",
       "contract              object\n",
       "paperless_billing     object\n",
       "payment_method        object\n",
       "monthly_charges      float64\n",
       "total_charges         object\n",
       "churn                 object\n",
       "dtype: object"
      ]
     },
     "execution_count": 111,
     "metadata": {},
     "output_type": "execute_result"
    }
   ],
   "source": [
    "# Tipos de las variables\n",
    "empresa.dtypes"
   ]
  },
  {
   "cell_type": "markdown",
   "id": "happy-brother",
   "metadata": {},
   "source": [
    "Observamos cuántas columnas tienen determinadas características:"
   ]
  },
  {
   "cell_type": "code",
   "execution_count": 112,
   "id": "freelance-princeton",
   "metadata": {},
   "outputs": [
    {
     "data": {
      "text/plain": [
       "(3, array(['senior_citizen', 'tenure', 'monthly_charges'], dtype=object))"
      ]
     },
     "execution_count": 112,
     "metadata": {},
     "output_type": "execute_result"
    }
   ],
   "source": [
    "# Variables numéricas\n",
    "number_variables = empresa.select_dtypes(include = 'number').columns.values\n",
    "(len(number_variables), number_variables)"
   ]
  },
  {
   "cell_type": "markdown",
   "id": "identical-caution",
   "metadata": {},
   "source": [
    "Hay 3 columnas dentro de la tabla que son de tipo *number*"
   ]
  },
  {
   "cell_type": "code",
   "execution_count": 113,
   "id": "amended-ecology",
   "metadata": {},
   "outputs": [
    {
     "data": {
      "text/plain": [
       "(0, array([], dtype=object))"
      ]
     },
     "execution_count": 113,
     "metadata": {},
     "output_type": "execute_result"
    }
   ],
   "source": [
    "# Variables categóricas\n",
    "category_variables = empresa.select_dtypes(include = 'category').columns.values\n",
    "(len(category_variables), category_variables)"
   ]
  },
  {
   "cell_type": "markdown",
   "id": "physical-bolivia",
   "metadata": {},
   "source": [
    "Hay 0 columnas dentro de la tabla que son de tipo *category*"
   ]
  },
  {
   "cell_type": "code",
   "execution_count": 114,
   "id": "vertical-aaron",
   "metadata": {},
   "outputs": [
    {
     "data": {
      "text/plain": [
       "(0, array([], dtype=object))"
      ]
     },
     "execution_count": 114,
     "metadata": {},
     "output_type": "execute_result"
    }
   ],
   "source": [
    "# Fechas \n",
    "dates_variables = empresa.select_dtypes(include = 'datetime').columns.values\n",
    "(len(dates_variables), dates_variables)"
   ]
  },
  {
   "cell_type": "markdown",
   "id": "funded-collect",
   "metadata": {},
   "source": [
    "Hay 0 columnas dentro de la tabla que son de tipo *datetime*"
   ]
  },
  {
   "cell_type": "code",
   "execution_count": 115,
   "id": "constant-nitrogen",
   "metadata": {},
   "outputs": [
    {
     "data": {
      "text/plain": [
       "(18,\n",
       " array(['customer_id', 'gender', 'partner', 'dependents', 'phone_service',\n",
       "        'multiple_lines', 'internet_service', 'online_security',\n",
       "        'online_backup', 'device_protection', 'tech_support',\n",
       "        'streaming_tv', 'streaming_movies', 'contract',\n",
       "        'paperless_billing', 'payment_method', 'total_charges', 'churn'],\n",
       "       dtype=object))"
      ]
     },
     "execution_count": 115,
     "metadata": {},
     "output_type": "execute_result"
    }
   ],
   "source": [
    "# Strings \n",
    "string_variables = empresa.select_dtypes(include = 'object').columns.values\n",
    "(len(string_variables), string_variables)"
   ]
  },
  {
   "cell_type": "markdown",
   "id": "center-bedroom",
   "metadata": {},
   "source": [
    "Hay 18 columnas dentro de la tabla del tipo *object*"
   ]
  },
  {
   "cell_type": "code",
   "execution_count": 116,
   "id": "approved-lyric",
   "metadata": {},
   "outputs": [
    {
     "name": "stdout",
     "output_type": "stream",
     "text": [
      "Se han verificado todas las columnas\n"
     ]
    }
   ],
   "source": [
    "# Verifica que todas las columnas hayan sido analizadas\n",
    "if (sum([len(number_variables), len(category_variables), \n",
    "      len(dates_variables), len(string_variables)]) == empresa.shape[1]): \n",
    "    print('Se han verificado todas las columnas')\n",
    "else:\n",
    "    print('Faltan columnas por verificar')"
   ]
  },
  {
   "cell_type": "code",
   "execution_count": 117,
   "id": "pending-invite",
   "metadata": {},
   "outputs": [],
   "source": [
    "def get_repeated_values(df, col, top):\n",
    "    top_5 = df.groupby([col])[col]\\\n",
    "                    .count()\\\n",
    "                    .sort_values(ascending = False)\\\n",
    "                    .head()\n",
    "    indexes_top_5 = top_5.index\n",
    "    \n",
    "    if ((top == 1) and (len(indexes_top_5) > 0)):\n",
    "        return indexes_top_5[0]\n",
    "    elif ((top == 2) and (len(indexes_top_5) > 1)):\n",
    "        return indexes_top_5[1]\n",
    "    elif ((top == 3) and (len(indexes_top_5) > 2)):\n",
    "        return indexes_top_5[2]\n",
    "    else: \n",
    "        return 'undefined'"
   ]
  },
  {
   "cell_type": "code",
   "execution_count": 48,
   "id": "asian-developer",
   "metadata": {},
   "outputs": [],
   "source": [
    "# Función para ver el data profiling\n",
    "def category_profiling(df, col, profiling_dict):\n",
    "    \"\"\"\n",
    "    Profiling for categoric columns. \n",
    "    \n",
    "    :param: column to analyze\n",
    "    :return: dictionary\n",
    "    \"\"\"\n",
    "    profiling = {}\n",
    "\n",
    "    profiling.update({'mode': df[col].mode()[0],\n",
    "                     'num_categories': df[col].nunique(),\n",
    "                     'categories': df[col].unique(),\n",
    "                     #'uniques': df[col].nunique(),\n",
    "                     'missings': sum(df[col].isna())/df[col].size*100,\n",
    "                     'top1_repeated': get_repeated_values(df, col, 1),\n",
    "                     'top2_repeated': get_repeated_values(df, col, 2),\n",
    "                     'top3_repeated': get_repeated_values(df, col, 3)})\n",
    "    \n",
    "    profiling_dict.update({col: profiling})\n",
    "    \n",
    "    return profiling_dict"
   ]
  },
  {
   "cell_type": "code",
   "execution_count": 118,
   "id": "similar-baptist",
   "metadata": {},
   "outputs": [
    {
     "data": {
      "text/plain": [
       "[{'total_charges': {'mode': '20.2',\n",
       "   'num_categories': 6530,\n",
       "   'categories': array(['29.85', '1889.5', '108.15', ..., '346.45', '306.6', '6844.5'],\n",
       "         dtype=object),\n",
       "   'missings': 0.0,\n",
       "   'top1_repeated': '20.2',\n",
       "   'top2_repeated': '19.75',\n",
       "   'top3_repeated': '19.65'}}]"
      ]
     },
     "execution_count": 118,
     "metadata": {},
     "output_type": "execute_result"
    }
   ],
   "source": [
    "profiling_category_dict = {}\n",
    "\n",
    "category_profiling_output_tc = [category_profiling(empresa, \"total_charges\", profiling_category_dict)]\n",
    "category_profiling_output_tc"
   ]
  },
  {
   "cell_type": "code",
   "execution_count": 119,
   "id": "educated-suite",
   "metadata": {},
   "outputs": [
    {
     "data": {
      "text/plain": [
       "[{'contract': {'mode': 'Month-to-month',\n",
       "   'num_categories': 3,\n",
       "   'categories': array(['Month-to-month', 'One year', 'Two year'], dtype=object),\n",
       "   'missings': 0.0,\n",
       "   'top1_repeated': 'Month-to-month',\n",
       "   'top2_repeated': 'Two year',\n",
       "   'top3_repeated': 'One year'}}]"
      ]
     },
     "execution_count": 119,
     "metadata": {},
     "output_type": "execute_result"
    }
   ],
   "source": [
    "profiling_category_dict = {}\n",
    "\n",
    "category_profiling_output_tc = [category_profiling(empresa, \"contract\", profiling_category_dict)]\n",
    "category_profiling_output_tc"
   ]
  },
  {
   "cell_type": "code",
   "execution_count": 120,
   "id": "spiritual-nickname",
   "metadata": {},
   "outputs": [
    {
     "data": {
      "text/html": [
       "<div>\n",
       "<style scoped>\n",
       "    .dataframe tbody tr th:only-of-type {\n",
       "        vertical-align: middle;\n",
       "    }\n",
       "\n",
       "    .dataframe tbody tr th {\n",
       "        vertical-align: top;\n",
       "    }\n",
       "\n",
       "    .dataframe thead th {\n",
       "        text-align: right;\n",
       "    }\n",
       "</style>\n",
       "<table border=\"1\" class=\"dataframe\">\n",
       "  <thead>\n",
       "    <tr style=\"text-align: right;\">\n",
       "      <th></th>\n",
       "      <th>metric</th>\n",
       "      <th>total_charges</th>\n",
       "      <th>contract</th>\n",
       "    </tr>\n",
       "  </thead>\n",
       "  <tbody>\n",
       "    <tr>\n",
       "      <th>0</th>\n",
       "      <td>mode</td>\n",
       "      <td></td>\n",
       "      <td>Month-to-month</td>\n",
       "    </tr>\n",
       "    <tr>\n",
       "      <th>1</th>\n",
       "      <td>num_categories</td>\n",
       "      <td>6531</td>\n",
       "      <td>3</td>\n",
       "    </tr>\n",
       "    <tr>\n",
       "      <th>2</th>\n",
       "      <td>categories</td>\n",
       "      <td>[29.85, 1889.5, 108.15, 1840.75, 151.65, 820.5...</td>\n",
       "      <td>[Month-to-month, One year, Two year]</td>\n",
       "    </tr>\n",
       "    <tr>\n",
       "      <th>3</th>\n",
       "      <td>missings</td>\n",
       "      <td>0.0</td>\n",
       "      <td>0.0</td>\n",
       "    </tr>\n",
       "    <tr>\n",
       "      <th>4</th>\n",
       "      <td>top1_repeated</td>\n",
       "      <td></td>\n",
       "      <td>Month-to-month</td>\n",
       "    </tr>\n",
       "    <tr>\n",
       "      <th>5</th>\n",
       "      <td>top2_repeated</td>\n",
       "      <td>20.2</td>\n",
       "      <td>Two year</td>\n",
       "    </tr>\n",
       "    <tr>\n",
       "      <th>6</th>\n",
       "      <td>top3_repeated</td>\n",
       "      <td>19.75</td>\n",
       "      <td>One year</td>\n",
       "    </tr>\n",
       "  </tbody>\n",
       "</table>\n",
       "</div>"
      ],
      "text/plain": [
       "           metric                                      total_charges  \\\n",
       "0            mode                                                      \n",
       "1  num_categories                                               6531   \n",
       "2      categories  [29.85, 1889.5, 108.15, 1840.75, 151.65, 820.5...   \n",
       "3        missings                                                0.0   \n",
       "4   top1_repeated                                                      \n",
       "5   top2_repeated                                               20.2   \n",
       "6   top3_repeated                                              19.75   \n",
       "\n",
       "                               contract  \n",
       "0                        Month-to-month  \n",
       "1                                     3  \n",
       "2  [Month-to-month, One year, Two year]  \n",
       "3                                   0.0  \n",
       "4                        Month-to-month  \n",
       "5                              Two year  \n",
       "6                              One year  "
      ]
     },
     "execution_count": 120,
     "metadata": {},
     "output_type": "execute_result"
    }
   ],
   "source": [
    "#category_profiling_output\n",
    "df_category_profiling = pd.DataFrame(category_profiling_output[0]).reset_index()\n",
    "df_category_profiling.rename(columns={'index': 'metric'}, inplace=True)\n",
    "df_category_profiling"
   ]
  },
  {
   "cell_type": "markdown",
   "id": "directed-insertion",
   "metadata": {},
   "source": [
    "## INTERPRETACIÓN"
   ]
  },
  {
   "cell_type": "code",
   "execution_count": 121,
   "id": "prostate-accommodation",
   "metadata": {},
   "outputs": [],
   "source": [
    "def numeric_profiling(df, col, profiling_dict):\n",
    "    \"\"\"\n",
    "    Profiling for numeric columns. \n",
    "    \n",
    "    :param: column to analyze\n",
    "    :return: dictionary\n",
    "    \"\"\"\n",
    "    profiling = {}\n",
    "\n",
    "    profiling.update({'max': df[col].max(),\n",
    "                     'min': df[col].min(),\n",
    "                     'mean': df[col].mean(),\n",
    "                     'stdv': df[col].std(),\n",
    "                     '25%': df[col].quantile(.25),\n",
    "                     'median': df[col].median(),\n",
    "                     '75%': df[col].quantile(.75),\n",
    "                     'kurtosis': df[col].kurt(),\n",
    "                     'skewness': df[col].skew(),\n",
    "                     'uniques': df[col].nunique(),\n",
    "                     'prop_missings': sum(df[col].isna())/df[col].size*100,\n",
    "                     'top1_repeated': get_repeated_values(df, col, 1),\n",
    "                     'top2_repeated': get_repeated_values(df, col, 2),\n",
    "                     'top3_repeated': get_repeated_values(df, col, 3)})\n",
    "    \n",
    "    profiling_dict.update({col: profiling})\n",
    "    \n",
    "    return profiling_dict"
   ]
  },
  {
   "cell_type": "code",
   "execution_count": 122,
   "id": "pregnant-proxy",
   "metadata": {},
   "outputs": [],
   "source": [
    "profiling_dict = {}\n",
    "\n",
    "numeric_profiling_output = [numeric_profiling(empresa, \"senior_citizen\", profiling_dict)]\n",
    "numeric_profiling_output = [numeric_profiling(empresa, \"tenure\", profiling_dict)]\n",
    "numeric_profiling_output = [numeric_profiling(empresa, \"monthly_charges\", profiling_dict)]\n"
   ]
  },
  {
   "cell_type": "code",
   "execution_count": 123,
   "id": "romance-serial",
   "metadata": {},
   "outputs": [
    {
     "data": {
      "text/html": [
       "<div>\n",
       "<style scoped>\n",
       "    .dataframe tbody tr th:only-of-type {\n",
       "        vertical-align: middle;\n",
       "    }\n",
       "\n",
       "    .dataframe tbody tr th {\n",
       "        vertical-align: top;\n",
       "    }\n",
       "\n",
       "    .dataframe thead th {\n",
       "        text-align: right;\n",
       "    }\n",
       "</style>\n",
       "<table border=\"1\" class=\"dataframe\">\n",
       "  <thead>\n",
       "    <tr style=\"text-align: right;\">\n",
       "      <th></th>\n",
       "      <th>metric</th>\n",
       "      <th>senior_citizen</th>\n",
       "      <th>tenure</th>\n",
       "      <th>monthly_charges</th>\n",
       "    </tr>\n",
       "  </thead>\n",
       "  <tbody>\n",
       "    <tr>\n",
       "      <th>0</th>\n",
       "      <td>max</td>\n",
       "      <td>1</td>\n",
       "      <td>72.000000</td>\n",
       "      <td>118.750000</td>\n",
       "    </tr>\n",
       "    <tr>\n",
       "      <th>1</th>\n",
       "      <td>min</td>\n",
       "      <td>0</td>\n",
       "      <td>1.000000</td>\n",
       "      <td>18.250000</td>\n",
       "    </tr>\n",
       "    <tr>\n",
       "      <th>2</th>\n",
       "      <td>mean</td>\n",
       "      <td>0.1624</td>\n",
       "      <td>32.421786</td>\n",
       "      <td>64.798208</td>\n",
       "    </tr>\n",
       "    <tr>\n",
       "      <th>3</th>\n",
       "      <td>stdv</td>\n",
       "      <td>0.368844</td>\n",
       "      <td>24.545260</td>\n",
       "      <td>30.085974</td>\n",
       "    </tr>\n",
       "    <tr>\n",
       "      <th>4</th>\n",
       "      <td>25%</td>\n",
       "      <td>0.0</td>\n",
       "      <td>9.000000</td>\n",
       "      <td>35.587500</td>\n",
       "    </tr>\n",
       "    <tr>\n",
       "      <th>5</th>\n",
       "      <td>median</td>\n",
       "      <td>0.0</td>\n",
       "      <td>29.000000</td>\n",
       "      <td>70.350000</td>\n",
       "    </tr>\n",
       "    <tr>\n",
       "      <th>6</th>\n",
       "      <td>75%</td>\n",
       "      <td>0.0</td>\n",
       "      <td>55.000000</td>\n",
       "      <td>89.862500</td>\n",
       "    </tr>\n",
       "    <tr>\n",
       "      <th>7</th>\n",
       "      <td>kurtosis</td>\n",
       "      <td>1.353321</td>\n",
       "      <td>-1.387823</td>\n",
       "      <td>-1.256156</td>\n",
       "    </tr>\n",
       "    <tr>\n",
       "      <th>8</th>\n",
       "      <td>skewness</td>\n",
       "      <td>1.831103</td>\n",
       "      <td>0.237731</td>\n",
       "      <td>-0.222103</td>\n",
       "    </tr>\n",
       "    <tr>\n",
       "      <th>9</th>\n",
       "      <td>uniques</td>\n",
       "      <td>2</td>\n",
       "      <td>72.000000</td>\n",
       "      <td>1584.000000</td>\n",
       "    </tr>\n",
       "    <tr>\n",
       "      <th>10</th>\n",
       "      <td>prop_missings</td>\n",
       "      <td>0.0</td>\n",
       "      <td>0.000000</td>\n",
       "      <td>0.000000</td>\n",
       "    </tr>\n",
       "    <tr>\n",
       "      <th>11</th>\n",
       "      <td>top1_repeated</td>\n",
       "      <td>0</td>\n",
       "      <td>1.000000</td>\n",
       "      <td>20.050000</td>\n",
       "    </tr>\n",
       "    <tr>\n",
       "      <th>12</th>\n",
       "      <td>top2_repeated</td>\n",
       "      <td>1</td>\n",
       "      <td>72.000000</td>\n",
       "      <td>19.950000</td>\n",
       "    </tr>\n",
       "    <tr>\n",
       "      <th>13</th>\n",
       "      <td>top3_repeated</td>\n",
       "      <td>undefined</td>\n",
       "      <td>2.000000</td>\n",
       "      <td>19.900000</td>\n",
       "    </tr>\n",
       "  </tbody>\n",
       "</table>\n",
       "</div>"
      ],
      "text/plain": [
       "           metric senior_citizen     tenure  monthly_charges\n",
       "0             max              1  72.000000       118.750000\n",
       "1             min              0   1.000000        18.250000\n",
       "2            mean         0.1624  32.421786        64.798208\n",
       "3            stdv       0.368844  24.545260        30.085974\n",
       "4             25%            0.0   9.000000        35.587500\n",
       "5          median            0.0  29.000000        70.350000\n",
       "6             75%            0.0  55.000000        89.862500\n",
       "7        kurtosis       1.353321  -1.387823        -1.256156\n",
       "8        skewness       1.831103   0.237731        -0.222103\n",
       "9         uniques              2  72.000000      1584.000000\n",
       "10  prop_missings            0.0   0.000000         0.000000\n",
       "11  top1_repeated              0   1.000000        20.050000\n",
       "12  top2_repeated              1  72.000000        19.950000\n",
       "13  top3_repeated      undefined   2.000000        19.900000"
      ]
     },
     "execution_count": 123,
     "metadata": {},
     "output_type": "execute_result"
    }
   ],
   "source": [
    "df_numeric_profiling = pd.DataFrame(numeric_profiling_output[0]).reset_index()\n",
    "df_numeric_profiling.rename(columns={'index': 'metric'}, inplace=True)\n",
    "df_numeric_profiling"
   ]
  },
  {
   "cell_type": "markdown",
   "id": "local-persian",
   "metadata": {},
   "source": [
    "## INTERPRETACIÓN"
   ]
  },
  {
   "cell_type": "markdown",
   "id": "received-pulse",
   "metadata": {},
   "source": [
    "## 3. Genera un EDA con 4 gráficas\n"
   ]
  },
  {
   "cell_type": "markdown",
   "id": "circular-thailand",
   "metadata": {},
   "source": [
    "### Proporción de *churn* y *no churn*"
   ]
  },
  {
   "cell_type": "code",
   "execution_count": 100,
   "id": "choice-florida",
   "metadata": {},
   "outputs": [
    {
     "data": {
      "text/plain": [
       "Text(0, 0.5, 'Churn')"
      ]
     },
     "execution_count": 100,
     "metadata": {},
     "output_type": "execute_result"
    },
    {
     "data": {
      "image/png": "[encoded data removed]",
      "text/plain": [
       "<Figure size 432x288 with 1 Axes>"
      ]
     },
     "metadata": {
      "needs_background": "light"
     },
     "output_type": "display_data"
    }
   ],
   "source": [
    "sns.countplot(y=\"churn\", data=empresa).\\\n",
    "set_title(\"Proporción de Churn y No Churn\")\n",
    "plt.xlabel(\"Cantidad\")\n",
    "plt.ylabel(\"Churn\")"
   ]
  },
  {
   "cell_type": "markdown",
   "id": "varying-notion",
   "metadata": {},
   "source": [
    "**INTERPRETACIÓN**"
   ]
  },
  {
   "cell_type": "markdown",
   "id": "weird-explosion",
   "metadata": {},
   "source": [
    "### Distribución de la variable *totalcharges* por contract y churn"
   ]
  },
  {
   "cell_type": "code",
   "execution_count": 126,
   "id": "federal-march",
   "metadata": {},
   "outputs": [],
   "source": [
    "out=empresa['total_charges'].apply(lambda col:pd.to_numeric(col, errors='coerce'))"
   ]
  },
  {
   "cell_type": "code",
   "execution_count": 152,
   "id": "european-slope",
   "metadata": {},
   "outputs": [
    {
     "ename": "ValueError",
     "evalue": "Could not interpret input 'contract'",
     "output_type": "error",
     "traceback": [
      "\u001b[0;31m---------------------------------------------------------------------------\u001b[0m",
      "\u001b[0;31mValueError\u001b[0m                                Traceback (most recent call last)",
      "\u001b[0;32m<ipython-input-152-59940646879a>\u001b[0m in \u001b[0;36m<module>\u001b[0;34m\u001b[0m\n\u001b[1;32m      1\u001b[0m \u001b[0mfig_dims\u001b[0m\u001b[0;34m=\u001b[0m\u001b[0;34m(\u001b[0m\u001b[0;36m12\u001b[0m\u001b[0;34m,\u001b[0m \u001b[0;36m8\u001b[0m\u001b[0;34m)\u001b[0m\u001b[0;34m\u001b[0m\u001b[0;34m\u001b[0m\u001b[0m\n\u001b[1;32m      2\u001b[0m \u001b[0mfig\u001b[0m\u001b[0;34m,\u001b[0m \u001b[0max\u001b[0m\u001b[0;34m=\u001b[0m\u001b[0mplt\u001b[0m\u001b[0;34m.\u001b[0m\u001b[0msubplots\u001b[0m\u001b[0;34m(\u001b[0m\u001b[0mfigsize\u001b[0m\u001b[0;34m=\u001b[0m\u001b[0mfig_dims\u001b[0m\u001b[0;34m)\u001b[0m\u001b[0;34m\u001b[0m\u001b[0;34m\u001b[0m\u001b[0m\n\u001b[0;32m----> 3\u001b[0;31m \u001b[0msns\u001b[0m\u001b[0;34m.\u001b[0m\u001b[0mboxplot\u001b[0m\u001b[0;34m(\u001b[0m\u001b[0mdata\u001b[0m\u001b[0;34m=\u001b[0m\u001b[0mempresa\u001b[0m\u001b[0;34m,\u001b[0m \u001b[0mx\u001b[0m\u001b[0;34m=\u001b[0m\u001b[0;34m'contract'\u001b[0m\u001b[0;34m,\u001b[0m \u001b[0my\u001b[0m\u001b[0;34m=\u001b[0m\u001b[0mout\u001b[0m\u001b[0;34m,\u001b[0m \u001b[0mhue\u001b[0m \u001b[0;34m=\u001b[0m \u001b[0;34m'churn'\u001b[0m\u001b[0;34m,\u001b[0m \u001b[0mshowmeans\u001b[0m\u001b[0;34m=\u001b[0m\u001b[0;32mTrue\u001b[0m\u001b[0;34m,\u001b[0m \u001b[0mpalette\u001b[0m\u001b[0;34m=\u001b[0m\u001b[0;34m'muted'\u001b[0m\u001b[0;34m)\u001b[0m\u001b[0;31m\\\u001b[0m\u001b[0;34m\u001b[0m\u001b[0;34m\u001b[0m\u001b[0m\n\u001b[0m\u001b[1;32m      4\u001b[0m \u001b[0;34m.\u001b[0m\u001b[0mset_title\u001b[0m\u001b[0;34m(\u001b[0m\u001b[0;34m\"Distribución de los Total Charges por el Contract y el Churn\"\u001b[0m\u001b[0;34m)\u001b[0m\u001b[0;34m\u001b[0m\u001b[0;34m\u001b[0m\u001b[0m\n\u001b[1;32m      5\u001b[0m \u001b[0mplt\u001b[0m\u001b[0;34m.\u001b[0m\u001b[0mxlabel\u001b[0m\u001b[0;34m(\u001b[0m\u001b[0;34m\"Contract\"\u001b[0m\u001b[0;34m)\u001b[0m\u001b[0;34m\u001b[0m\u001b[0;34m\u001b[0m\u001b[0m\n",
      "\u001b[0;32m~/.pyenv/versions/itam_md/lib/python3.7/site-packages/seaborn/_decorators.py\u001b[0m in \u001b[0;36minner_f\u001b[0;34m(*args, **kwargs)\u001b[0m\n\u001b[1;32m     44\u001b[0m             )\n\u001b[1;32m     45\u001b[0m         \u001b[0mkwargs\u001b[0m\u001b[0;34m.\u001b[0m\u001b[0mupdate\u001b[0m\u001b[0;34m(\u001b[0m\u001b[0;34m{\u001b[0m\u001b[0mk\u001b[0m\u001b[0;34m:\u001b[0m \u001b[0marg\u001b[0m \u001b[0;32mfor\u001b[0m \u001b[0mk\u001b[0m\u001b[0;34m,\u001b[0m \u001b[0marg\u001b[0m \u001b[0;32min\u001b[0m \u001b[0mzip\u001b[0m\u001b[0;34m(\u001b[0m\u001b[0msig\u001b[0m\u001b[0;34m.\u001b[0m\u001b[0mparameters\u001b[0m\u001b[0;34m,\u001b[0m \u001b[0margs\u001b[0m\u001b[0;34m)\u001b[0m\u001b[0;34m}\u001b[0m\u001b[0;34m)\u001b[0m\u001b[0;34m\u001b[0m\u001b[0;34m\u001b[0m\u001b[0m\n\u001b[0;32m---> 46\u001b[0;31m         \u001b[0;32mreturn\u001b[0m \u001b[0mf\u001b[0m\u001b[0;34m(\u001b[0m\u001b[0;34m**\u001b[0m\u001b[0mkwargs\u001b[0m\u001b[0;34m)\u001b[0m\u001b[0;34m\u001b[0m\u001b[0;34m\u001b[0m\u001b[0m\n\u001b[0m\u001b[1;32m     47\u001b[0m     \u001b[0;32mreturn\u001b[0m \u001b[0minner_f\u001b[0m\u001b[0;34m\u001b[0m\u001b[0;34m\u001b[0m\u001b[0m\n\u001b[1;32m     48\u001b[0m \u001b[0;34m\u001b[0m\u001b[0m\n",
      "\u001b[0;32m~/.pyenv/versions/itam_md/lib/python3.7/site-packages/seaborn/categorical.py\u001b[0m in \u001b[0;36mboxplot\u001b[0;34m(x, y, hue, data, order, hue_order, orient, color, palette, saturation, width, dodge, fliersize, linewidth, whis, ax, **kwargs)\u001b[0m\n\u001b[1;32m   2240\u001b[0m     plotter = _BoxPlotter(x, y, hue, data, order, hue_order,\n\u001b[1;32m   2241\u001b[0m                           \u001b[0morient\u001b[0m\u001b[0;34m,\u001b[0m \u001b[0mcolor\u001b[0m\u001b[0;34m,\u001b[0m \u001b[0mpalette\u001b[0m\u001b[0;34m,\u001b[0m \u001b[0msaturation\u001b[0m\u001b[0;34m,\u001b[0m\u001b[0;34m\u001b[0m\u001b[0;34m\u001b[0m\u001b[0m\n\u001b[0;32m-> 2242\u001b[0;31m                           width, dodge, fliersize, linewidth)\n\u001b[0m\u001b[1;32m   2243\u001b[0m \u001b[0;34m\u001b[0m\u001b[0m\n\u001b[1;32m   2244\u001b[0m     \u001b[0;32mif\u001b[0m \u001b[0max\u001b[0m \u001b[0;32mis\u001b[0m \u001b[0;32mNone\u001b[0m\u001b[0;34m:\u001b[0m\u001b[0;34m\u001b[0m\u001b[0;34m\u001b[0m\u001b[0m\n",
      "\u001b[0;32m~/.pyenv/versions/itam_md/lib/python3.7/site-packages/seaborn/categorical.py\u001b[0m in \u001b[0;36m__init__\u001b[0;34m(self, x, y, hue, data, order, hue_order, orient, color, palette, saturation, width, dodge, fliersize, linewidth)\u001b[0m\n\u001b[1;32m    404\u001b[0m                  width, dodge, fliersize, linewidth):\n\u001b[1;32m    405\u001b[0m \u001b[0;34m\u001b[0m\u001b[0m\n\u001b[0;32m--> 406\u001b[0;31m         \u001b[0mself\u001b[0m\u001b[0;34m.\u001b[0m\u001b[0mestablish_variables\u001b[0m\u001b[0;34m(\u001b[0m\u001b[0mx\u001b[0m\u001b[0;34m,\u001b[0m \u001b[0my\u001b[0m\u001b[0;34m,\u001b[0m \u001b[0mhue\u001b[0m\u001b[0;34m,\u001b[0m \u001b[0mdata\u001b[0m\u001b[0;34m,\u001b[0m \u001b[0morient\u001b[0m\u001b[0;34m,\u001b[0m \u001b[0morder\u001b[0m\u001b[0;34m,\u001b[0m \u001b[0mhue_order\u001b[0m\u001b[0;34m)\u001b[0m\u001b[0;34m\u001b[0m\u001b[0;34m\u001b[0m\u001b[0m\n\u001b[0m\u001b[1;32m    407\u001b[0m         \u001b[0mself\u001b[0m\u001b[0;34m.\u001b[0m\u001b[0mestablish_colors\u001b[0m\u001b[0;34m(\u001b[0m\u001b[0mcolor\u001b[0m\u001b[0;34m,\u001b[0m \u001b[0mpalette\u001b[0m\u001b[0;34m,\u001b[0m \u001b[0msaturation\u001b[0m\u001b[0;34m)\u001b[0m\u001b[0;34m\u001b[0m\u001b[0;34m\u001b[0m\u001b[0m\n\u001b[1;32m    408\u001b[0m \u001b[0;34m\u001b[0m\u001b[0m\n",
      "\u001b[0;32m~/.pyenv/versions/itam_md/lib/python3.7/site-packages/seaborn/categorical.py\u001b[0m in \u001b[0;36mestablish_variables\u001b[0;34m(self, x, y, hue, data, orient, order, hue_order, units)\u001b[0m\n\u001b[1;32m    151\u001b[0m                 \u001b[0;32mif\u001b[0m \u001b[0misinstance\u001b[0m\u001b[0;34m(\u001b[0m\u001b[0mvar\u001b[0m\u001b[0;34m,\u001b[0m \u001b[0mstr\u001b[0m\u001b[0;34m)\u001b[0m\u001b[0;34m:\u001b[0m\u001b[0;34m\u001b[0m\u001b[0;34m\u001b[0m\u001b[0m\n\u001b[1;32m    152\u001b[0m                     \u001b[0merr\u001b[0m \u001b[0;34m=\u001b[0m \u001b[0;34m\"Could not interpret input '{}'\"\u001b[0m\u001b[0;34m.\u001b[0m\u001b[0mformat\u001b[0m\u001b[0;34m(\u001b[0m\u001b[0mvar\u001b[0m\u001b[0;34m)\u001b[0m\u001b[0;34m\u001b[0m\u001b[0;34m\u001b[0m\u001b[0m\n\u001b[0;32m--> 153\u001b[0;31m                     \u001b[0;32mraise\u001b[0m \u001b[0mValueError\u001b[0m\u001b[0;34m(\u001b[0m\u001b[0merr\u001b[0m\u001b[0;34m)\u001b[0m\u001b[0;34m\u001b[0m\u001b[0;34m\u001b[0m\u001b[0m\n\u001b[0m\u001b[1;32m    154\u001b[0m \u001b[0;34m\u001b[0m\u001b[0m\n\u001b[1;32m    155\u001b[0m             \u001b[0;31m# Figure out the plotting orientation\u001b[0m\u001b[0;34m\u001b[0m\u001b[0;34m\u001b[0m\u001b[0;34m\u001b[0m\u001b[0m\n",
      "\u001b[0;31mValueError\u001b[0m: Could not interpret input 'contract'"
     ]
    },
    {
     "data": {
      "image/png": "[encoded data removed]",
      "text/plain": [
       "<Figure size 864x576 with 1 Axes>"
      ]
     },
     "metadata": {
      "needs_background": "light"
     },
     "output_type": "display_data"
    }
   ],
   "source": [
    "fig_dims=(12, 8)\n",
    "fig, ax=plt.subplots(figsize=fig_dims)\n",
    "sns.boxplot(data=empresa, x='contract', y=out, hue = 'churn', showmeans=True, palette='muted')\\\n",
    ".set_title(\"Distribución de los Total Charges por el Contract y el Churn\")\n",
    "plt.xlabel(\"Contract\")\n",
    "plt.ylabel(\"Total Charges\")"
   ]
  },
  {
   "cell_type": "markdown",
   "id": "grave-following",
   "metadata": {},
   "source": [
    "**INTERPRETACIÓN**"
   ]
  },
  {
   "cell_type": "markdown",
   "id": "liberal-voice",
   "metadata": {},
   "source": [
    "### Distribución de la variable *monthlycharges* por contract y churn"
   ]
  },
  {
   "cell_type": "code",
   "execution_count": 129,
   "id": "transsexual-acquisition",
   "metadata": {},
   "outputs": [
    {
     "data": {
      "text/plain": [
       "Text(0, 0.5, 'Monthly Charges')"
      ]
     },
     "execution_count": 129,
     "metadata": {},
     "output_type": "execute_result"
    },
    {
     "data": {
      "image/png": "[encoded data removed]",
      "text/plain": [
       "<Figure size 432x288 with 1 Axes>"
      ]
     },
     "metadata": {
      "needs_background": "light"
     },
     "output_type": "display_data"
    }
   ],
   "source": [
    "fig_dims=(12, 8)\n",
    "fig, ax=plt.subplots(figsize=fig_dims)\n",
    "sns.boxplot(data=empresa, x='contract', y='monthly_charges', hue = 'churn', showmeans=True, palette='muted')\\\n",
    ".set_title(\"Distribución de los Monthly Charges por el Contract y el Churn\")\n",
    "plt.xlabel(\"Contract\")\n",
    "plt.ylabel(\"Monthly Charges\")"
   ]
  },
  {
   "cell_type": "markdown",
   "id": "discrete-completion",
   "metadata": {},
   "source": [
    "**INTERPRETACIÓN**"
   ]
  },
  {
   "cell_type": "markdown",
   "id": "stunning-expression",
   "metadata": {},
   "source": [
    "### Distribución de la variable monthlycharges por paymentmethod y churn"
   ]
  },
  {
   "cell_type": "code",
   "execution_count": 130,
   "id": "educational-wilson",
   "metadata": {},
   "outputs": [
    {
     "data": {
      "image/png": "[encoded data removed]",
      "text/plain": [
       "<Figure size 1728x216 with 4 Axes>"
      ]
     },
     "metadata": {
      "needs_background": "light"
     },
     "output_type": "display_data"
    }
   ],
   "source": [
    "d=sns.FacetGrid(empresa, col='payment_method', aspect=2)\n",
    "d.map_dataframe(sns.boxplot, x=\"monthly_charges\", y=\"churn\", showmeans=True)\n",
    "d.fig.suptitle('Distribución de los Monthly Charges por Payment Method y Churn')\n",
    "d.axes[0,0].set_xlabel('Monthly Charges')\n",
    "d.axes[0,1].set_xlabel('Monthly Charges')\n",
    "d.axes[0,2].set_xlabel('Monthly Charges')\n",
    "d.axes[0,3].set_xlabel('Monthly Charges')\n",
    "d.axes[0,0].set_ylabel('Churn')\n",
    "plt.tight_layout()"
   ]
  },
  {
   "cell_type": "markdown",
   "id": "proper-documentary",
   "metadata": {},
   "source": [
    "**INTERPRETACIÓN**"
   ]
  },
  {
   "cell_type": "markdown",
   "id": "peaceful-kruger",
   "metadata": {},
   "source": [
    "## Preprocesamiento"
   ]
  },
  {
   "cell_type": "markdown",
   "id": "unlike-harvard",
   "metadata": {},
   "source": [
    "Cambia las variables gender, seniorcitizen, partner, phoneservice, paperlessbilling y churn a variables binarias con valor posible 0 para el caso No y 1 para el caso Yes."
   ]
  },
  {
   "cell_type": "code",
   "execution_count": 131,
   "id": "generic-august",
   "metadata": {},
   "outputs": [
    {
     "data": {
      "text/html": [
       "<div>\n",
       "<style scoped>\n",
       "    .dataframe tbody tr th:only-of-type {\n",
       "        vertical-align: middle;\n",
       "    }\n",
       "\n",
       "    .dataframe tbody tr th {\n",
       "        vertical-align: top;\n",
       "    }\n",
       "\n",
       "    .dataframe thead th {\n",
       "        text-align: right;\n",
       "    }\n",
       "</style>\n",
       "<table border=\"1\" class=\"dataframe\">\n",
       "  <thead>\n",
       "    <tr style=\"text-align: right;\">\n",
       "      <th></th>\n",
       "      <th>customer_id</th>\n",
       "      <th>gender</th>\n",
       "      <th>senior_citizen</th>\n",
       "      <th>partner</th>\n",
       "      <th>dependents</th>\n",
       "      <th>tenure</th>\n",
       "      <th>phone_service</th>\n",
       "      <th>multiple_lines</th>\n",
       "      <th>internet_service</th>\n",
       "      <th>online_security</th>\n",
       "      <th>...</th>\n",
       "      <th>device_protection</th>\n",
       "      <th>tech_support</th>\n",
       "      <th>streaming_tv</th>\n",
       "      <th>streaming_movies</th>\n",
       "      <th>contract</th>\n",
       "      <th>paperless_billing</th>\n",
       "      <th>payment_method</th>\n",
       "      <th>monthly_charges</th>\n",
       "      <th>total_charges</th>\n",
       "      <th>churn</th>\n",
       "    </tr>\n",
       "  </thead>\n",
       "  <tbody>\n",
       "    <tr>\n",
       "      <th>0</th>\n",
       "      <td>7590-VHVEG</td>\n",
       "      <td>Female</td>\n",
       "      <td>0</td>\n",
       "      <td>Yes</td>\n",
       "      <td>No</td>\n",
       "      <td>1</td>\n",
       "      <td>No</td>\n",
       "      <td>No phone service</td>\n",
       "      <td>DSL</td>\n",
       "      <td>No</td>\n",
       "      <td>...</td>\n",
       "      <td>No</td>\n",
       "      <td>No</td>\n",
       "      <td>No</td>\n",
       "      <td>No</td>\n",
       "      <td>Month-to-month</td>\n",
       "      <td>Yes</td>\n",
       "      <td>Electronic check</td>\n",
       "      <td>29.85</td>\n",
       "      <td>29.85</td>\n",
       "      <td>No</td>\n",
       "    </tr>\n",
       "    <tr>\n",
       "      <th>1</th>\n",
       "      <td>5575-GNVDE</td>\n",
       "      <td>Male</td>\n",
       "      <td>0</td>\n",
       "      <td>No</td>\n",
       "      <td>No</td>\n",
       "      <td>34</td>\n",
       "      <td>Yes</td>\n",
       "      <td>No</td>\n",
       "      <td>DSL</td>\n",
       "      <td>Yes</td>\n",
       "      <td>...</td>\n",
       "      <td>Yes</td>\n",
       "      <td>No</td>\n",
       "      <td>No</td>\n",
       "      <td>No</td>\n",
       "      <td>One year</td>\n",
       "      <td>No</td>\n",
       "      <td>Mailed check</td>\n",
       "      <td>56.95</td>\n",
       "      <td>1889.5</td>\n",
       "      <td>No</td>\n",
       "    </tr>\n",
       "    <tr>\n",
       "      <th>2</th>\n",
       "      <td>3668-QPYBK</td>\n",
       "      <td>Male</td>\n",
       "      <td>0</td>\n",
       "      <td>No</td>\n",
       "      <td>No</td>\n",
       "      <td>2</td>\n",
       "      <td>Yes</td>\n",
       "      <td>No</td>\n",
       "      <td>DSL</td>\n",
       "      <td>Yes</td>\n",
       "      <td>...</td>\n",
       "      <td>No</td>\n",
       "      <td>No</td>\n",
       "      <td>No</td>\n",
       "      <td>No</td>\n",
       "      <td>Month-to-month</td>\n",
       "      <td>Yes</td>\n",
       "      <td>Mailed check</td>\n",
       "      <td>53.85</td>\n",
       "      <td>108.15</td>\n",
       "      <td>Yes</td>\n",
       "    </tr>\n",
       "    <tr>\n",
       "      <th>3</th>\n",
       "      <td>7795-CFOCW</td>\n",
       "      <td>Male</td>\n",
       "      <td>0</td>\n",
       "      <td>No</td>\n",
       "      <td>No</td>\n",
       "      <td>45</td>\n",
       "      <td>No</td>\n",
       "      <td>No phone service</td>\n",
       "      <td>DSL</td>\n",
       "      <td>Yes</td>\n",
       "      <td>...</td>\n",
       "      <td>Yes</td>\n",
       "      <td>Yes</td>\n",
       "      <td>No</td>\n",
       "      <td>No</td>\n",
       "      <td>One year</td>\n",
       "      <td>No</td>\n",
       "      <td>Bank transfer (automatic)</td>\n",
       "      <td>42.30</td>\n",
       "      <td>1840.75</td>\n",
       "      <td>No</td>\n",
       "    </tr>\n",
       "    <tr>\n",
       "      <th>4</th>\n",
       "      <td>9237-HQITU</td>\n",
       "      <td>Female</td>\n",
       "      <td>0</td>\n",
       "      <td>No</td>\n",
       "      <td>No</td>\n",
       "      <td>2</td>\n",
       "      <td>Yes</td>\n",
       "      <td>No</td>\n",
       "      <td>Fiber optic</td>\n",
       "      <td>No</td>\n",
       "      <td>...</td>\n",
       "      <td>No</td>\n",
       "      <td>No</td>\n",
       "      <td>No</td>\n",
       "      <td>No</td>\n",
       "      <td>Month-to-month</td>\n",
       "      <td>Yes</td>\n",
       "      <td>Electronic check</td>\n",
       "      <td>70.70</td>\n",
       "      <td>151.65</td>\n",
       "      <td>Yes</td>\n",
       "    </tr>\n",
       "    <tr>\n",
       "      <th>...</th>\n",
       "      <td>...</td>\n",
       "      <td>...</td>\n",
       "      <td>...</td>\n",
       "      <td>...</td>\n",
       "      <td>...</td>\n",
       "      <td>...</td>\n",
       "      <td>...</td>\n",
       "      <td>...</td>\n",
       "      <td>...</td>\n",
       "      <td>...</td>\n",
       "      <td>...</td>\n",
       "      <td>...</td>\n",
       "      <td>...</td>\n",
       "      <td>...</td>\n",
       "      <td>...</td>\n",
       "      <td>...</td>\n",
       "      <td>...</td>\n",
       "      <td>...</td>\n",
       "      <td>...</td>\n",
       "      <td>...</td>\n",
       "      <td>...</td>\n",
       "    </tr>\n",
       "    <tr>\n",
       "      <th>7027</th>\n",
       "      <td>6840-RESVB</td>\n",
       "      <td>Male</td>\n",
       "      <td>0</td>\n",
       "      <td>Yes</td>\n",
       "      <td>Yes</td>\n",
       "      <td>24</td>\n",
       "      <td>Yes</td>\n",
       "      <td>Yes</td>\n",
       "      <td>DSL</td>\n",
       "      <td>Yes</td>\n",
       "      <td>...</td>\n",
       "      <td>Yes</td>\n",
       "      <td>Yes</td>\n",
       "      <td>Yes</td>\n",
       "      <td>Yes</td>\n",
       "      <td>One year</td>\n",
       "      <td>Yes</td>\n",
       "      <td>Mailed check</td>\n",
       "      <td>84.80</td>\n",
       "      <td>1990.5</td>\n",
       "      <td>No</td>\n",
       "    </tr>\n",
       "    <tr>\n",
       "      <th>7028</th>\n",
       "      <td>2234-XADUH</td>\n",
       "      <td>Female</td>\n",
       "      <td>0</td>\n",
       "      <td>Yes</td>\n",
       "      <td>Yes</td>\n",
       "      <td>72</td>\n",
       "      <td>Yes</td>\n",
       "      <td>Yes</td>\n",
       "      <td>Fiber optic</td>\n",
       "      <td>No</td>\n",
       "      <td>...</td>\n",
       "      <td>Yes</td>\n",
       "      <td>No</td>\n",
       "      <td>Yes</td>\n",
       "      <td>Yes</td>\n",
       "      <td>One year</td>\n",
       "      <td>Yes</td>\n",
       "      <td>Credit card (automatic)</td>\n",
       "      <td>103.20</td>\n",
       "      <td>7362.9</td>\n",
       "      <td>No</td>\n",
       "    </tr>\n",
       "    <tr>\n",
       "      <th>7029</th>\n",
       "      <td>4801-JZAZL</td>\n",
       "      <td>Female</td>\n",
       "      <td>0</td>\n",
       "      <td>Yes</td>\n",
       "      <td>Yes</td>\n",
       "      <td>11</td>\n",
       "      <td>No</td>\n",
       "      <td>No phone service</td>\n",
       "      <td>DSL</td>\n",
       "      <td>Yes</td>\n",
       "      <td>...</td>\n",
       "      <td>No</td>\n",
       "      <td>No</td>\n",
       "      <td>No</td>\n",
       "      <td>No</td>\n",
       "      <td>Month-to-month</td>\n",
       "      <td>Yes</td>\n",
       "      <td>Electronic check</td>\n",
       "      <td>29.60</td>\n",
       "      <td>346.45</td>\n",
       "      <td>No</td>\n",
       "    </tr>\n",
       "    <tr>\n",
       "      <th>7030</th>\n",
       "      <td>8361-LTMKD</td>\n",
       "      <td>Male</td>\n",
       "      <td>1</td>\n",
       "      <td>Yes</td>\n",
       "      <td>No</td>\n",
       "      <td>4</td>\n",
       "      <td>Yes</td>\n",
       "      <td>Yes</td>\n",
       "      <td>Fiber optic</td>\n",
       "      <td>No</td>\n",
       "      <td>...</td>\n",
       "      <td>No</td>\n",
       "      <td>No</td>\n",
       "      <td>No</td>\n",
       "      <td>No</td>\n",
       "      <td>Month-to-month</td>\n",
       "      <td>Yes</td>\n",
       "      <td>Mailed check</td>\n",
       "      <td>74.40</td>\n",
       "      <td>306.6</td>\n",
       "      <td>Yes</td>\n",
       "    </tr>\n",
       "    <tr>\n",
       "      <th>7031</th>\n",
       "      <td>3186-AJIEK</td>\n",
       "      <td>Male</td>\n",
       "      <td>0</td>\n",
       "      <td>No</td>\n",
       "      <td>No</td>\n",
       "      <td>66</td>\n",
       "      <td>Yes</td>\n",
       "      <td>No</td>\n",
       "      <td>Fiber optic</td>\n",
       "      <td>Yes</td>\n",
       "      <td>...</td>\n",
       "      <td>Yes</td>\n",
       "      <td>Yes</td>\n",
       "      <td>Yes</td>\n",
       "      <td>Yes</td>\n",
       "      <td>Two year</td>\n",
       "      <td>Yes</td>\n",
       "      <td>Bank transfer (automatic)</td>\n",
       "      <td>105.65</td>\n",
       "      <td>6844.5</td>\n",
       "      <td>No</td>\n",
       "    </tr>\n",
       "  </tbody>\n",
       "</table>\n",
       "<p>7032 rows × 21 columns</p>\n",
       "</div>"
      ],
      "text/plain": [
       "     customer_id  gender  senior_citizen partner dependents  tenure  \\\n",
       "0     7590-VHVEG  Female               0     Yes         No       1   \n",
       "1     5575-GNVDE    Male               0      No         No      34   \n",
       "2     3668-QPYBK    Male               0      No         No       2   \n",
       "3     7795-CFOCW    Male               0      No         No      45   \n",
       "4     9237-HQITU  Female               0      No         No       2   \n",
       "...          ...     ...             ...     ...        ...     ...   \n",
       "7027  6840-RESVB    Male               0     Yes        Yes      24   \n",
       "7028  2234-XADUH  Female               0     Yes        Yes      72   \n",
       "7029  4801-JZAZL  Female               0     Yes        Yes      11   \n",
       "7030  8361-LTMKD    Male               1     Yes         No       4   \n",
       "7031  3186-AJIEK    Male               0      No         No      66   \n",
       "\n",
       "     phone_service    multiple_lines internet_service online_security  ...  \\\n",
       "0               No  No phone service              DSL              No  ...   \n",
       "1              Yes                No              DSL             Yes  ...   \n",
       "2              Yes                No              DSL             Yes  ...   \n",
       "3               No  No phone service              DSL             Yes  ...   \n",
       "4              Yes                No      Fiber optic              No  ...   \n",
       "...            ...               ...              ...             ...  ...   \n",
       "7027           Yes               Yes              DSL             Yes  ...   \n",
       "7028           Yes               Yes      Fiber optic              No  ...   \n",
       "7029            No  No phone service              DSL             Yes  ...   \n",
       "7030           Yes               Yes      Fiber optic              No  ...   \n",
       "7031           Yes                No      Fiber optic             Yes  ...   \n",
       "\n",
       "     device_protection tech_support streaming_tv streaming_movies  \\\n",
       "0                   No           No           No               No   \n",
       "1                  Yes           No           No               No   \n",
       "2                   No           No           No               No   \n",
       "3                  Yes          Yes           No               No   \n",
       "4                   No           No           No               No   \n",
       "...                ...          ...          ...              ...   \n",
       "7027               Yes          Yes          Yes              Yes   \n",
       "7028               Yes           No          Yes              Yes   \n",
       "7029                No           No           No               No   \n",
       "7030                No           No           No               No   \n",
       "7031               Yes          Yes          Yes              Yes   \n",
       "\n",
       "            contract paperless_billing             payment_method  \\\n",
       "0     Month-to-month               Yes           Electronic check   \n",
       "1           One year                No               Mailed check   \n",
       "2     Month-to-month               Yes               Mailed check   \n",
       "3           One year                No  Bank transfer (automatic)   \n",
       "4     Month-to-month               Yes           Electronic check   \n",
       "...              ...               ...                        ...   \n",
       "7027        One year               Yes               Mailed check   \n",
       "7028        One year               Yes    Credit card (automatic)   \n",
       "7029  Month-to-month               Yes           Electronic check   \n",
       "7030  Month-to-month               Yes               Mailed check   \n",
       "7031        Two year               Yes  Bank transfer (automatic)   \n",
       "\n",
       "     monthly_charges  total_charges churn  \n",
       "0              29.85          29.85    No  \n",
       "1              56.95         1889.5    No  \n",
       "2              53.85         108.15   Yes  \n",
       "3              42.30        1840.75    No  \n",
       "4              70.70         151.65   Yes  \n",
       "...              ...            ...   ...  \n",
       "7027           84.80         1990.5    No  \n",
       "7028          103.20         7362.9    No  \n",
       "7029           29.60         346.45    No  \n",
       "7030           74.40          306.6   Yes  \n",
       "7031          105.65         6844.5    No  \n",
       "\n",
       "[7032 rows x 21 columns]"
      ]
     },
     "execution_count": 131,
     "metadata": {},
     "output_type": "execute_result"
    }
   ],
   "source": [
    "empresa"
   ]
  },
  {
   "cell_type": "code",
   "execution_count": 132,
   "id": "surface-keyboard",
   "metadata": {},
   "outputs": [],
   "source": [
    "# Cambia los \"Yes\" a 1s y los \"No\" a 0s (Excepto gender en el que \"Female\" es 1 y \"Male\" es 0)\n",
    "empresa[\"gender\"].replace({\"Female\": 1, \"Male\": 0}, inplace = True)\n",
    "empresa[\"partner\"].replace({\"Yes\": 1, \"No\": 0}, inplace = True)\n",
    "empresa[\"phone_service\"].replace({\"Yes\": 1, \"No\": 0}, inplace = True)\n",
    "empresa[\"paperless_billing\"].replace({\"Yes\": 1, \"No\": 0}, inplace = True)\n",
    "empresa[\"churn\"].replace({\"Yes\": 1, \"No\": 0}, inplace = True)\n",
    "empresa[\"dependents\"].replace({\"Yes\": 1, \"No\": 0}, inplace = True)"
   ]
  },
  {
   "cell_type": "code",
   "execution_count": 133,
   "id": "attractive-panama",
   "metadata": {},
   "outputs": [
    {
     "data": {
      "text/html": [
       "<div>\n",
       "<style scoped>\n",
       "    .dataframe tbody tr th:only-of-type {\n",
       "        vertical-align: middle;\n",
       "    }\n",
       "\n",
       "    .dataframe tbody tr th {\n",
       "        vertical-align: top;\n",
       "    }\n",
       "\n",
       "    .dataframe thead th {\n",
       "        text-align: right;\n",
       "    }\n",
       "</style>\n",
       "<table border=\"1\" class=\"dataframe\">\n",
       "  <thead>\n",
       "    <tr style=\"text-align: right;\">\n",
       "      <th></th>\n",
       "      <th>customer_id</th>\n",
       "      <th>gender</th>\n",
       "      <th>senior_citizen</th>\n",
       "      <th>partner</th>\n",
       "      <th>dependents</th>\n",
       "      <th>tenure</th>\n",
       "      <th>phone_service</th>\n",
       "      <th>internet_service</th>\n",
       "      <th>online_security</th>\n",
       "      <th>online_backup</th>\n",
       "      <th>device_protection</th>\n",
       "      <th>tech_support</th>\n",
       "      <th>streaming_tv</th>\n",
       "      <th>streaming_movies</th>\n",
       "      <th>contract</th>\n",
       "      <th>paperless_billing</th>\n",
       "      <th>payment_method</th>\n",
       "      <th>monthly_charges</th>\n",
       "      <th>total_charges</th>\n",
       "      <th>churn</th>\n",
       "    </tr>\n",
       "    <tr>\n",
       "      <th>multiple_lines</th>\n",
       "      <th></th>\n",
       "      <th></th>\n",
       "      <th></th>\n",
       "      <th></th>\n",
       "      <th></th>\n",
       "      <th></th>\n",
       "      <th></th>\n",
       "      <th></th>\n",
       "      <th></th>\n",
       "      <th></th>\n",
       "      <th></th>\n",
       "      <th></th>\n",
       "      <th></th>\n",
       "      <th></th>\n",
       "      <th></th>\n",
       "      <th></th>\n",
       "      <th></th>\n",
       "      <th></th>\n",
       "      <th></th>\n",
       "      <th></th>\n",
       "    </tr>\n",
       "  </thead>\n",
       "  <tbody>\n",
       "    <tr>\n",
       "      <th>No</th>\n",
       "      <td>3385</td>\n",
       "      <td>3385</td>\n",
       "      <td>3385</td>\n",
       "      <td>3385</td>\n",
       "      <td>3385</td>\n",
       "      <td>3385</td>\n",
       "      <td>3385</td>\n",
       "      <td>3385</td>\n",
       "      <td>3385</td>\n",
       "      <td>3385</td>\n",
       "      <td>3385</td>\n",
       "      <td>3385</td>\n",
       "      <td>3385</td>\n",
       "      <td>3385</td>\n",
       "      <td>3385</td>\n",
       "      <td>3385</td>\n",
       "      <td>3385</td>\n",
       "      <td>3385</td>\n",
       "      <td>3385</td>\n",
       "      <td>3385</td>\n",
       "    </tr>\n",
       "    <tr>\n",
       "      <th>No phone service</th>\n",
       "      <td>680</td>\n",
       "      <td>680</td>\n",
       "      <td>680</td>\n",
       "      <td>680</td>\n",
       "      <td>680</td>\n",
       "      <td>680</td>\n",
       "      <td>680</td>\n",
       "      <td>680</td>\n",
       "      <td>680</td>\n",
       "      <td>680</td>\n",
       "      <td>680</td>\n",
       "      <td>680</td>\n",
       "      <td>680</td>\n",
       "      <td>680</td>\n",
       "      <td>680</td>\n",
       "      <td>680</td>\n",
       "      <td>680</td>\n",
       "      <td>680</td>\n",
       "      <td>680</td>\n",
       "      <td>680</td>\n",
       "    </tr>\n",
       "    <tr>\n",
       "      <th>Yes</th>\n",
       "      <td>2967</td>\n",
       "      <td>2967</td>\n",
       "      <td>2967</td>\n",
       "      <td>2967</td>\n",
       "      <td>2967</td>\n",
       "      <td>2967</td>\n",
       "      <td>2967</td>\n",
       "      <td>2967</td>\n",
       "      <td>2967</td>\n",
       "      <td>2967</td>\n",
       "      <td>2967</td>\n",
       "      <td>2967</td>\n",
       "      <td>2967</td>\n",
       "      <td>2967</td>\n",
       "      <td>2967</td>\n",
       "      <td>2967</td>\n",
       "      <td>2967</td>\n",
       "      <td>2967</td>\n",
       "      <td>2967</td>\n",
       "      <td>2967</td>\n",
       "    </tr>\n",
       "  </tbody>\n",
       "</table>\n",
       "</div>"
      ],
      "text/plain": [
       "                  customer_id  gender  senior_citizen  partner  dependents  \\\n",
       "multiple_lines                                                               \n",
       "No                       3385    3385            3385     3385        3385   \n",
       "No phone service          680     680             680      680         680   \n",
       "Yes                      2967    2967            2967     2967        2967   \n",
       "\n",
       "                  tenure  phone_service  internet_service  online_security  \\\n",
       "multiple_lines                                                               \n",
       "No                  3385           3385              3385             3385   \n",
       "No phone service     680            680               680              680   \n",
       "Yes                 2967           2967              2967             2967   \n",
       "\n",
       "                  online_backup  device_protection  tech_support  \\\n",
       "multiple_lines                                                     \n",
       "No                         3385               3385          3385   \n",
       "No phone service            680                680           680   \n",
       "Yes                        2967               2967          2967   \n",
       "\n",
       "                  streaming_tv  streaming_movies  contract  paperless_billing  \\\n",
       "multiple_lines                                                                  \n",
       "No                        3385              3385      3385               3385   \n",
       "No phone service           680               680       680                680   \n",
       "Yes                       2967              2967      2967               2967   \n",
       "\n",
       "                  payment_method  monthly_charges  total_charges  churn  \n",
       "multiple_lines                                                           \n",
       "No                          3385             3385           3385   3385  \n",
       "No phone service             680              680            680    680  \n",
       "Yes                         2967             2967           2967   2967  "
      ]
     },
     "execution_count": 133,
     "metadata": {},
     "output_type": "execute_result"
    }
   ],
   "source": [
    "empresa.groupby(['multiple_lines']).count() "
   ]
  },
  {
   "cell_type": "markdown",
   "id": "improved-bulgarian",
   "metadata": {},
   "source": [
    "Transforma las variables a una codificación de one hot encoding: multiplelines, internetservice, onlinesecurity, onlinebackup, deviceprotection, techsupport, streamingtv, streamingmovies, contract, paymentmethod."
   ]
  },
  {
   "cell_type": "code",
   "execution_count": 134,
   "id": "reflected-anatomy",
   "metadata": {},
   "outputs": [],
   "source": [
    "from sklearn.preprocessing import OneHotEncoder"
   ]
  },
  {
   "cell_type": "code",
   "execution_count": 135,
   "id": "ruled-frederick",
   "metadata": {},
   "outputs": [],
   "source": [
    "ohe = OneHotEncoder()\n",
    "ohe_df = pd.DataFrame()"
   ]
  },
  {
   "cell_type": "code",
   "execution_count": 136,
   "id": "initial-affiliate",
   "metadata": {},
   "outputs": [],
   "source": [
    "ohe_var = [\"multiple_lines\", \"internet_service\", \"online_security\", \"online_backup\", \"device_protection\", \n",
    "           \"tech_support\", \"streaming_tv\", \"streaming_movies\", \"contract\", \"payment_method\"]"
   ]
  },
  {
   "cell_type": "code",
   "execution_count": 137,
   "id": "hybrid-nature",
   "metadata": {},
   "outputs": [],
   "source": [
    "for i in range(len(ohe_var)):\n",
    "    columna = ohe_var[i]\n",
    "    ohe_ = ohe.fit_transform(empresa[columna].values.reshape(-1,1))\n",
    "    df_ohe = pd.DataFrame(list(ohe_.toarray()), columns = columna + \"_\" + empresa[columna].unique())\n",
    "    ohe_df = pd.merge(df_ohe, ohe_df, how=\"left\", left_index = True, right_index = True)"
   ]
  },
  {
   "cell_type": "code",
   "execution_count": 138,
   "id": "creative-spice",
   "metadata": {},
   "outputs": [
    {
     "data": {
      "text/html": [
       "<div>\n",
       "<style scoped>\n",
       "    .dataframe tbody tr th:only-of-type {\n",
       "        vertical-align: middle;\n",
       "    }\n",
       "\n",
       "    .dataframe tbody tr th {\n",
       "        vertical-align: top;\n",
       "    }\n",
       "\n",
       "    .dataframe thead th {\n",
       "        text-align: right;\n",
       "    }\n",
       "</style>\n",
       "<table border=\"1\" class=\"dataframe\">\n",
       "  <thead>\n",
       "    <tr style=\"text-align: right;\">\n",
       "      <th></th>\n",
       "      <th>payment_method_Electronic check</th>\n",
       "      <th>payment_method_Mailed check</th>\n",
       "      <th>payment_method_Bank transfer (automatic)</th>\n",
       "      <th>payment_method_Credit card (automatic)</th>\n",
       "      <th>contract_Month-to-month</th>\n",
       "      <th>contract_One year</th>\n",
       "      <th>contract_Two year</th>\n",
       "      <th>streaming_movies_No</th>\n",
       "      <th>streaming_movies_Yes</th>\n",
       "      <th>streaming_movies_No internet service</th>\n",
       "      <th>...</th>\n",
       "      <th>online_backup_No internet service</th>\n",
       "      <th>online_security_No</th>\n",
       "      <th>online_security_Yes</th>\n",
       "      <th>online_security_No internet service</th>\n",
       "      <th>internet_service_DSL</th>\n",
       "      <th>internet_service_Fiber optic</th>\n",
       "      <th>internet_service_No</th>\n",
       "      <th>multiple_lines_No phone service</th>\n",
       "      <th>multiple_lines_No</th>\n",
       "      <th>multiple_lines_Yes</th>\n",
       "    </tr>\n",
       "  </thead>\n",
       "  <tbody>\n",
       "    <tr>\n",
       "      <th>0</th>\n",
       "      <td>0.0</td>\n",
       "      <td>0.0</td>\n",
       "      <td>1.0</td>\n",
       "      <td>0.0</td>\n",
       "      <td>1.0</td>\n",
       "      <td>0.0</td>\n",
       "      <td>0.0</td>\n",
       "      <td>1.0</td>\n",
       "      <td>0.0</td>\n",
       "      <td>0.0</td>\n",
       "      <td>...</td>\n",
       "      <td>1.0</td>\n",
       "      <td>1.0</td>\n",
       "      <td>0.0</td>\n",
       "      <td>0.0</td>\n",
       "      <td>1.0</td>\n",
       "      <td>0.0</td>\n",
       "      <td>0.0</td>\n",
       "      <td>0.0</td>\n",
       "      <td>1.0</td>\n",
       "      <td>0.0</td>\n",
       "    </tr>\n",
       "    <tr>\n",
       "      <th>1</th>\n",
       "      <td>0.0</td>\n",
       "      <td>0.0</td>\n",
       "      <td>0.0</td>\n",
       "      <td>1.0</td>\n",
       "      <td>0.0</td>\n",
       "      <td>1.0</td>\n",
       "      <td>0.0</td>\n",
       "      <td>1.0</td>\n",
       "      <td>0.0</td>\n",
       "      <td>0.0</td>\n",
       "      <td>...</td>\n",
       "      <td>0.0</td>\n",
       "      <td>0.0</td>\n",
       "      <td>0.0</td>\n",
       "      <td>1.0</td>\n",
       "      <td>1.0</td>\n",
       "      <td>0.0</td>\n",
       "      <td>0.0</td>\n",
       "      <td>1.0</td>\n",
       "      <td>0.0</td>\n",
       "      <td>0.0</td>\n",
       "    </tr>\n",
       "    <tr>\n",
       "      <th>2</th>\n",
       "      <td>0.0</td>\n",
       "      <td>0.0</td>\n",
       "      <td>0.0</td>\n",
       "      <td>1.0</td>\n",
       "      <td>1.0</td>\n",
       "      <td>0.0</td>\n",
       "      <td>0.0</td>\n",
       "      <td>1.0</td>\n",
       "      <td>0.0</td>\n",
       "      <td>0.0</td>\n",
       "      <td>...</td>\n",
       "      <td>1.0</td>\n",
       "      <td>0.0</td>\n",
       "      <td>0.0</td>\n",
       "      <td>1.0</td>\n",
       "      <td>1.0</td>\n",
       "      <td>0.0</td>\n",
       "      <td>0.0</td>\n",
       "      <td>1.0</td>\n",
       "      <td>0.0</td>\n",
       "      <td>0.0</td>\n",
       "    </tr>\n",
       "    <tr>\n",
       "      <th>3</th>\n",
       "      <td>1.0</td>\n",
       "      <td>0.0</td>\n",
       "      <td>0.0</td>\n",
       "      <td>0.0</td>\n",
       "      <td>0.0</td>\n",
       "      <td>1.0</td>\n",
       "      <td>0.0</td>\n",
       "      <td>1.0</td>\n",
       "      <td>0.0</td>\n",
       "      <td>0.0</td>\n",
       "      <td>...</td>\n",
       "      <td>0.0</td>\n",
       "      <td>0.0</td>\n",
       "      <td>0.0</td>\n",
       "      <td>1.0</td>\n",
       "      <td>1.0</td>\n",
       "      <td>0.0</td>\n",
       "      <td>0.0</td>\n",
       "      <td>0.0</td>\n",
       "      <td>1.0</td>\n",
       "      <td>0.0</td>\n",
       "    </tr>\n",
       "    <tr>\n",
       "      <th>4</th>\n",
       "      <td>0.0</td>\n",
       "      <td>0.0</td>\n",
       "      <td>1.0</td>\n",
       "      <td>0.0</td>\n",
       "      <td>1.0</td>\n",
       "      <td>0.0</td>\n",
       "      <td>0.0</td>\n",
       "      <td>1.0</td>\n",
       "      <td>0.0</td>\n",
       "      <td>0.0</td>\n",
       "      <td>...</td>\n",
       "      <td>0.0</td>\n",
       "      <td>1.0</td>\n",
       "      <td>0.0</td>\n",
       "      <td>0.0</td>\n",
       "      <td>0.0</td>\n",
       "      <td>1.0</td>\n",
       "      <td>0.0</td>\n",
       "      <td>1.0</td>\n",
       "      <td>0.0</td>\n",
       "      <td>0.0</td>\n",
       "    </tr>\n",
       "    <tr>\n",
       "      <th>...</th>\n",
       "      <td>...</td>\n",
       "      <td>...</td>\n",
       "      <td>...</td>\n",
       "      <td>...</td>\n",
       "      <td>...</td>\n",
       "      <td>...</td>\n",
       "      <td>...</td>\n",
       "      <td>...</td>\n",
       "      <td>...</td>\n",
       "      <td>...</td>\n",
       "      <td>...</td>\n",
       "      <td>...</td>\n",
       "      <td>...</td>\n",
       "      <td>...</td>\n",
       "      <td>...</td>\n",
       "      <td>...</td>\n",
       "      <td>...</td>\n",
       "      <td>...</td>\n",
       "      <td>...</td>\n",
       "      <td>...</td>\n",
       "      <td>...</td>\n",
       "    </tr>\n",
       "    <tr>\n",
       "      <th>7027</th>\n",
       "      <td>0.0</td>\n",
       "      <td>0.0</td>\n",
       "      <td>0.0</td>\n",
       "      <td>1.0</td>\n",
       "      <td>0.0</td>\n",
       "      <td>1.0</td>\n",
       "      <td>0.0</td>\n",
       "      <td>0.0</td>\n",
       "      <td>0.0</td>\n",
       "      <td>1.0</td>\n",
       "      <td>...</td>\n",
       "      <td>0.0</td>\n",
       "      <td>0.0</td>\n",
       "      <td>0.0</td>\n",
       "      <td>1.0</td>\n",
       "      <td>1.0</td>\n",
       "      <td>0.0</td>\n",
       "      <td>0.0</td>\n",
       "      <td>0.0</td>\n",
       "      <td>0.0</td>\n",
       "      <td>1.0</td>\n",
       "    </tr>\n",
       "    <tr>\n",
       "      <th>7028</th>\n",
       "      <td>0.0</td>\n",
       "      <td>1.0</td>\n",
       "      <td>0.0</td>\n",
       "      <td>0.0</td>\n",
       "      <td>0.0</td>\n",
       "      <td>1.0</td>\n",
       "      <td>0.0</td>\n",
       "      <td>0.0</td>\n",
       "      <td>0.0</td>\n",
       "      <td>1.0</td>\n",
       "      <td>...</td>\n",
       "      <td>1.0</td>\n",
       "      <td>1.0</td>\n",
       "      <td>0.0</td>\n",
       "      <td>0.0</td>\n",
       "      <td>0.0</td>\n",
       "      <td>1.0</td>\n",
       "      <td>0.0</td>\n",
       "      <td>0.0</td>\n",
       "      <td>0.0</td>\n",
       "      <td>1.0</td>\n",
       "    </tr>\n",
       "    <tr>\n",
       "      <th>7029</th>\n",
       "      <td>0.0</td>\n",
       "      <td>0.0</td>\n",
       "      <td>1.0</td>\n",
       "      <td>0.0</td>\n",
       "      <td>1.0</td>\n",
       "      <td>0.0</td>\n",
       "      <td>0.0</td>\n",
       "      <td>1.0</td>\n",
       "      <td>0.0</td>\n",
       "      <td>0.0</td>\n",
       "      <td>...</td>\n",
       "      <td>0.0</td>\n",
       "      <td>0.0</td>\n",
       "      <td>0.0</td>\n",
       "      <td>1.0</td>\n",
       "      <td>1.0</td>\n",
       "      <td>0.0</td>\n",
       "      <td>0.0</td>\n",
       "      <td>0.0</td>\n",
       "      <td>1.0</td>\n",
       "      <td>0.0</td>\n",
       "    </tr>\n",
       "    <tr>\n",
       "      <th>7030</th>\n",
       "      <td>0.0</td>\n",
       "      <td>0.0</td>\n",
       "      <td>0.0</td>\n",
       "      <td>1.0</td>\n",
       "      <td>1.0</td>\n",
       "      <td>0.0</td>\n",
       "      <td>0.0</td>\n",
       "      <td>1.0</td>\n",
       "      <td>0.0</td>\n",
       "      <td>0.0</td>\n",
       "      <td>...</td>\n",
       "      <td>0.0</td>\n",
       "      <td>1.0</td>\n",
       "      <td>0.0</td>\n",
       "      <td>0.0</td>\n",
       "      <td>0.0</td>\n",
       "      <td>1.0</td>\n",
       "      <td>0.0</td>\n",
       "      <td>0.0</td>\n",
       "      <td>0.0</td>\n",
       "      <td>1.0</td>\n",
       "    </tr>\n",
       "    <tr>\n",
       "      <th>7031</th>\n",
       "      <td>1.0</td>\n",
       "      <td>0.0</td>\n",
       "      <td>0.0</td>\n",
       "      <td>0.0</td>\n",
       "      <td>0.0</td>\n",
       "      <td>0.0</td>\n",
       "      <td>1.0</td>\n",
       "      <td>0.0</td>\n",
       "      <td>0.0</td>\n",
       "      <td>1.0</td>\n",
       "      <td>...</td>\n",
       "      <td>0.0</td>\n",
       "      <td>0.0</td>\n",
       "      <td>0.0</td>\n",
       "      <td>1.0</td>\n",
       "      <td>0.0</td>\n",
       "      <td>1.0</td>\n",
       "      <td>0.0</td>\n",
       "      <td>1.0</td>\n",
       "      <td>0.0</td>\n",
       "      <td>0.0</td>\n",
       "    </tr>\n",
       "  </tbody>\n",
       "</table>\n",
       "<p>7032 rows × 31 columns</p>\n",
       "</div>"
      ],
      "text/plain": [
       "      payment_method_Electronic check  payment_method_Mailed check  \\\n",
       "0                                 0.0                          0.0   \n",
       "1                                 0.0                          0.0   \n",
       "2                                 0.0                          0.0   \n",
       "3                                 1.0                          0.0   \n",
       "4                                 0.0                          0.0   \n",
       "...                               ...                          ...   \n",
       "7027                              0.0                          0.0   \n",
       "7028                              0.0                          1.0   \n",
       "7029                              0.0                          0.0   \n",
       "7030                              0.0                          0.0   \n",
       "7031                              1.0                          0.0   \n",
       "\n",
       "      payment_method_Bank transfer (automatic)  \\\n",
       "0                                          1.0   \n",
       "1                                          0.0   \n",
       "2                                          0.0   \n",
       "3                                          0.0   \n",
       "4                                          1.0   \n",
       "...                                        ...   \n",
       "7027                                       0.0   \n",
       "7028                                       0.0   \n",
       "7029                                       1.0   \n",
       "7030                                       0.0   \n",
       "7031                                       0.0   \n",
       "\n",
       "      payment_method_Credit card (automatic)  contract_Month-to-month  \\\n",
       "0                                        0.0                      1.0   \n",
       "1                                        1.0                      0.0   \n",
       "2                                        1.0                      1.0   \n",
       "3                                        0.0                      0.0   \n",
       "4                                        0.0                      1.0   \n",
       "...                                      ...                      ...   \n",
       "7027                                     1.0                      0.0   \n",
       "7028                                     0.0                      0.0   \n",
       "7029                                     0.0                      1.0   \n",
       "7030                                     1.0                      1.0   \n",
       "7031                                     0.0                      0.0   \n",
       "\n",
       "      contract_One year  contract_Two year  streaming_movies_No  \\\n",
       "0                   0.0                0.0                  1.0   \n",
       "1                   1.0                0.0                  1.0   \n",
       "2                   0.0                0.0                  1.0   \n",
       "3                   1.0                0.0                  1.0   \n",
       "4                   0.0                0.0                  1.0   \n",
       "...                 ...                ...                  ...   \n",
       "7027                1.0                0.0                  0.0   \n",
       "7028                1.0                0.0                  0.0   \n",
       "7029                0.0                0.0                  1.0   \n",
       "7030                0.0                0.0                  1.0   \n",
       "7031                0.0                1.0                  0.0   \n",
       "\n",
       "      streaming_movies_Yes  streaming_movies_No internet service  ...  \\\n",
       "0                      0.0                                   0.0  ...   \n",
       "1                      0.0                                   0.0  ...   \n",
       "2                      0.0                                   0.0  ...   \n",
       "3                      0.0                                   0.0  ...   \n",
       "4                      0.0                                   0.0  ...   \n",
       "...                    ...                                   ...  ...   \n",
       "7027                   0.0                                   1.0  ...   \n",
       "7028                   0.0                                   1.0  ...   \n",
       "7029                   0.0                                   0.0  ...   \n",
       "7030                   0.0                                   0.0  ...   \n",
       "7031                   0.0                                   1.0  ...   \n",
       "\n",
       "      online_backup_No internet service  online_security_No  \\\n",
       "0                                   1.0                 1.0   \n",
       "1                                   0.0                 0.0   \n",
       "2                                   1.0                 0.0   \n",
       "3                                   0.0                 0.0   \n",
       "4                                   0.0                 1.0   \n",
       "...                                 ...                 ...   \n",
       "7027                                0.0                 0.0   \n",
       "7028                                1.0                 1.0   \n",
       "7029                                0.0                 0.0   \n",
       "7030                                0.0                 1.0   \n",
       "7031                                0.0                 0.0   \n",
       "\n",
       "      online_security_Yes  online_security_No internet service  \\\n",
       "0                     0.0                                  0.0   \n",
       "1                     0.0                                  1.0   \n",
       "2                     0.0                                  1.0   \n",
       "3                     0.0                                  1.0   \n",
       "4                     0.0                                  0.0   \n",
       "...                   ...                                  ...   \n",
       "7027                  0.0                                  1.0   \n",
       "7028                  0.0                                  0.0   \n",
       "7029                  0.0                                  1.0   \n",
       "7030                  0.0                                  0.0   \n",
       "7031                  0.0                                  1.0   \n",
       "\n",
       "      internet_service_DSL  internet_service_Fiber optic  internet_service_No  \\\n",
       "0                      1.0                           0.0                  0.0   \n",
       "1                      1.0                           0.0                  0.0   \n",
       "2                      1.0                           0.0                  0.0   \n",
       "3                      1.0                           0.0                  0.0   \n",
       "4                      0.0                           1.0                  0.0   \n",
       "...                    ...                           ...                  ...   \n",
       "7027                   1.0                           0.0                  0.0   \n",
       "7028                   0.0                           1.0                  0.0   \n",
       "7029                   1.0                           0.0                  0.0   \n",
       "7030                   0.0                           1.0                  0.0   \n",
       "7031                   0.0                           1.0                  0.0   \n",
       "\n",
       "      multiple_lines_No phone service  multiple_lines_No  multiple_lines_Yes  \n",
       "0                                 0.0                1.0                 0.0  \n",
       "1                                 1.0                0.0                 0.0  \n",
       "2                                 1.0                0.0                 0.0  \n",
       "3                                 0.0                1.0                 0.0  \n",
       "4                                 1.0                0.0                 0.0  \n",
       "...                               ...                ...                 ...  \n",
       "7027                              0.0                0.0                 1.0  \n",
       "7028                              0.0                0.0                 1.0  \n",
       "7029                              0.0                1.0                 0.0  \n",
       "7030                              0.0                0.0                 1.0  \n",
       "7031                              1.0                0.0                 0.0  \n",
       "\n",
       "[7032 rows x 31 columns]"
      ]
     },
     "execution_count": 138,
     "metadata": {},
     "output_type": "execute_result"
    }
   ],
   "source": [
    "ohe_df"
   ]
  },
  {
   "cell_type": "code",
   "execution_count": 139,
   "id": "voluntary-joshua",
   "metadata": {},
   "outputs": [],
   "source": [
    "empresa = empresa.drop(ohe_var, axis = 1)"
   ]
  },
  {
   "cell_type": "code",
   "execution_count": 140,
   "id": "blocked-perth",
   "metadata": {},
   "outputs": [],
   "source": [
    "empresa = pd.concat([empresa, ohe_df], axis=1)"
   ]
  },
  {
   "cell_type": "code",
   "execution_count": 141,
   "id": "equipped-encoding",
   "metadata": {},
   "outputs": [
    {
     "data": {
      "text/html": [
       "<div>\n",
       "<style scoped>\n",
       "    .dataframe tbody tr th:only-of-type {\n",
       "        vertical-align: middle;\n",
       "    }\n",
       "\n",
       "    .dataframe tbody tr th {\n",
       "        vertical-align: top;\n",
       "    }\n",
       "\n",
       "    .dataframe thead th {\n",
       "        text-align: right;\n",
       "    }\n",
       "</style>\n",
       "<table border=\"1\" class=\"dataframe\">\n",
       "  <thead>\n",
       "    <tr style=\"text-align: right;\">\n",
       "      <th></th>\n",
       "      <th>customer_id</th>\n",
       "      <th>gender</th>\n",
       "      <th>senior_citizen</th>\n",
       "      <th>partner</th>\n",
       "      <th>dependents</th>\n",
       "      <th>tenure</th>\n",
       "      <th>phone_service</th>\n",
       "      <th>paperless_billing</th>\n",
       "      <th>monthly_charges</th>\n",
       "      <th>total_charges</th>\n",
       "      <th>...</th>\n",
       "      <th>online_backup_No internet service</th>\n",
       "      <th>online_security_No</th>\n",
       "      <th>online_security_Yes</th>\n",
       "      <th>online_security_No internet service</th>\n",
       "      <th>internet_service_DSL</th>\n",
       "      <th>internet_service_Fiber optic</th>\n",
       "      <th>internet_service_No</th>\n",
       "      <th>multiple_lines_No phone service</th>\n",
       "      <th>multiple_lines_No</th>\n",
       "      <th>multiple_lines_Yes</th>\n",
       "    </tr>\n",
       "  </thead>\n",
       "  <tbody>\n",
       "    <tr>\n",
       "      <th>0</th>\n",
       "      <td>7590-VHVEG</td>\n",
       "      <td>1</td>\n",
       "      <td>0</td>\n",
       "      <td>1</td>\n",
       "      <td>0</td>\n",
       "      <td>1</td>\n",
       "      <td>0</td>\n",
       "      <td>1</td>\n",
       "      <td>29.85</td>\n",
       "      <td>29.85</td>\n",
       "      <td>...</td>\n",
       "      <td>1.0</td>\n",
       "      <td>1.0</td>\n",
       "      <td>0.0</td>\n",
       "      <td>0.0</td>\n",
       "      <td>1.0</td>\n",
       "      <td>0.0</td>\n",
       "      <td>0.0</td>\n",
       "      <td>0.0</td>\n",
       "      <td>1.0</td>\n",
       "      <td>0.0</td>\n",
       "    </tr>\n",
       "    <tr>\n",
       "      <th>1</th>\n",
       "      <td>5575-GNVDE</td>\n",
       "      <td>0</td>\n",
       "      <td>0</td>\n",
       "      <td>0</td>\n",
       "      <td>0</td>\n",
       "      <td>34</td>\n",
       "      <td>1</td>\n",
       "      <td>0</td>\n",
       "      <td>56.95</td>\n",
       "      <td>1889.5</td>\n",
       "      <td>...</td>\n",
       "      <td>0.0</td>\n",
       "      <td>0.0</td>\n",
       "      <td>0.0</td>\n",
       "      <td>1.0</td>\n",
       "      <td>1.0</td>\n",
       "      <td>0.0</td>\n",
       "      <td>0.0</td>\n",
       "      <td>1.0</td>\n",
       "      <td>0.0</td>\n",
       "      <td>0.0</td>\n",
       "    </tr>\n",
       "    <tr>\n",
       "      <th>2</th>\n",
       "      <td>3668-QPYBK</td>\n",
       "      <td>0</td>\n",
       "      <td>0</td>\n",
       "      <td>0</td>\n",
       "      <td>0</td>\n",
       "      <td>2</td>\n",
       "      <td>1</td>\n",
       "      <td>1</td>\n",
       "      <td>53.85</td>\n",
       "      <td>108.15</td>\n",
       "      <td>...</td>\n",
       "      <td>1.0</td>\n",
       "      <td>0.0</td>\n",
       "      <td>0.0</td>\n",
       "      <td>1.0</td>\n",
       "      <td>1.0</td>\n",
       "      <td>0.0</td>\n",
       "      <td>0.0</td>\n",
       "      <td>1.0</td>\n",
       "      <td>0.0</td>\n",
       "      <td>0.0</td>\n",
       "    </tr>\n",
       "    <tr>\n",
       "      <th>3</th>\n",
       "      <td>7795-CFOCW</td>\n",
       "      <td>0</td>\n",
       "      <td>0</td>\n",
       "      <td>0</td>\n",
       "      <td>0</td>\n",
       "      <td>45</td>\n",
       "      <td>0</td>\n",
       "      <td>0</td>\n",
       "      <td>42.30</td>\n",
       "      <td>1840.75</td>\n",
       "      <td>...</td>\n",
       "      <td>0.0</td>\n",
       "      <td>0.0</td>\n",
       "      <td>0.0</td>\n",
       "      <td>1.0</td>\n",
       "      <td>1.0</td>\n",
       "      <td>0.0</td>\n",
       "      <td>0.0</td>\n",
       "      <td>0.0</td>\n",
       "      <td>1.0</td>\n",
       "      <td>0.0</td>\n",
       "    </tr>\n",
       "    <tr>\n",
       "      <th>4</th>\n",
       "      <td>9237-HQITU</td>\n",
       "      <td>1</td>\n",
       "      <td>0</td>\n",
       "      <td>0</td>\n",
       "      <td>0</td>\n",
       "      <td>2</td>\n",
       "      <td>1</td>\n",
       "      <td>1</td>\n",
       "      <td>70.70</td>\n",
       "      <td>151.65</td>\n",
       "      <td>...</td>\n",
       "      <td>0.0</td>\n",
       "      <td>1.0</td>\n",
       "      <td>0.0</td>\n",
       "      <td>0.0</td>\n",
       "      <td>0.0</td>\n",
       "      <td>1.0</td>\n",
       "      <td>0.0</td>\n",
       "      <td>1.0</td>\n",
       "      <td>0.0</td>\n",
       "      <td>0.0</td>\n",
       "    </tr>\n",
       "  </tbody>\n",
       "</table>\n",
       "<p>5 rows × 42 columns</p>\n",
       "</div>"
      ],
      "text/plain": [
       "  customer_id  gender  senior_citizen  partner  dependents  tenure  \\\n",
       "0  7590-VHVEG       1               0        1           0       1   \n",
       "1  5575-GNVDE       0               0        0           0      34   \n",
       "2  3668-QPYBK       0               0        0           0       2   \n",
       "3  7795-CFOCW       0               0        0           0      45   \n",
       "4  9237-HQITU       1               0        0           0       2   \n",
       "\n",
       "   phone_service  paperless_billing  monthly_charges total_charges  ...  \\\n",
       "0              0                  1            29.85         29.85  ...   \n",
       "1              1                  0            56.95        1889.5  ...   \n",
       "2              1                  1            53.85        108.15  ...   \n",
       "3              0                  0            42.30       1840.75  ...   \n",
       "4              1                  1            70.70        151.65  ...   \n",
       "\n",
       "   online_backup_No internet service  online_security_No  online_security_Yes  \\\n",
       "0                                1.0                 1.0                  0.0   \n",
       "1                                0.0                 0.0                  0.0   \n",
       "2                                1.0                 0.0                  0.0   \n",
       "3                                0.0                 0.0                  0.0   \n",
       "4                                0.0                 1.0                  0.0   \n",
       "\n",
       "   online_security_No internet service  internet_service_DSL  \\\n",
       "0                                  0.0                   1.0   \n",
       "1                                  1.0                   1.0   \n",
       "2                                  1.0                   1.0   \n",
       "3                                  1.0                   1.0   \n",
       "4                                  0.0                   0.0   \n",
       "\n",
       "   internet_service_Fiber optic  internet_service_No  \\\n",
       "0                           0.0                  0.0   \n",
       "1                           0.0                  0.0   \n",
       "2                           0.0                  0.0   \n",
       "3                           0.0                  0.0   \n",
       "4                           1.0                  0.0   \n",
       "\n",
       "   multiple_lines_No phone service  multiple_lines_No  multiple_lines_Yes  \n",
       "0                              0.0                1.0                 0.0  \n",
       "1                              1.0                0.0                 0.0  \n",
       "2                              1.0                0.0                 0.0  \n",
       "3                              0.0                1.0                 0.0  \n",
       "4                              1.0                0.0                 0.0  \n",
       "\n",
       "[5 rows x 42 columns]"
      ]
     },
     "execution_count": 141,
     "metadata": {},
     "output_type": "execute_result"
    }
   ],
   "source": [
    "empresa.head()"
   ]
  },
  {
   "cell_type": "markdown",
   "id": "academic-james",
   "metadata": {},
   "source": [
    "## Modelado"
   ]
  },
  {
   "cell_type": "code",
   "execution_count": 142,
   "id": "restricted-bridge",
   "metadata": {},
   "outputs": [],
   "source": [
    "np.random.seed(210418)"
   ]
  },
  {
   "cell_type": "code",
   "execution_count": 143,
   "id": "stainless-metro",
   "metadata": {},
   "outputs": [
    {
     "data": {
      "text/plain": [
       "0       0\n",
       "1       0\n",
       "2       1\n",
       "3       0\n",
       "4       1\n",
       "       ..\n",
       "7027    0\n",
       "7028    0\n",
       "7029    0\n",
       "7030    1\n",
       "7031    0\n",
       "Name: churn, Length: 7032, dtype: int64"
      ]
     },
     "execution_count": 143,
     "metadata": {},
     "output_type": "execute_result"
    }
   ],
   "source": [
    "y = empresa.churn\n",
    "y"
   ]
  },
  {
   "cell_type": "code",
   "execution_count": 144,
   "id": "pediatric-orientation",
   "metadata": {},
   "outputs": [
    {
     "data": {
      "text/html": [
       "<div>\n",
       "<style scoped>\n",
       "    .dataframe tbody tr th:only-of-type {\n",
       "        vertical-align: middle;\n",
       "    }\n",
       "\n",
       "    .dataframe tbody tr th {\n",
       "        vertical-align: top;\n",
       "    }\n",
       "\n",
       "    .dataframe thead th {\n",
       "        text-align: right;\n",
       "    }\n",
       "</style>\n",
       "<table border=\"1\" class=\"dataframe\">\n",
       "  <thead>\n",
       "    <tr style=\"text-align: right;\">\n",
       "      <th></th>\n",
       "      <th>gender</th>\n",
       "      <th>senior_citizen</th>\n",
       "      <th>partner</th>\n",
       "      <th>dependents</th>\n",
       "      <th>tenure</th>\n",
       "      <th>phone_service</th>\n",
       "      <th>paperless_billing</th>\n",
       "      <th>monthly_charges</th>\n",
       "      <th>total_charges</th>\n",
       "      <th>payment_method_Electronic check</th>\n",
       "      <th>...</th>\n",
       "      <th>online_backup_No internet service</th>\n",
       "      <th>online_security_No</th>\n",
       "      <th>online_security_Yes</th>\n",
       "      <th>online_security_No internet service</th>\n",
       "      <th>internet_service_DSL</th>\n",
       "      <th>internet_service_Fiber optic</th>\n",
       "      <th>internet_service_No</th>\n",
       "      <th>multiple_lines_No phone service</th>\n",
       "      <th>multiple_lines_No</th>\n",
       "      <th>multiple_lines_Yes</th>\n",
       "    </tr>\n",
       "  </thead>\n",
       "  <tbody>\n",
       "    <tr>\n",
       "      <th>0</th>\n",
       "      <td>1</td>\n",
       "      <td>0</td>\n",
       "      <td>1</td>\n",
       "      <td>0</td>\n",
       "      <td>1</td>\n",
       "      <td>0</td>\n",
       "      <td>1</td>\n",
       "      <td>29.85</td>\n",
       "      <td>29.85</td>\n",
       "      <td>0.0</td>\n",
       "      <td>...</td>\n",
       "      <td>1.0</td>\n",
       "      <td>1.0</td>\n",
       "      <td>0.0</td>\n",
       "      <td>0.0</td>\n",
       "      <td>1.0</td>\n",
       "      <td>0.0</td>\n",
       "      <td>0.0</td>\n",
       "      <td>0.0</td>\n",
       "      <td>1.0</td>\n",
       "      <td>0.0</td>\n",
       "    </tr>\n",
       "    <tr>\n",
       "      <th>1</th>\n",
       "      <td>0</td>\n",
       "      <td>0</td>\n",
       "      <td>0</td>\n",
       "      <td>0</td>\n",
       "      <td>34</td>\n",
       "      <td>1</td>\n",
       "      <td>0</td>\n",
       "      <td>56.95</td>\n",
       "      <td>1889.5</td>\n",
       "      <td>0.0</td>\n",
       "      <td>...</td>\n",
       "      <td>0.0</td>\n",
       "      <td>0.0</td>\n",
       "      <td>0.0</td>\n",
       "      <td>1.0</td>\n",
       "      <td>1.0</td>\n",
       "      <td>0.0</td>\n",
       "      <td>0.0</td>\n",
       "      <td>1.0</td>\n",
       "      <td>0.0</td>\n",
       "      <td>0.0</td>\n",
       "    </tr>\n",
       "    <tr>\n",
       "      <th>2</th>\n",
       "      <td>0</td>\n",
       "      <td>0</td>\n",
       "      <td>0</td>\n",
       "      <td>0</td>\n",
       "      <td>2</td>\n",
       "      <td>1</td>\n",
       "      <td>1</td>\n",
       "      <td>53.85</td>\n",
       "      <td>108.15</td>\n",
       "      <td>0.0</td>\n",
       "      <td>...</td>\n",
       "      <td>1.0</td>\n",
       "      <td>0.0</td>\n",
       "      <td>0.0</td>\n",
       "      <td>1.0</td>\n",
       "      <td>1.0</td>\n",
       "      <td>0.0</td>\n",
       "      <td>0.0</td>\n",
       "      <td>1.0</td>\n",
       "      <td>0.0</td>\n",
       "      <td>0.0</td>\n",
       "    </tr>\n",
       "    <tr>\n",
       "      <th>3</th>\n",
       "      <td>0</td>\n",
       "      <td>0</td>\n",
       "      <td>0</td>\n",
       "      <td>0</td>\n",
       "      <td>45</td>\n",
       "      <td>0</td>\n",
       "      <td>0</td>\n",
       "      <td>42.30</td>\n",
       "      <td>1840.75</td>\n",
       "      <td>1.0</td>\n",
       "      <td>...</td>\n",
       "      <td>0.0</td>\n",
       "      <td>0.0</td>\n",
       "      <td>0.0</td>\n",
       "      <td>1.0</td>\n",
       "      <td>1.0</td>\n",
       "      <td>0.0</td>\n",
       "      <td>0.0</td>\n",
       "      <td>0.0</td>\n",
       "      <td>1.0</td>\n",
       "      <td>0.0</td>\n",
       "    </tr>\n",
       "    <tr>\n",
       "      <th>4</th>\n",
       "      <td>1</td>\n",
       "      <td>0</td>\n",
       "      <td>0</td>\n",
       "      <td>0</td>\n",
       "      <td>2</td>\n",
       "      <td>1</td>\n",
       "      <td>1</td>\n",
       "      <td>70.70</td>\n",
       "      <td>151.65</td>\n",
       "      <td>0.0</td>\n",
       "      <td>...</td>\n",
       "      <td>0.0</td>\n",
       "      <td>1.0</td>\n",
       "      <td>0.0</td>\n",
       "      <td>0.0</td>\n",
       "      <td>0.0</td>\n",
       "      <td>1.0</td>\n",
       "      <td>0.0</td>\n",
       "      <td>1.0</td>\n",
       "      <td>0.0</td>\n",
       "      <td>0.0</td>\n",
       "    </tr>\n",
       "    <tr>\n",
       "      <th>...</th>\n",
       "      <td>...</td>\n",
       "      <td>...</td>\n",
       "      <td>...</td>\n",
       "      <td>...</td>\n",
       "      <td>...</td>\n",
       "      <td>...</td>\n",
       "      <td>...</td>\n",
       "      <td>...</td>\n",
       "      <td>...</td>\n",
       "      <td>...</td>\n",
       "      <td>...</td>\n",
       "      <td>...</td>\n",
       "      <td>...</td>\n",
       "      <td>...</td>\n",
       "      <td>...</td>\n",
       "      <td>...</td>\n",
       "      <td>...</td>\n",
       "      <td>...</td>\n",
       "      <td>...</td>\n",
       "      <td>...</td>\n",
       "      <td>...</td>\n",
       "    </tr>\n",
       "    <tr>\n",
       "      <th>7027</th>\n",
       "      <td>0</td>\n",
       "      <td>0</td>\n",
       "      <td>1</td>\n",
       "      <td>1</td>\n",
       "      <td>24</td>\n",
       "      <td>1</td>\n",
       "      <td>1</td>\n",
       "      <td>84.80</td>\n",
       "      <td>1990.5</td>\n",
       "      <td>0.0</td>\n",
       "      <td>...</td>\n",
       "      <td>0.0</td>\n",
       "      <td>0.0</td>\n",
       "      <td>0.0</td>\n",
       "      <td>1.0</td>\n",
       "      <td>1.0</td>\n",
       "      <td>0.0</td>\n",
       "      <td>0.0</td>\n",
       "      <td>0.0</td>\n",
       "      <td>0.0</td>\n",
       "      <td>1.0</td>\n",
       "    </tr>\n",
       "    <tr>\n",
       "      <th>7028</th>\n",
       "      <td>1</td>\n",
       "      <td>0</td>\n",
       "      <td>1</td>\n",
       "      <td>1</td>\n",
       "      <td>72</td>\n",
       "      <td>1</td>\n",
       "      <td>1</td>\n",
       "      <td>103.20</td>\n",
       "      <td>7362.9</td>\n",
       "      <td>0.0</td>\n",
       "      <td>...</td>\n",
       "      <td>1.0</td>\n",
       "      <td>1.0</td>\n",
       "      <td>0.0</td>\n",
       "      <td>0.0</td>\n",
       "      <td>0.0</td>\n",
       "      <td>1.0</td>\n",
       "      <td>0.0</td>\n",
       "      <td>0.0</td>\n",
       "      <td>0.0</td>\n",
       "      <td>1.0</td>\n",
       "    </tr>\n",
       "    <tr>\n",
       "      <th>7029</th>\n",
       "      <td>1</td>\n",
       "      <td>0</td>\n",
       "      <td>1</td>\n",
       "      <td>1</td>\n",
       "      <td>11</td>\n",
       "      <td>0</td>\n",
       "      <td>1</td>\n",
       "      <td>29.60</td>\n",
       "      <td>346.45</td>\n",
       "      <td>0.0</td>\n",
       "      <td>...</td>\n",
       "      <td>0.0</td>\n",
       "      <td>0.0</td>\n",
       "      <td>0.0</td>\n",
       "      <td>1.0</td>\n",
       "      <td>1.0</td>\n",
       "      <td>0.0</td>\n",
       "      <td>0.0</td>\n",
       "      <td>0.0</td>\n",
       "      <td>1.0</td>\n",
       "      <td>0.0</td>\n",
       "    </tr>\n",
       "    <tr>\n",
       "      <th>7030</th>\n",
       "      <td>0</td>\n",
       "      <td>1</td>\n",
       "      <td>1</td>\n",
       "      <td>0</td>\n",
       "      <td>4</td>\n",
       "      <td>1</td>\n",
       "      <td>1</td>\n",
       "      <td>74.40</td>\n",
       "      <td>306.6</td>\n",
       "      <td>0.0</td>\n",
       "      <td>...</td>\n",
       "      <td>0.0</td>\n",
       "      <td>1.0</td>\n",
       "      <td>0.0</td>\n",
       "      <td>0.0</td>\n",
       "      <td>0.0</td>\n",
       "      <td>1.0</td>\n",
       "      <td>0.0</td>\n",
       "      <td>0.0</td>\n",
       "      <td>0.0</td>\n",
       "      <td>1.0</td>\n",
       "    </tr>\n",
       "    <tr>\n",
       "      <th>7031</th>\n",
       "      <td>0</td>\n",
       "      <td>0</td>\n",
       "      <td>0</td>\n",
       "      <td>0</td>\n",
       "      <td>66</td>\n",
       "      <td>1</td>\n",
       "      <td>1</td>\n",
       "      <td>105.65</td>\n",
       "      <td>6844.5</td>\n",
       "      <td>1.0</td>\n",
       "      <td>...</td>\n",
       "      <td>0.0</td>\n",
       "      <td>0.0</td>\n",
       "      <td>0.0</td>\n",
       "      <td>1.0</td>\n",
       "      <td>0.0</td>\n",
       "      <td>1.0</td>\n",
       "      <td>0.0</td>\n",
       "      <td>1.0</td>\n",
       "      <td>0.0</td>\n",
       "      <td>0.0</td>\n",
       "    </tr>\n",
       "  </tbody>\n",
       "</table>\n",
       "<p>7032 rows × 40 columns</p>\n",
       "</div>"
      ],
      "text/plain": [
       "      gender  senior_citizen  partner  dependents  tenure  phone_service  \\\n",
       "0          1               0        1           0       1              0   \n",
       "1          0               0        0           0      34              1   \n",
       "2          0               0        0           0       2              1   \n",
       "3          0               0        0           0      45              0   \n",
       "4          1               0        0           0       2              1   \n",
       "...      ...             ...      ...         ...     ...            ...   \n",
       "7027       0               0        1           1      24              1   \n",
       "7028       1               0        1           1      72              1   \n",
       "7029       1               0        1           1      11              0   \n",
       "7030       0               1        1           0       4              1   \n",
       "7031       0               0        0           0      66              1   \n",
       "\n",
       "      paperless_billing  monthly_charges total_charges  \\\n",
       "0                     1            29.85         29.85   \n",
       "1                     0            56.95        1889.5   \n",
       "2                     1            53.85        108.15   \n",
       "3                     0            42.30       1840.75   \n",
       "4                     1            70.70        151.65   \n",
       "...                 ...              ...           ...   \n",
       "7027                  1            84.80        1990.5   \n",
       "7028                  1           103.20        7362.9   \n",
       "7029                  1            29.60        346.45   \n",
       "7030                  1            74.40         306.6   \n",
       "7031                  1           105.65        6844.5   \n",
       "\n",
       "      payment_method_Electronic check  ...  online_backup_No internet service  \\\n",
       "0                                 0.0  ...                                1.0   \n",
       "1                                 0.0  ...                                0.0   \n",
       "2                                 0.0  ...                                1.0   \n",
       "3                                 1.0  ...                                0.0   \n",
       "4                                 0.0  ...                                0.0   \n",
       "...                               ...  ...                                ...   \n",
       "7027                              0.0  ...                                0.0   \n",
       "7028                              0.0  ...                                1.0   \n",
       "7029                              0.0  ...                                0.0   \n",
       "7030                              0.0  ...                                0.0   \n",
       "7031                              1.0  ...                                0.0   \n",
       "\n",
       "      online_security_No  online_security_Yes  \\\n",
       "0                    1.0                  0.0   \n",
       "1                    0.0                  0.0   \n",
       "2                    0.0                  0.0   \n",
       "3                    0.0                  0.0   \n",
       "4                    1.0                  0.0   \n",
       "...                  ...                  ...   \n",
       "7027                 0.0                  0.0   \n",
       "7028                 1.0                  0.0   \n",
       "7029                 0.0                  0.0   \n",
       "7030                 1.0                  0.0   \n",
       "7031                 0.0                  0.0   \n",
       "\n",
       "      online_security_No internet service  internet_service_DSL  \\\n",
       "0                                     0.0                   1.0   \n",
       "1                                     1.0                   1.0   \n",
       "2                                     1.0                   1.0   \n",
       "3                                     1.0                   1.0   \n",
       "4                                     0.0                   0.0   \n",
       "...                                   ...                   ...   \n",
       "7027                                  1.0                   1.0   \n",
       "7028                                  0.0                   0.0   \n",
       "7029                                  1.0                   1.0   \n",
       "7030                                  0.0                   0.0   \n",
       "7031                                  1.0                   0.0   \n",
       "\n",
       "      internet_service_Fiber optic  internet_service_No  \\\n",
       "0                              0.0                  0.0   \n",
       "1                              0.0                  0.0   \n",
       "2                              0.0                  0.0   \n",
       "3                              0.0                  0.0   \n",
       "4                              1.0                  0.0   \n",
       "...                            ...                  ...   \n",
       "7027                           0.0                  0.0   \n",
       "7028                           1.0                  0.0   \n",
       "7029                           0.0                  0.0   \n",
       "7030                           1.0                  0.0   \n",
       "7031                           1.0                  0.0   \n",
       "\n",
       "      multiple_lines_No phone service  multiple_lines_No  multiple_lines_Yes  \n",
       "0                                 0.0                1.0                 0.0  \n",
       "1                                 1.0                0.0                 0.0  \n",
       "2                                 1.0                0.0                 0.0  \n",
       "3                                 0.0                1.0                 0.0  \n",
       "4                                 1.0                0.0                 0.0  \n",
       "...                               ...                ...                 ...  \n",
       "7027                              0.0                0.0                 1.0  \n",
       "7028                              0.0                0.0                 1.0  \n",
       "7029                              0.0                1.0                 0.0  \n",
       "7030                              0.0                0.0                 1.0  \n",
       "7031                              1.0                0.0                 0.0  \n",
       "\n",
       "[7032 rows x 40 columns]"
      ]
     },
     "execution_count": 144,
     "metadata": {},
     "output_type": "execute_result"
    }
   ],
   "source": [
    "## Se quita la columna churn (es el target) y customer_id (causa conflicto en el árbol)\n",
    "X = empresa.drop(['churn', 'customer_id'], axis = 1)\n",
    "X"
   ]
  },
  {
   "cell_type": "code",
   "execution_count": 145,
   "id": "opposed-baker",
   "metadata": {},
   "outputs": [
    {
     "name": "stdout",
     "output_type": "stream",
     "text": [
      "entrenamiento: X: (5274, 40), y: (5274,)\n",
      "prueba: X: (1758, 40), y: (1758,)\n"
     ]
    }
   ],
   "source": [
    "## separando en train, test \n",
    "from sklearn.model_selection import train_test_split\n",
    "\n",
    "X_train, X_test, y_train, y_test = train_test_split(X, y, test_size=0.25)\n",
    "\n",
    "## verificando los tamaños de nuestros 4 sets\n",
    "print(\"entrenamiento: X: {}, y: {}\".format(X_train.shape, y_train.shape))\n",
    "print(\"prueba: X: {}, y: {}\".format(X_test.shape, y_test.shape))"
   ]
  },
  {
   "cell_type": "code",
   "execution_count": 146,
   "id": "constant-sensitivity",
   "metadata": {},
   "outputs": [
    {
     "name": "stdout",
     "output_type": "stream",
     "text": [
      "tiempo de ejecución en segundos: 30.846863985061646\n"
     ]
    },
    {
     "name": "stderr",
     "output_type": "stream",
     "text": [
      "/Users/lorenabarrera/.pyenv/versions/itam_md/lib/python3.7/site-packages/sklearn/ensemble/_forest.py:541: UserWarning: Some inputs do not have OOB scores. This probably means too few trees were used to compute any reliable oob estimates.\n",
      "  warn(\"Some inputs do not have OOB scores. \"\n",
      "/Users/lorenabarrera/.pyenv/versions/itam_md/lib/python3.7/site-packages/sklearn/ensemble/_forest.py:546: RuntimeWarning: invalid value encountered in true_divide\n",
      "  predictions[k].sum(axis=1)[:, np.newaxis])\n"
     ]
    }
   ],
   "source": [
    "## Configuración del Random Forest\n",
    "from sklearn.model_selection import GridSearchCV\n",
    "from sklearn.ensemble import RandomForestClassifier\n",
    "import time\n",
    "\n",
    "# n_estimators corresponde al número de árboles que queremos crear: 'n_estimators': [300, 500, 800, 1000],\n",
    "grid = {'n_estimators': [1], 'random_state': [5432], 'max_depth': [5, 7, 11], 'min_samples_leaf': [7, 9, 11, 13], \n",
    "        'criterion':['gini','entropy'] }\n",
    "\n",
    "rf = RandomForestClassifier(oob_score=True, n_jobs=-1)\n",
    "gs_rf = GridSearchCV(rf, grid, cv=5, scoring='recall', return_train_score=True, n_jobs=-1)\n",
    "\n",
    "start = time.time()\n",
    "# entrenando los random forest\n",
    "gs_rf.fit(X_train, y_train)\n",
    "print(\"tiempo de ejecución en segundos: {}\".format(time.time() - start))"
   ]
  },
  {
   "cell_type": "markdown",
   "id": "persistent-senior",
   "metadata": {},
   "source": [
    "Se generan **24 modelos**, es decir que se genera un modelo por cada combinación posible entre los parámetros dados. \n",
    "\n",
    "Por lo tanto: 1 x 1 x 3 x 4 x 2 = 24 modelos."
   ]
  },
  {
   "cell_type": "code",
   "execution_count": 147,
   "id": "scientific-exhibit",
   "metadata": {},
   "outputs": [
    {
     "data": {
      "text/plain": [
       "array([0.00000000e+00, 1.07417938e-02, 2.69602652e-03, 0.00000000e+00,\n",
       "       3.05566435e-02, 1.11771984e-05, 7.41650832e-03, 1.52345681e-01,\n",
       "       1.90973234e-01, 5.85248887e-04, 5.17627632e-04, 1.02583229e-02,\n",
       "       1.61484044e-03, 3.83476415e-03, 1.33088842e-02, 1.49145318e-01,\n",
       "       1.41869273e-04, 0.00000000e+00, 4.29207237e-03, 3.60917398e-03,\n",
       "       0.00000000e+00, 0.00000000e+00, 3.26547896e-02, 3.26290536e-03,\n",
       "       4.77429780e-03, 1.04000417e-02, 0.00000000e+00, 0.00000000e+00,\n",
       "       1.14955750e-02, 0.00000000e+00, 3.88426708e-03, 3.03482066e-01,\n",
       "       0.00000000e+00, 0.00000000e+00, 0.00000000e+00, 2.76273379e-02,\n",
       "       1.72866471e-02, 3.08288572e-03, 0.00000000e+00, 0.00000000e+00])"
      ]
     },
     "execution_count": 147,
     "metadata": {},
     "output_type": "execute_result"
    }
   ],
   "source": [
    "# mejor configuración \n",
    "importancias = gs_rf.best_estimator_.feature_importances_\n",
    "importancias"
   ]
  },
  {
   "cell_type": "code",
   "execution_count": 148,
   "id": "sudden-deficit",
   "metadata": {},
   "outputs": [
    {
     "data": {
      "text/plain": [
       "array([31,  8,  7])"
      ]
     },
     "execution_count": 148,
     "metadata": {},
     "output_type": "execute_result"
    }
   ],
   "source": [
    "# Índices de los más importantes (están ordenados de menor a mayor)\n",
    "imp_3 = np.argsort(importancias)[[-1, -2, -3]]\n",
    "imp_3"
   ]
  },
  {
   "cell_type": "code",
   "execution_count": 150,
   "id": "sorted-wesley",
   "metadata": {},
   "outputs": [
    {
     "data": {
      "text/plain": [
       "Index(['online_security_No', 'total_charges', 'monthly_charges'], dtype='object')"
      ]
     },
     "execution_count": 150,
     "metadata": {},
     "output_type": "execute_result"
    }
   ],
   "source": [
    "# Columnas importantes\n",
    "X.columns[imp_3]"
   ]
  },
  {
   "cell_type": "code",
   "execution_count": 151,
   "id": "threatened-pollution",
   "metadata": {},
   "outputs": [
    {
     "data": {
      "text/plain": [
       "array([0.30348207, 0.19097323, 0.15234568])"
      ]
     },
     "execution_count": 151,
     "metadata": {},
     "output_type": "execute_result"
    }
   ],
   "source": [
    "# Porcentaje de importancia de las columnas importantes\n",
    "importancias[imp_3]"
   ]
  },
  {
   "cell_type": "markdown",
   "id": "isolated-version",
   "metadata": {},
   "source": [
    "Las tres variables más importantes para la predicción son si no contrataron un servicio de seguridad online (online_security_No) con 30% de importancia; el total de cargos (total_charge) con 19% de importancia; y los cargos mensuales (monthly_charges) con 15% de importancia."
   ]
  },
  {
   "cell_type": "code",
   "execution_count": 153,
   "id": "quarterly-prevention",
   "metadata": {},
   "outputs": [
    {
     "data": {
      "text/plain": [
       "Index(['gender', 'partner', 'dependents', 'phone_service', 'paperless_billing',\n",
       "       'payment_method_Electronic check', 'payment_method_Mailed check',\n",
       "       'payment_method_Credit card (automatic)', 'contract_Month-to-month',\n",
       "       'streaming_movies_No', 'streaming_movies_Yes',\n",
       "       'streaming_movies_No internet service', 'streaming_tv_No',\n",
       "       'streaming_tv_Yes', 'streaming_tv_No internet service',\n",
       "       'tech_support_Yes', 'tech_support_No internet service',\n",
       "       'device_protection_Yes', 'device_protection_No internet service',\n",
       "       'online_backup_No', 'online_backup_No internet service',\n",
       "       'online_security_Yes', 'online_security_No internet service',\n",
       "       'internet_service_DSL', 'multiple_lines_No phone service',\n",
       "       'multiple_lines_No', 'multiple_lines_Yes'],\n",
       "      dtype='object')"
      ]
     },
     "execution_count": 153,
     "metadata": {},
     "output_type": "execute_result"
    }
   ],
   "source": [
    "# Variables que no importan\n",
    "no_imp = np.where(importancias < 0.01)\n",
    "var_no_imp = X.columns[no_imp]\n",
    "var_no_imp"
   ]
  },
  {
   "cell_type": "code",
   "execution_count": 154,
   "id": "communist-venture",
   "metadata": {},
   "outputs": [],
   "source": [
    "X_train = X_train.drop(var_no_imp, axis = 1)\n",
    "X_test = X_test.drop(var_no_imp, axis = 1)"
   ]
  },
  {
   "cell_type": "code",
   "execution_count": 155,
   "id": "armed-screen",
   "metadata": {
    "scrolled": true
   },
   "outputs": [
    {
     "data": {
      "text/html": [
       "<div>\n",
       "<style scoped>\n",
       "    .dataframe tbody tr th:only-of-type {\n",
       "        vertical-align: middle;\n",
       "    }\n",
       "\n",
       "    .dataframe tbody tr th {\n",
       "        vertical-align: top;\n",
       "    }\n",
       "\n",
       "    .dataframe thead th {\n",
       "        text-align: right;\n",
       "    }\n",
       "</style>\n",
       "<table border=\"1\" class=\"dataframe\">\n",
       "  <thead>\n",
       "    <tr style=\"text-align: right;\">\n",
       "      <th></th>\n",
       "      <th>senior_citizen</th>\n",
       "      <th>tenure</th>\n",
       "      <th>monthly_charges</th>\n",
       "      <th>total_charges</th>\n",
       "      <th>payment_method_Bank transfer (automatic)</th>\n",
       "      <th>contract_One year</th>\n",
       "      <th>contract_Two year</th>\n",
       "      <th>tech_support_No</th>\n",
       "      <th>device_protection_No</th>\n",
       "      <th>online_backup_Yes</th>\n",
       "      <th>online_security_No</th>\n",
       "      <th>internet_service_Fiber optic</th>\n",
       "      <th>internet_service_No</th>\n",
       "    </tr>\n",
       "  </thead>\n",
       "  <tbody>\n",
       "    <tr>\n",
       "      <th>5512</th>\n",
       "      <td>0</td>\n",
       "      <td>59</td>\n",
       "      <td>64.65</td>\n",
       "      <td>3735.45</td>\n",
       "      <td>1.0</td>\n",
       "      <td>0.0</td>\n",
       "      <td>0.0</td>\n",
       "      <td>0.0</td>\n",
       "      <td>0.0</td>\n",
       "      <td>1.0</td>\n",
       "      <td>1.0</td>\n",
       "      <td>0.0</td>\n",
       "      <td>0.0</td>\n",
       "    </tr>\n",
       "    <tr>\n",
       "      <th>6471</th>\n",
       "      <td>0</td>\n",
       "      <td>13</td>\n",
       "      <td>53.45</td>\n",
       "      <td>718.1</td>\n",
       "      <td>0.0</td>\n",
       "      <td>0.0</td>\n",
       "      <td>0.0</td>\n",
       "      <td>0.0</td>\n",
       "      <td>0.0</td>\n",
       "      <td>1.0</td>\n",
       "      <td>1.0</td>\n",
       "      <td>0.0</td>\n",
       "      <td>0.0</td>\n",
       "    </tr>\n",
       "    <tr>\n",
       "      <th>615</th>\n",
       "      <td>0</td>\n",
       "      <td>8</td>\n",
       "      <td>25.25</td>\n",
       "      <td>186.3</td>\n",
       "      <td>0.0</td>\n",
       "      <td>0.0</td>\n",
       "      <td>0.0</td>\n",
       "      <td>1.0</td>\n",
       "      <td>1.0</td>\n",
       "      <td>1.0</td>\n",
       "      <td>1.0</td>\n",
       "      <td>0.0</td>\n",
       "      <td>0.0</td>\n",
       "    </tr>\n",
       "    <tr>\n",
       "      <th>2521</th>\n",
       "      <td>0</td>\n",
       "      <td>1</td>\n",
       "      <td>19.40</td>\n",
       "      <td>19.4</td>\n",
       "      <td>0.0</td>\n",
       "      <td>0.0</td>\n",
       "      <td>0.0</td>\n",
       "      <td>0.0</td>\n",
       "      <td>0.0</td>\n",
       "      <td>0.0</td>\n",
       "      <td>0.0</td>\n",
       "      <td>0.0</td>\n",
       "      <td>1.0</td>\n",
       "    </tr>\n",
       "    <tr>\n",
       "      <th>571</th>\n",
       "      <td>0</td>\n",
       "      <td>11</td>\n",
       "      <td>64.90</td>\n",
       "      <td>697.25</td>\n",
       "      <td>0.0</td>\n",
       "      <td>1.0</td>\n",
       "      <td>0.0</td>\n",
       "      <td>0.0</td>\n",
       "      <td>0.0</td>\n",
       "      <td>1.0</td>\n",
       "      <td>1.0</td>\n",
       "      <td>0.0</td>\n",
       "      <td>0.0</td>\n",
       "    </tr>\n",
       "  </tbody>\n",
       "</table>\n",
       "</div>"
      ],
      "text/plain": [
       "      senior_citizen  tenure  monthly_charges total_charges  \\\n",
       "5512               0      59            64.65       3735.45   \n",
       "6471               0      13            53.45         718.1   \n",
       "615                0       8            25.25         186.3   \n",
       "2521               0       1            19.40          19.4   \n",
       "571                0      11            64.90        697.25   \n",
       "\n",
       "      payment_method_Bank transfer (automatic)  contract_One year  \\\n",
       "5512                                       1.0                0.0   \n",
       "6471                                       0.0                0.0   \n",
       "615                                        0.0                0.0   \n",
       "2521                                       0.0                0.0   \n",
       "571                                        0.0                1.0   \n",
       "\n",
       "      contract_Two year  tech_support_No  device_protection_No  \\\n",
       "5512                0.0              0.0                   0.0   \n",
       "6471                0.0              0.0                   0.0   \n",
       "615                 0.0              1.0                   1.0   \n",
       "2521                0.0              0.0                   0.0   \n",
       "571                 0.0              0.0                   0.0   \n",
       "\n",
       "      online_backup_Yes  online_security_No  internet_service_Fiber optic  \\\n",
       "5512                1.0                 1.0                           0.0   \n",
       "6471                1.0                 1.0                           0.0   \n",
       "615                 1.0                 1.0                           0.0   \n",
       "2521                0.0                 0.0                           0.0   \n",
       "571                 1.0                 1.0                           0.0   \n",
       "\n",
       "      internet_service_No  \n",
       "5512                  0.0  \n",
       "6471                  0.0  \n",
       "615                   0.0  \n",
       "2521                  1.0  \n",
       "571                   0.0  "
      ]
     },
     "execution_count": 155,
     "metadata": {},
     "output_type": "execute_result"
    }
   ],
   "source": [
    "X_train.head()"
   ]
  },
  {
   "cell_type": "markdown",
   "id": "alien-leader",
   "metadata": {},
   "source": [
    "No se debe volver a hacer un X_train y X_test porque la información con la que se ha trabajado se modificaría ya que se agregaría información que no debería tener y los resultados se verían sesgados."
   ]
  },
  {
   "cell_type": "code",
   "execution_count": 156,
   "id": "searching-astronomy",
   "metadata": {},
   "outputs": [
    {
     "name": "stdout",
     "output_type": "stream",
     "text": [
      "tiempo de ejecución en segundos: 1033.5921070575714\n"
     ]
    }
   ],
   "source": [
    "# n_estimators corresponde al número de árboles que queremos crear: \n",
    "grid = {'random_state': [7654], 'max_depth': [11, 13, 15], 'n_estimators': [500, 800, 1000], \n",
    "        'min_samples_leaf': [11, 13], 'criterion':['gini','entropy'] }\n",
    "\n",
    "rf = RandomForestClassifier(oob_score=True, n_jobs=-1)\n",
    "gs_rf = GridSearchCV(rf, grid, cv=5, scoring='recall', return_train_score=True, n_jobs=-1)\n",
    "\n",
    "start = time.time()\n",
    "# entrenando los random forest\n",
    "gs_rf.fit(X_train, y_train)\n",
    "print(\"tiempo de ejecución en segundos: {}\".format(time.time() - start))"
   ]
  },
  {
   "cell_type": "markdown",
   "id": "dependent-inflation",
   "metadata": {},
   "source": [
    "Se generan **36 modelos**, es decir que se genera un modelo por cada combinación posible entre los parámetros dados. \n",
    "\n",
    "Por lo tanto: 1 x 3 x 3 x 2 x 2 = 36 modelos."
   ]
  },
  {
   "cell_type": "code",
   "execution_count": 158,
   "id": "entitled-frontier",
   "metadata": {},
   "outputs": [
    {
     "data": {
      "text/plain": [
       "array([0.01058888, 0.19137702, 0.12455522, 0.15556834, 0.04538903,\n",
       "       0.0425809 , 0.10888585, 0.08786886, 0.01718693, 0.02730141,\n",
       "       0.09334746, 0.08444602, 0.01090408])"
      ]
     },
     "execution_count": 158,
     "metadata": {},
     "output_type": "execute_result"
    }
   ],
   "source": [
    "# mejor configuración \n",
    "importancias_rf = gs_rf.best_estimator_.feature_importances_\n",
    "importancias_rf"
   ]
  },
  {
   "cell_type": "code",
   "execution_count": 159,
   "id": "marine-vacuum",
   "metadata": {},
   "outputs": [
    {
     "data": {
      "text/plain": [
       "1"
      ]
     },
     "execution_count": 159,
     "metadata": {},
     "output_type": "execute_result"
    }
   ],
   "source": [
    "# Índice del más importantes (están ordenados de menor a mayor)\n",
    "imp = np.argsort(importancias_rf)[-1]\n",
    "imp"
   ]
  },
  {
   "cell_type": "code",
   "execution_count": 160,
   "id": "technical-boring",
   "metadata": {},
   "outputs": [
    {
     "data": {
      "text/plain": [
       "'tenure'"
      ]
     },
     "execution_count": 160,
     "metadata": {},
     "output_type": "execute_result"
    }
   ],
   "source": [
    "X_train.columns[imp]"
   ]
  },
  {
   "cell_type": "code",
   "execution_count": 161,
   "id": "economic-intranet",
   "metadata": {},
   "outputs": [
    {
     "data": {
      "text/plain": [
       "0.19137701598294882"
      ]
     },
     "execution_count": 161,
     "metadata": {},
     "output_type": "execute_result"
    }
   ],
   "source": [
    "importancias_rf[imp]"
   ]
  },
  {
   "cell_type": "markdown",
   "id": "latin-mirror",
   "metadata": {},
   "source": [
    "La variable raíz para el modelo es **tenure** con un porcentaje de 19% de información proporcionada."
   ]
  },
  {
   "cell_type": "markdown",
   "id": "fifty-opposition",
   "metadata": {},
   "source": [
    "Los mejores hiperparámetros para el modelo son:"
   ]
  },
  {
   "cell_type": "code",
   "execution_count": 162,
   "id": "royal-indonesian",
   "metadata": {},
   "outputs": [
    {
     "data": {
      "text/plain": [
       "RandomForestClassifier(criterion='entropy', max_depth=11, min_samples_leaf=11,\n",
       "                       n_estimators=500, n_jobs=-1, oob_score=True,\n",
       "                       random_state=7654)"
      ]
     },
     "execution_count": 162,
     "metadata": {},
     "output_type": "execute_result"
    }
   ],
   "source": [
    "# mejor configuración \n",
    "gs_rf.best_estimator_"
   ]
  },
  {
   "cell_type": "markdown",
   "id": "usual-region",
   "metadata": {},
   "source": [
    "### Predicción"
   ]
  },
  {
   "cell_type": "code",
   "execution_count": 163,
   "id": "loving-regulation",
   "metadata": {},
   "outputs": [
    {
     "data": {
      "text/plain": [
       "array([0, 0, 0, 0, 0, 0, 0, 1, 0, 1])"
      ]
     },
     "execution_count": 163,
     "metadata": {},
     "output_type": "execute_result"
    }
   ],
   "source": [
    "# predicciones con el mejor predictor \n",
    "predicted_labels = gs_rf.predict(X_test)\n",
    "predicted_labels[:10]"
   ]
  },
  {
   "cell_type": "code",
   "execution_count": 164,
   "id": "monthly-improvement",
   "metadata": {},
   "outputs": [
    {
     "data": {
      "text/plain": [
       "array([[0.96862918, 0.03137082],\n",
       "       [0.93928805, 0.06071195],\n",
       "       [0.91360181, 0.08639819],\n",
       "       [0.99027042, 0.00972958],\n",
       "       [0.92553951, 0.07446049],\n",
       "       [0.94806406, 0.05193594],\n",
       "       [0.9441916 , 0.0558084 ],\n",
       "       [0.462827  , 0.537173  ],\n",
       "       [0.63712318, 0.36287682],\n",
       "       [0.35594067, 0.64405933]])"
      ]
     },
     "execution_count": 164,
     "metadata": {},
     "output_type": "execute_result"
    }
   ],
   "source": [
    "# predicciones en score con el mejor predictor\n",
    "predicted_scores = gs_rf.predict_proba(X_test)\n",
    "predicted_scores[:10]"
   ]
  },
  {
   "cell_type": "markdown",
   "id": "native-mechanics",
   "metadata": {},
   "source": [
    "### ROC"
   ]
  },
  {
   "cell_type": "code",
   "execution_count": 165,
   "id": "right-chile",
   "metadata": {},
   "outputs": [
    {
     "data": {
      "image/png": "[encoded data removed]",
      "text/plain": [
       "<Figure size 432x288 with 1 Axes>"
      ]
     },
     "metadata": {
      "needs_background": "light"
     },
     "output_type": "display_data"
    }
   ],
   "source": [
    "from sklearn.metrics import roc_curve, roc_auc_score\n",
    "\n",
    "import matplotlib.pyplot as plt\n",
    "\n",
    "%matplotlib inline\n",
    "\n",
    "fpr, tpr, thresholds = roc_curve(y_test, predicted_scores[:,1], pos_label=1)\n",
    "\n",
    "plt.clf()\n",
    "plt.plot([0,1],[0,1], 'k--', c=\"red\")\n",
    "plt.plot(fpr, tpr)\n",
    "plt.title(\"ROC best RF, AUC: {}\".format(roc_auc_score(y_test, predicted_labels)))\n",
    "plt.xlabel(\"fpr\")\n",
    "plt.ylabel(\"tpr\")\n",
    "plt.show()"
   ]
  },
  {
   "cell_type": "markdown",
   "id": "thrown-eligibility",
   "metadata": {},
   "source": [
    "La curva ROC está por encima del ángulo de 45ºy el AUC de nuestro modelo es de 0.67. Entonces, existe un 67% de probabilidad de que el modelo sea capaz de distinguir una muestra positiva y una muestra negativa. Por lo tanto, el modelo tiene un buen desempeño para predecir qué clientes harán *churn*."
   ]
  },
  {
   "cell_type": "code",
   "execution_count": 168,
   "id": "alive-earth",
   "metadata": {},
   "outputs": [
    {
     "data": {
      "text/plain": [
       "<Figure size 432x288 with 0 Axes>"
      ]
     },
     "metadata": {},
     "output_type": "display_data"
    },
    {
     "data": {
      "image/png": "[encoded data removed]",
      "text/plain": [
       "<Figure size 432x288 with 1 Axes>"
      ]
     },
     "metadata": {
      "needs_background": "light"
     },
     "output_type": "display_data"
    }
   ],
   "source": [
    "#### Precision, recall, thresholds\n",
    "from sklearn.metrics import precision_recall_curve\n",
    "from sklearn.metrics import plot_precision_recall_curve\n",
    "\n",
    "precision, recall, thresholds_2 = precision_recall_curve(y_test, predicted_scores[:,1], pos_label=1)\n",
    "thresholds_2 = np.append(thresholds_2, 1)\n",
    "(precision.shape, recall.shape, thresholds_2.shape)\n",
    "\n",
    "plt.clf()\n",
    "plot_precision_recall_curve(gs_rf, X_test, y_test)\n",
    "plt.title(\"Precision-recall curve\")\n",
    "plt.xlabel(\"recall\")\n",
    "plt.ylabel(\"precision\")\n",
    "plt.show()"
   ]
  },
  {
   "cell_type": "code",
   "execution_count": null,
   "id": "north-neighborhood",
   "metadata": {},
   "outputs": [],
   "source": [
    "\n"
   ]
  },
  {
   "cell_type": "code",
   "execution_count": null,
   "id": "innovative-transformation",
   "metadata": {},
   "outputs": [],
   "source": [
    "def get_metrics_report(fpr, tpr, thresholds, precision, recall, thresholds_2):\n",
    "    df_1 = pd.DataFrame({'threshold': thresholds_2,'precision': precision,\n",
    "                    'recall': recall})\n",
    "    df_1['f1_score'] = 2 * (df_1.precision * df_1.recall) / (df_1.precision + df_1.recall)\n",
    "    \n",
    "    df_2 = pd.DataFrame({'tpr': tpr, 'fpr': fpr, 'threshold': thresholds})\n",
    "    df_2['tnr'] = 1 - df_2['fpr']\n",
    "    df_2['fnr'] = 1 - df_2['tpr']\n",
    "    \n",
    "    df = df_1.merge(df_2, on=\"threshold\")\n",
    "    \n",
    "    return df"
   ]
  },
  {
   "cell_type": "code",
   "execution_count": null,
   "id": "pleased-assumption",
   "metadata": {},
   "outputs": [],
   "source": [
    "metrics_report = get_metrics_report(fpr, tpr, thresholds, precision, recall, thresholds_2)\n",
    "metrics_report"
   ]
  },
  {
   "cell_type": "code",
   "execution_count": null,
   "id": "sized-missouri",
   "metadata": {},
   "outputs": [],
   "source": [
    "negocio = metrics_report[metrics_report.fpr <= 0.02]\n",
    "negocio"
   ]
  },
  {
   "cell_type": "code",
   "execution_count": null,
   "id": "pediatric-average",
   "metadata": {},
   "outputs": [],
   "source": [
    "from sklearn.metrics import confusion_matrix\n",
    "\n",
    "confusion_matrix(y_test, predicted_labels)"
   ]
  }
 ],
 "metadata": {
  "kernelspec": {
   "display_name": "itam_md",
   "language": "python",
   "name": "itam_md"
  },
  "language_info": {
   "codemirror_mode": {
    "name": "ipython",
    "version": 3
   },
   "file_extension": ".py",
   "mimetype": "text/x-python",
   "name": "python",
   "nbconvert_exporter": "python",
   "pygments_lexer": "ipython3",
   "version": "3.7.4"
  }
 },
 "nbformat": 4,
 "nbformat_minor": 5
}
