{
 "cells": [
  {
   "cell_type": "markdown",
   "id": "strange-vulnerability",
   "metadata": {},
   "source": [
    "# Proyecto 1"
   ]
  },
  {
   "cell_type": "markdown",
   "id": "sitting-table",
   "metadata": {},
   "source": [
    "Natalia Isabel Padilla Terrones 173716\n",
    "Lorena Patricia Barrera Rodríguez 164694"
   ]
  },
  {
   "cell_type": "markdown",
   "id": "indoor-intention",
   "metadata": {},
   "source": [
    "## Preguntas"
   ]
  },
  {
   "cell_type": "markdown",
   "id": "correct-recruitment",
   "metadata": {},
   "source": [
    "### Variable target\n",
    "\n",
    "<p style='text-align: justify;'> \n",
    "    La variable target es <b>churn</b> o <b>no churn</b>, es decir que el objetivo del modelo es si el cliente abandonará la empresa o seguirá siendo cliente; por lo tanto, la etiqueta positiva es <i>churn</i>. En este caso, un <i>positivo verdadero</i> (TP) es si el modelo detecta que un cliente va a churnear y, efectivamente, churnea; un <i>negativo verdadero</i> (TN) es si el modelo detecta que un cliente no va a churnear y, efectivamente, no churnea; un <i>falso positivo</i> (FP) es si el modelo detecta que un cliente va a churnear, pero al final no lo hace; y finalmente, un <i>falso negativo</i> (FN) es si el modelo detecta que un cliente no va a churnear, pero al final sí lo hace. <br>\n",
    "Para esa situación, es preferible minimizar los falsos negativos porque son los casos que más pueden \"afectar\" a la empresa ya que con los FP la empresa no pierde clientes y con los FN sí. Para poder cumplir con lo dicho anteriormente, y de acuerdo al contexto del problema, la métrica que se necesita optimizar es el <i>recall</i>.\n",
    "</p>"
   ]
  },
  {
   "cell_type": "code",
   "execution_count": 1,
   "id": "alone-printer",
   "metadata": {},
   "outputs": [
    {
     "name": "stderr",
     "output_type": "stream",
     "text": [
      "/Users/lorenabarrera/.pyenv/versions/itam_md/lib/python3.7/site-packages/pandas/compat/__init__.py:97: UserWarning: Could not import the lzma module. Your installed Python is incomplete. Attempting to use lzma compression will result in a RuntimeError.\n",
      "  warnings.warn(msg)\n"
     ]
    }
   ],
   "source": [
    "import pandas as pd\n",
    "import numpy as np\n",
    "import matplotlib.pyplot as plt\n",
    "import seaborn as sns"
   ]
  },
  {
   "cell_type": "code",
   "execution_count": 2,
   "id": "grave-narrative",
   "metadata": {},
   "outputs": [],
   "source": [
    "# Se lee la base de datos\n",
    "empresa = pd.read_csv('/Users/lorenabarrera/Documents/Minería de Datos/Telco-Customer-Churn.csv', sep=',')"
   ]
  },
  {
   "cell_type": "code",
   "execution_count": 3,
   "id": "biblical-headquarters",
   "metadata": {},
   "outputs": [
    {
     "data": {
      "text/html": [
       "<div>\n",
       "<style scoped>\n",
       "    .dataframe tbody tr th:only-of-type {\n",
       "        vertical-align: middle;\n",
       "    }\n",
       "\n",
       "    .dataframe tbody tr th {\n",
       "        vertical-align: top;\n",
       "    }\n",
       "\n",
       "    .dataframe thead th {\n",
       "        text-align: right;\n",
       "    }\n",
       "</style>\n",
       "<table border=\"1\" class=\"dataframe\">\n",
       "  <thead>\n",
       "    <tr style=\"text-align: right;\">\n",
       "      <th></th>\n",
       "      <th>customerID</th>\n",
       "      <th>gender</th>\n",
       "      <th>SeniorCitizen</th>\n",
       "      <th>Partner</th>\n",
       "      <th>Dependents</th>\n",
       "      <th>tenure</th>\n",
       "      <th>PhoneService</th>\n",
       "      <th>MultipleLines</th>\n",
       "      <th>InternetService</th>\n",
       "      <th>OnlineSecurity</th>\n",
       "      <th>...</th>\n",
       "      <th>DeviceProtection</th>\n",
       "      <th>TechSupport</th>\n",
       "      <th>StreamingTV</th>\n",
       "      <th>StreamingMovies</th>\n",
       "      <th>Contract</th>\n",
       "      <th>PaperlessBilling</th>\n",
       "      <th>PaymentMethod</th>\n",
       "      <th>MonthlyCharges</th>\n",
       "      <th>TotalCharges</th>\n",
       "      <th>Churn</th>\n",
       "    </tr>\n",
       "  </thead>\n",
       "  <tbody>\n",
       "    <tr>\n",
       "      <th>0</th>\n",
       "      <td>7590-VHVEG</td>\n",
       "      <td>Female</td>\n",
       "      <td>0</td>\n",
       "      <td>Yes</td>\n",
       "      <td>No</td>\n",
       "      <td>1</td>\n",
       "      <td>No</td>\n",
       "      <td>No phone service</td>\n",
       "      <td>DSL</td>\n",
       "      <td>No</td>\n",
       "      <td>...</td>\n",
       "      <td>No</td>\n",
       "      <td>No</td>\n",
       "      <td>No</td>\n",
       "      <td>No</td>\n",
       "      <td>Month-to-month</td>\n",
       "      <td>Yes</td>\n",
       "      <td>Electronic check</td>\n",
       "      <td>29.85</td>\n",
       "      <td>29.85</td>\n",
       "      <td>No</td>\n",
       "    </tr>\n",
       "    <tr>\n",
       "      <th>1</th>\n",
       "      <td>5575-GNVDE</td>\n",
       "      <td>Male</td>\n",
       "      <td>0</td>\n",
       "      <td>No</td>\n",
       "      <td>No</td>\n",
       "      <td>34</td>\n",
       "      <td>Yes</td>\n",
       "      <td>No</td>\n",
       "      <td>DSL</td>\n",
       "      <td>Yes</td>\n",
       "      <td>...</td>\n",
       "      <td>Yes</td>\n",
       "      <td>No</td>\n",
       "      <td>No</td>\n",
       "      <td>No</td>\n",
       "      <td>One year</td>\n",
       "      <td>No</td>\n",
       "      <td>Mailed check</td>\n",
       "      <td>56.95</td>\n",
       "      <td>1889.5</td>\n",
       "      <td>No</td>\n",
       "    </tr>\n",
       "    <tr>\n",
       "      <th>2</th>\n",
       "      <td>3668-QPYBK</td>\n",
       "      <td>Male</td>\n",
       "      <td>0</td>\n",
       "      <td>No</td>\n",
       "      <td>No</td>\n",
       "      <td>2</td>\n",
       "      <td>Yes</td>\n",
       "      <td>No</td>\n",
       "      <td>DSL</td>\n",
       "      <td>Yes</td>\n",
       "      <td>...</td>\n",
       "      <td>No</td>\n",
       "      <td>No</td>\n",
       "      <td>No</td>\n",
       "      <td>No</td>\n",
       "      <td>Month-to-month</td>\n",
       "      <td>Yes</td>\n",
       "      <td>Mailed check</td>\n",
       "      <td>53.85</td>\n",
       "      <td>108.15</td>\n",
       "      <td>Yes</td>\n",
       "    </tr>\n",
       "    <tr>\n",
       "      <th>3</th>\n",
       "      <td>7795-CFOCW</td>\n",
       "      <td>Male</td>\n",
       "      <td>0</td>\n",
       "      <td>No</td>\n",
       "      <td>No</td>\n",
       "      <td>45</td>\n",
       "      <td>No</td>\n",
       "      <td>No phone service</td>\n",
       "      <td>DSL</td>\n",
       "      <td>Yes</td>\n",
       "      <td>...</td>\n",
       "      <td>Yes</td>\n",
       "      <td>Yes</td>\n",
       "      <td>No</td>\n",
       "      <td>No</td>\n",
       "      <td>One year</td>\n",
       "      <td>No</td>\n",
       "      <td>Bank transfer (automatic)</td>\n",
       "      <td>42.30</td>\n",
       "      <td>1840.75</td>\n",
       "      <td>No</td>\n",
       "    </tr>\n",
       "    <tr>\n",
       "      <th>4</th>\n",
       "      <td>9237-HQITU</td>\n",
       "      <td>Female</td>\n",
       "      <td>0</td>\n",
       "      <td>No</td>\n",
       "      <td>No</td>\n",
       "      <td>2</td>\n",
       "      <td>Yes</td>\n",
       "      <td>No</td>\n",
       "      <td>Fiber optic</td>\n",
       "      <td>No</td>\n",
       "      <td>...</td>\n",
       "      <td>No</td>\n",
       "      <td>No</td>\n",
       "      <td>No</td>\n",
       "      <td>No</td>\n",
       "      <td>Month-to-month</td>\n",
       "      <td>Yes</td>\n",
       "      <td>Electronic check</td>\n",
       "      <td>70.70</td>\n",
       "      <td>151.65</td>\n",
       "      <td>Yes</td>\n",
       "    </tr>\n",
       "  </tbody>\n",
       "</table>\n",
       "<p>5 rows × 21 columns</p>\n",
       "</div>"
      ],
      "text/plain": [
       "   customerID  gender  SeniorCitizen Partner Dependents  tenure PhoneService  \\\n",
       "0  7590-VHVEG  Female              0     Yes         No       1           No   \n",
       "1  5575-GNVDE    Male              0      No         No      34          Yes   \n",
       "2  3668-QPYBK    Male              0      No         No       2          Yes   \n",
       "3  7795-CFOCW    Male              0      No         No      45           No   \n",
       "4  9237-HQITU  Female              0      No         No       2          Yes   \n",
       "\n",
       "      MultipleLines InternetService OnlineSecurity  ... DeviceProtection  \\\n",
       "0  No phone service             DSL             No  ...               No   \n",
       "1                No             DSL            Yes  ...              Yes   \n",
       "2                No             DSL            Yes  ...               No   \n",
       "3  No phone service             DSL            Yes  ...              Yes   \n",
       "4                No     Fiber optic             No  ...               No   \n",
       "\n",
       "  TechSupport StreamingTV StreamingMovies        Contract PaperlessBilling  \\\n",
       "0          No          No              No  Month-to-month              Yes   \n",
       "1          No          No              No        One year               No   \n",
       "2          No          No              No  Month-to-month              Yes   \n",
       "3         Yes          No              No        One year               No   \n",
       "4          No          No              No  Month-to-month              Yes   \n",
       "\n",
       "               PaymentMethod MonthlyCharges  TotalCharges Churn  \n",
       "0           Electronic check          29.85         29.85    No  \n",
       "1               Mailed check          56.95        1889.5    No  \n",
       "2               Mailed check          53.85        108.15   Yes  \n",
       "3  Bank transfer (automatic)          42.30       1840.75    No  \n",
       "4           Electronic check          70.70        151.65   Yes  \n",
       "\n",
       "[5 rows x 21 columns]"
      ]
     },
     "execution_count": 3,
     "metadata": {},
     "output_type": "execute_result"
    }
   ],
   "source": [
    "empresa.head()"
   ]
  },
  {
   "cell_type": "markdown",
   "id": "gorgeous-reproduction",
   "metadata": {},
   "source": [
    "#### Limpieza de datos"
   ]
  },
  {
   "cell_type": "code",
   "execution_count": 4,
   "id": "fossil-racing",
   "metadata": {},
   "outputs": [],
   "source": [
    "empresa.rename(columns={'customerID': 'customer_id', 'SeniorCitizen':'senior_citizen', \n",
    "                        'Partner':'partner', 'Dependents':'dependents', 'PhoneService':'phone_service',\n",
    "                        'MultipleLines':'multiple_lines', 'InternetService':'internet_service',\n",
    "                        'OnlineSecurity':'online_security', 'OnlineBackup':'online_backup',\n",
    "                        'DeviceProtection':'device_protection', 'TechSupport':'tech_support',\n",
    "                        'StreamingTV':'streaming_tv', 'StreamingMovies':'streaming_movies',\n",
    "                        'Contract':'contract', 'PaperlessBilling':'paperless_billing', \n",
    "                        'PaymentMethod':'payment_method', 'MonthlyCharges':'monthly_charges',\n",
    "                        'TotalCharges':'total_charges', 'Churn':'churn'}, inplace=True)\n"
   ]
  },
  {
   "cell_type": "code",
   "execution_count": 5,
   "id": "sonic-porcelain",
   "metadata": {},
   "outputs": [
    {
     "data": {
      "text/plain": [
       "7043"
      ]
     },
     "execution_count": 5,
     "metadata": {},
     "output_type": "execute_result"
    }
   ],
   "source": [
    "empresa.customer_id.count()"
   ]
  },
  {
   "cell_type": "code",
   "execution_count": 6,
   "id": "mysterious-angola",
   "metadata": {
    "scrolled": false
   },
   "outputs": [
    {
     "data": {
      "text/plain": [
       "7032"
      ]
     },
     "execution_count": 6,
     "metadata": {},
     "output_type": "execute_result"
    }
   ],
   "source": [
    "empresa.replace(' ', np.nan, inplace = True)\n",
    "empresa.dropna(inplace = True)\n",
    "empresa.reset_index(drop=True, inplace=True)\n",
    "empresa.customer_id.count()"
   ]
  },
  {
   "cell_type": "markdown",
   "id": "local-conditions",
   "metadata": {},
   "source": [
    "## Data profiling de las variables total_charges y la variable contract interpreta la salida.\n",
    "\n"
   ]
  },
  {
   "cell_type": "markdown",
   "id": "undefined-contract",
   "metadata": {},
   "source": [
    "Se analizan los datos de las columnas:"
   ]
  },
  {
   "cell_type": "code",
   "execution_count": 7,
   "id": "drawn-performance",
   "metadata": {},
   "outputs": [
    {
     "data": {
      "text/plain": [
       "customer_id           object\n",
       "gender                object\n",
       "senior_citizen         int64\n",
       "partner               object\n",
       "dependents            object\n",
       "tenure                 int64\n",
       "phone_service         object\n",
       "multiple_lines        object\n",
       "internet_service      object\n",
       "online_security       object\n",
       "online_backup         object\n",
       "device_protection     object\n",
       "tech_support          object\n",
       "streaming_tv          object\n",
       "streaming_movies      object\n",
       "contract              object\n",
       "paperless_billing     object\n",
       "payment_method        object\n",
       "monthly_charges      float64\n",
       "total_charges         object\n",
       "churn                 object\n",
       "dtype: object"
      ]
     },
     "execution_count": 7,
     "metadata": {},
     "output_type": "execute_result"
    }
   ],
   "source": [
    "# Tipos de las variables\n",
    "empresa.dtypes"
   ]
  },
  {
   "cell_type": "markdown",
   "id": "nearby-brown",
   "metadata": {},
   "source": [
    "Ambas variables son categóricas, por lo tanto se crea una función para obtener los datos relevantes:"
   ]
  },
  {
   "cell_type": "code",
   "execution_count": 8,
   "id": "acceptable-hollywood",
   "metadata": {},
   "outputs": [],
   "source": [
    "# Función para ver el data profiling\n",
    "def category_profiling(df, col, profiling_dict):\n",
    "    \"\"\"\n",
    "    Profiling for categoric columns. \n",
    "    \n",
    "    :param: column to analyze\n",
    "    :return: dictionary\n",
    "    \"\"\"\n",
    "    profiling = {}\n",
    "\n",
    "    profiling.update({'mode': df[col].mode()[0],\n",
    "                     'num_categories': df[col].nunique(),\n",
    "                     'categories': df[col].unique(),\n",
    "                     #'uniques': df[col].nunique(),\n",
    "                     'missings': sum(df[col].isna())/df[col].size*100,\n",
    "                     'top1_repeated': get_repeated_values(df, col, 1),\n",
    "                     'top2_repeated': get_repeated_values(df, col, 2),\n",
    "                     'top3_repeated': get_repeated_values(df, col, 3)})\n",
    "    \n",
    "    profiling_dict.update({col: profiling})\n",
    "    \n",
    "    return profiling_dict"
   ]
  },
  {
   "cell_type": "markdown",
   "id": "median-harris",
   "metadata": {},
   "source": [
    "Se hace el data profiling de ambas variables:"
   ]
  },
  {
   "cell_type": "code",
   "execution_count": 9,
   "id": "outer-scratch",
   "metadata": {},
   "outputs": [],
   "source": [
    "def get_repeated_values(df, col, top):\n",
    "    top_5 = df.groupby([col])[col]\\\n",
    "                    .count()\\\n",
    "                    .sort_values(ascending = False)\\\n",
    "                    .head()\n",
    "    indexes_top_5 = top_5.index\n",
    "    \n",
    "    if ((top == 1) and (len(indexes_top_5) > 0)):\n",
    "        return indexes_top_5[0]\n",
    "    elif ((top == 2) and (len(indexes_top_5) > 1)):\n",
    "        return indexes_top_5[1]\n",
    "    elif ((top == 3) and (len(indexes_top_5) > 2)):\n",
    "        return indexes_top_5[2]\n",
    "    else: \n",
    "        return 'undefined'"
   ]
  },
  {
   "cell_type": "code",
   "execution_count": 10,
   "id": "ecological-nickel",
   "metadata": {},
   "outputs": [],
   "source": [
    "profiling_category_dict = {}"
   ]
  },
  {
   "cell_type": "code",
   "execution_count": 11,
   "id": "alternate-union",
   "metadata": {},
   "outputs": [],
   "source": [
    "# Data profiling de total_charges\n",
    "category_profiling_output_tc = [category_profiling(empresa, \"total_charges\", profiling_category_dict)]\n",
    "df_category_profiling = pd.DataFrame(category_profiling_output_tc[0]).reset_index()\n",
    "df_category_profiling.rename(columns={'index': 'metric'}, inplace=True)"
   ]
  },
  {
   "cell_type": "code",
   "execution_count": 12,
   "id": "sweet-typing",
   "metadata": {},
   "outputs": [],
   "source": [
    "# Data prfiling de contract\n",
    "category_profiling_output_c = [category_profiling(empresa, \"contract\", profiling_category_dict)]\n",
    "df_category_profiling = pd.DataFrame(category_profiling_output_c[0]).reset_index()\n",
    "df_category_profiling.rename(columns={'index': 'metric'}, inplace=True)"
   ]
  },
  {
   "cell_type": "code",
   "execution_count": 13,
   "id": "hourly-glass",
   "metadata": {},
   "outputs": [
    {
     "data": {
      "text/html": [
       "<div>\n",
       "<style scoped>\n",
       "    .dataframe tbody tr th:only-of-type {\n",
       "        vertical-align: middle;\n",
       "    }\n",
       "\n",
       "    .dataframe tbody tr th {\n",
       "        vertical-align: top;\n",
       "    }\n",
       "\n",
       "    .dataframe thead th {\n",
       "        text-align: right;\n",
       "    }\n",
       "</style>\n",
       "<table border=\"1\" class=\"dataframe\">\n",
       "  <thead>\n",
       "    <tr style=\"text-align: right;\">\n",
       "      <th></th>\n",
       "      <th>metric</th>\n",
       "      <th>total_charges</th>\n",
       "      <th>contract</th>\n",
       "    </tr>\n",
       "  </thead>\n",
       "  <tbody>\n",
       "    <tr>\n",
       "      <th>0</th>\n",
       "      <td>mode</td>\n",
       "      <td>20.2</td>\n",
       "      <td>Month-to-month</td>\n",
       "    </tr>\n",
       "    <tr>\n",
       "      <th>1</th>\n",
       "      <td>num_categories</td>\n",
       "      <td>6530</td>\n",
       "      <td>3</td>\n",
       "    </tr>\n",
       "    <tr>\n",
       "      <th>2</th>\n",
       "      <td>categories</td>\n",
       "      <td>[29.85, 1889.5, 108.15, 1840.75, 151.65, 820.5...</td>\n",
       "      <td>[Month-to-month, One year, Two year]</td>\n",
       "    </tr>\n",
       "    <tr>\n",
       "      <th>3</th>\n",
       "      <td>missings</td>\n",
       "      <td>0.0</td>\n",
       "      <td>0.0</td>\n",
       "    </tr>\n",
       "    <tr>\n",
       "      <th>4</th>\n",
       "      <td>top1_repeated</td>\n",
       "      <td>20.2</td>\n",
       "      <td>Month-to-month</td>\n",
       "    </tr>\n",
       "    <tr>\n",
       "      <th>5</th>\n",
       "      <td>top2_repeated</td>\n",
       "      <td>19.75</td>\n",
       "      <td>Two year</td>\n",
       "    </tr>\n",
       "    <tr>\n",
       "      <th>6</th>\n",
       "      <td>top3_repeated</td>\n",
       "      <td>19.65</td>\n",
       "      <td>One year</td>\n",
       "    </tr>\n",
       "  </tbody>\n",
       "</table>\n",
       "</div>"
      ],
      "text/plain": [
       "           metric                                      total_charges  \\\n",
       "0            mode                                               20.2   \n",
       "1  num_categories                                               6530   \n",
       "2      categories  [29.85, 1889.5, 108.15, 1840.75, 151.65, 820.5...   \n",
       "3        missings                                                0.0   \n",
       "4   top1_repeated                                               20.2   \n",
       "5   top2_repeated                                              19.75   \n",
       "6   top3_repeated                                              19.65   \n",
       "\n",
       "                               contract  \n",
       "0                        Month-to-month  \n",
       "1                                     3  \n",
       "2  [Month-to-month, One year, Two year]  \n",
       "3                                   0.0  \n",
       "4                        Month-to-month  \n",
       "5                              Two year  \n",
       "6                              One year  "
      ]
     },
     "execution_count": 13,
     "metadata": {},
     "output_type": "execute_result"
    }
   ],
   "source": [
    "df_category_profiling"
   ]
  },
  {
   "cell_type": "markdown",
   "id": "legendary-junior",
   "metadata": {},
   "source": [
    "Para la variable de *cargos totales* (total_charges), podemos ver que en general lo cargos más comunes son de 20.2 pesos, seguido de cargos de 19.75 pesos y 19.65 pesos. Debido a que existen diferentes cargos para cada cliente según los servicios que tenga contratados, la infraestructura que tenga o su contrato, el número de categorías dentro de la variable es muy cambiante (6,530 diferentes opciones).\n",
    "\n",
    "Por otro lado, para la variable de *contrato* (contract) solo hay tres posibles categorías: mes a mes, un año o dos años. De esas categorías, lo más común es que los clientes tengan el contrato de mes a mes, seguido por el contrato de dos años y por último de un año."
   ]
  },
  {
   "cell_type": "markdown",
   "id": "involved-third",
   "metadata": {},
   "source": [
    "## EDA con 4 gráficas\n"
   ]
  },
  {
   "cell_type": "markdown",
   "id": "german-arcade",
   "metadata": {},
   "source": [
    "### Proporción de *churn* y *no churn*"
   ]
  },
  {
   "cell_type": "code",
   "execution_count": 14,
   "id": "painful-shift",
   "metadata": {},
   "outputs": [
    {
     "data": {
      "text/html": [
       "<div>\n",
       "<style scoped>\n",
       "    .dataframe tbody tr th:only-of-type {\n",
       "        vertical-align: middle;\n",
       "    }\n",
       "\n",
       "    .dataframe tbody tr th {\n",
       "        vertical-align: top;\n",
       "    }\n",
       "\n",
       "    .dataframe thead th {\n",
       "        text-align: right;\n",
       "    }\n",
       "</style>\n",
       "<table border=\"1\" class=\"dataframe\">\n",
       "  <thead>\n",
       "    <tr style=\"text-align: right;\">\n",
       "      <th></th>\n",
       "      <th>churn</th>\n",
       "      <th>monthly_charges</th>\n",
       "      <th>porcentaje</th>\n",
       "    </tr>\n",
       "  </thead>\n",
       "  <tbody>\n",
       "    <tr>\n",
       "      <th>0</th>\n",
       "      <td>No</td>\n",
       "      <td>5163</td>\n",
       "      <td>73.42</td>\n",
       "    </tr>\n",
       "    <tr>\n",
       "      <th>1</th>\n",
       "      <td>Yes</td>\n",
       "      <td>1869</td>\n",
       "      <td>26.58</td>\n",
       "    </tr>\n",
       "  </tbody>\n",
       "</table>\n",
       "</div>"
      ],
      "text/plain": [
       "  churn  monthly_charges  porcentaje\n",
       "0    No             5163       73.42\n",
       "1   Yes             1869       26.58"
      ]
     },
     "execution_count": 14,
     "metadata": {},
     "output_type": "execute_result"
    }
   ],
   "source": [
    "aux=empresa.groupby(\"churn\", as_index=False)[['monthly_charges']].count()\n",
    "total=empresa['churn'].count()\n",
    "aux['porcentaje']=round((aux['monthly_charges']/total)*100,2)\n",
    "aux"
   ]
  },
  {
   "cell_type": "code",
   "execution_count": 15,
   "id": "unique-approach",
   "metadata": {},
   "outputs": [
    {
     "data": {
      "image/png": "[encoded data removed]",
      "text/plain": [
       "<Figure size 720x360 with 1 Axes>"
      ]
     },
     "metadata": {
      "needs_background": "light"
     },
     "output_type": "display_data"
    }
   ],
   "source": [
    "a=sns.catplot(x='porcentaje',y='churn', data=aux, kind='bar', orient='h', aspect=2)\n",
    "a.fig.suptitle('Proporción de Churn y No Churn')\n",
    "a.axes[0,0].set_xlabel('Proporción del Total (%)')\n",
    "a.axes[0,0].set_ylabel('Churn')\n",
    "a.set(xlim=(0,100))\n",
    "plt.tight_layout()"
   ]
  },
  {
   "cell_type": "markdown",
   "id": "undefined-trigger",
   "metadata": {},
   "source": [
    "Con esta gráfica se puede observar que menos de un tercio (26.58%) de los clientes de Telco dejan la empresa, es decir, hacen churn. Por lo tanto, la mayoría de los clientes (73.42%) están satisfechos con los servicios ofrecidos por la empresa."
   ]
  },
  {
   "cell_type": "markdown",
   "id": "pleased-reproduction",
   "metadata": {},
   "source": [
    "### Distribución de la variable *total_charges* por contract y churn"
   ]
  },
  {
   "cell_type": "code",
   "execution_count": 16,
   "id": "veterinary-transparency",
   "metadata": {},
   "outputs": [
    {
     "data": {
      "text/plain": [
       "0         29.85\n",
       "1       1889.50\n",
       "2        108.15\n",
       "3       1840.75\n",
       "4        151.65\n",
       "         ...   \n",
       "7027    1990.50\n",
       "7028    7362.90\n",
       "7029     346.45\n",
       "7030     306.60\n",
       "7031    6844.50\n",
       "Name: total_charges, Length: 7032, dtype: float64"
      ]
     },
     "execution_count": 16,
     "metadata": {},
     "output_type": "execute_result"
    }
   ],
   "source": [
    "empresa.dtypes\n",
    "out=empresa['total_charges'].apply(lambda col:pd.to_numeric(col, errors='coerce'))\n",
    "out"
   ]
  },
  {
   "cell_type": "code",
   "execution_count": 17,
   "id": "czech-machinery",
   "metadata": {},
   "outputs": [
    {
     "data": {
      "text/plain": [
       "Text(0, 0.5, 'Contract')"
      ]
     },
     "execution_count": 17,
     "metadata": {},
     "output_type": "execute_result"
    },
    {
     "data": {
      "image/png": "[encoded data removed]",
      "text/plain": [
       "<Figure size 864x576 with 1 Axes>"
      ]
     },
     "metadata": {
      "needs_background": "light"
     },
     "output_type": "display_data"
    }
   ],
   "source": [
    "fig_dims=(12, 8)\n",
    "fig, ax=plt.subplots(figsize=fig_dims)\n",
    "sns.boxplot(data=empresa, x=out, y='contract', hue = 'churn', showmeans=True)\\\n",
    ".set_title(\"Distribución de los Total Charges por el Contract y el Churn\")\n",
    "plt.xlabel(\"Total Charges ($)\")\n",
    "plt.ylabel(\"Contract\")"
   ]
  },
  {
   "cell_type": "markdown",
   "id": "adult-virginia",
   "metadata": {},
   "source": [
    "<p style='text-align: justify;'> \n",
    "    Para los clientes que tienen un contrato de mes-a-mes, los cargos totales que tienen son los más bajos de los tres tipos de contratos que existen. Aunque en este subconjunto de clientes, la mayorían se queda en la empresa, es decir que no hace churn, la diferencia con el número de clientes que sí se va no es mucha. <br> <br>\n",
    "    Por otro lado, los clientes que tienen un contrato de un año con la empresa tienen cargos totales más elevados que los de mes-a-mes. Dentro del subconjunto de un año, es notable que los clientes que *churnean*, muy probablemente, es debido a los cargos totales tan altos a comparación de los que no *churnean*. Al igual que los clientes de mes-a-mes, el número de clientes que se van y no se van de la empresa son muy cercanos. <br> <br>\n",
    "    Finalmente, de los clientes con contratos de dos años, se puede ver que la mayoría está satisfechos con los servicios y no tienen intenciones de irse. Sin embargo, al igual que los clientes con contrato de un año, los que se van tienen cargos totales mucho más elevados que los que permanecen. <br> <br>\n",
    "    Por lo tanto, si la empresa tuviera que enfocarse en sólo un subconjunto de clientes, podría ser el de un año de contrato porque *churnean* muchos clientes a comparación de los otros dos subgrupos.\n",
    "</p>"
   ]
  },
  {
   "cell_type": "markdown",
   "id": "proper-cologne",
   "metadata": {},
   "source": [
    "### Distribución de la variable *monthly_charges* por contract y churn"
   ]
  },
  {
   "cell_type": "code",
   "execution_count": 18,
   "id": "selective-layout",
   "metadata": {},
   "outputs": [
    {
     "data": {
      "text/plain": [
       "Text(0, 0.5, 'Contract')"
      ]
     },
     "execution_count": 18,
     "metadata": {},
     "output_type": "execute_result"
    },
    {
     "data": {
      "image/png": "[encoded data removed]",
      "text/plain": [
       "<Figure size 864x576 with 1 Axes>"
      ]
     },
     "metadata": {
      "needs_background": "light"
     },
     "output_type": "display_data"
    }
   ],
   "source": [
    "fig_dims=(12, 8)\n",
    "fig, ax=plt.subplots(figsize=fig_dims)\n",
    "sns.boxplot(data=empresa, x='monthly_charges', y='contract', hue = 'churn', showmeans=True)\\\n",
    ".set_title(\"Distribución de los Monthly Charges por el Contract y el Churn\")\n",
    "plt.xlabel(\"Monthly Charges ($)\")\n",
    "plt.ylabel(\"Contract\")"
   ]
  },
  {
   "cell_type": "markdown",
   "id": "agricultural-probability",
   "metadata": {},
   "source": [
    "**INTERPRETACIÓN**"
   ]
  },
  {
   "cell_type": "markdown",
   "id": "quantitative-bankruptcy",
   "metadata": {},
   "source": [
    "### Distribución de la variable monthlycharges por paymentmethod y churn"
   ]
  },
  {
   "cell_type": "code",
   "execution_count": 19,
   "id": "numerical-sheep",
   "metadata": {},
   "outputs": [
    {
     "data": {
      "image/png": "[encoded data removed]",
      "text/plain": [
       "<Figure size 1152x288 with 4 Axes>"
      ]
     },
     "metadata": {
      "needs_background": "light"
     },
     "output_type": "display_data"
    }
   ],
   "source": [
    "d=sns.FacetGrid(empresa, col='payment_method', aspect=1, height=4, sharey=False)\n",
    "d.map_dataframe(sns.boxplot, x=\"monthly_charges\", y=\"churn\", showmeans=True)\n",
    "d.fig.suptitle('Distribución de los Monthly Charges por Payment Method y Churn')\n",
    "d.axes[0,0].set_xlabel('Monthly Charges ($)')\n",
    "d.axes[0,1].set_xlabel('Monthly Charges ($)')\n",
    "d.axes[0,2].set_xlabel('Monthly Charges ($)')\n",
    "d.axes[0,3].set_xlabel('Monthly Charges ($)')\n",
    "d.axes[0,0].set_ylabel('Churn')\n",
    "plt.tight_layout()"
   ]
  },
  {
   "cell_type": "markdown",
   "id": "complicated-pursuit",
   "metadata": {},
   "source": [
    "**INTERPRETACIÓN**"
   ]
  },
  {
   "cell_type": "markdown",
   "id": "peaceful-kruger",
   "metadata": {},
   "source": [
    "## Preprocesamiento"
   ]
  },
  {
   "cell_type": "markdown",
   "id": "unlike-harvard",
   "metadata": {},
   "source": [
    "Cambiamos las variables gender, seniorcitizen, partner, phoneservice, paperlessbilling y churn a variables binarias con valor posible 0 para el caso No y 1 para el caso Yes."
   ]
  },
  {
   "cell_type": "code",
   "execution_count": 20,
   "id": "generic-august",
   "metadata": {},
   "outputs": [
    {
     "data": {
      "text/html": [
       "<div>\n",
       "<style scoped>\n",
       "    .dataframe tbody tr th:only-of-type {\n",
       "        vertical-align: middle;\n",
       "    }\n",
       "\n",
       "    .dataframe tbody tr th {\n",
       "        vertical-align: top;\n",
       "    }\n",
       "\n",
       "    .dataframe thead th {\n",
       "        text-align: right;\n",
       "    }\n",
       "</style>\n",
       "<table border=\"1\" class=\"dataframe\">\n",
       "  <thead>\n",
       "    <tr style=\"text-align: right;\">\n",
       "      <th></th>\n",
       "      <th>customer_id</th>\n",
       "      <th>gender</th>\n",
       "      <th>senior_citizen</th>\n",
       "      <th>partner</th>\n",
       "      <th>dependents</th>\n",
       "      <th>tenure</th>\n",
       "      <th>phone_service</th>\n",
       "      <th>multiple_lines</th>\n",
       "      <th>internet_service</th>\n",
       "      <th>online_security</th>\n",
       "      <th>...</th>\n",
       "      <th>device_protection</th>\n",
       "      <th>tech_support</th>\n",
       "      <th>streaming_tv</th>\n",
       "      <th>streaming_movies</th>\n",
       "      <th>contract</th>\n",
       "      <th>paperless_billing</th>\n",
       "      <th>payment_method</th>\n",
       "      <th>monthly_charges</th>\n",
       "      <th>total_charges</th>\n",
       "      <th>churn</th>\n",
       "    </tr>\n",
       "  </thead>\n",
       "  <tbody>\n",
       "    <tr>\n",
       "      <th>0</th>\n",
       "      <td>7590-VHVEG</td>\n",
       "      <td>Female</td>\n",
       "      <td>0</td>\n",
       "      <td>Yes</td>\n",
       "      <td>No</td>\n",
       "      <td>1</td>\n",
       "      <td>No</td>\n",
       "      <td>No phone service</td>\n",
       "      <td>DSL</td>\n",
       "      <td>No</td>\n",
       "      <td>...</td>\n",
       "      <td>No</td>\n",
       "      <td>No</td>\n",
       "      <td>No</td>\n",
       "      <td>No</td>\n",
       "      <td>Month-to-month</td>\n",
       "      <td>Yes</td>\n",
       "      <td>Electronic check</td>\n",
       "      <td>29.85</td>\n",
       "      <td>29.85</td>\n",
       "      <td>No</td>\n",
       "    </tr>\n",
       "    <tr>\n",
       "      <th>1</th>\n",
       "      <td>5575-GNVDE</td>\n",
       "      <td>Male</td>\n",
       "      <td>0</td>\n",
       "      <td>No</td>\n",
       "      <td>No</td>\n",
       "      <td>34</td>\n",
       "      <td>Yes</td>\n",
       "      <td>No</td>\n",
       "      <td>DSL</td>\n",
       "      <td>Yes</td>\n",
       "      <td>...</td>\n",
       "      <td>Yes</td>\n",
       "      <td>No</td>\n",
       "      <td>No</td>\n",
       "      <td>No</td>\n",
       "      <td>One year</td>\n",
       "      <td>No</td>\n",
       "      <td>Mailed check</td>\n",
       "      <td>56.95</td>\n",
       "      <td>1889.5</td>\n",
       "      <td>No</td>\n",
       "    </tr>\n",
       "    <tr>\n",
       "      <th>2</th>\n",
       "      <td>3668-QPYBK</td>\n",
       "      <td>Male</td>\n",
       "      <td>0</td>\n",
       "      <td>No</td>\n",
       "      <td>No</td>\n",
       "      <td>2</td>\n",
       "      <td>Yes</td>\n",
       "      <td>No</td>\n",
       "      <td>DSL</td>\n",
       "      <td>Yes</td>\n",
       "      <td>...</td>\n",
       "      <td>No</td>\n",
       "      <td>No</td>\n",
       "      <td>No</td>\n",
       "      <td>No</td>\n",
       "      <td>Month-to-month</td>\n",
       "      <td>Yes</td>\n",
       "      <td>Mailed check</td>\n",
       "      <td>53.85</td>\n",
       "      <td>108.15</td>\n",
       "      <td>Yes</td>\n",
       "    </tr>\n",
       "    <tr>\n",
       "      <th>3</th>\n",
       "      <td>7795-CFOCW</td>\n",
       "      <td>Male</td>\n",
       "      <td>0</td>\n",
       "      <td>No</td>\n",
       "      <td>No</td>\n",
       "      <td>45</td>\n",
       "      <td>No</td>\n",
       "      <td>No phone service</td>\n",
       "      <td>DSL</td>\n",
       "      <td>Yes</td>\n",
       "      <td>...</td>\n",
       "      <td>Yes</td>\n",
       "      <td>Yes</td>\n",
       "      <td>No</td>\n",
       "      <td>No</td>\n",
       "      <td>One year</td>\n",
       "      <td>No</td>\n",
       "      <td>Bank transfer (automatic)</td>\n",
       "      <td>42.30</td>\n",
       "      <td>1840.75</td>\n",
       "      <td>No</td>\n",
       "    </tr>\n",
       "    <tr>\n",
       "      <th>4</th>\n",
       "      <td>9237-HQITU</td>\n",
       "      <td>Female</td>\n",
       "      <td>0</td>\n",
       "      <td>No</td>\n",
       "      <td>No</td>\n",
       "      <td>2</td>\n",
       "      <td>Yes</td>\n",
       "      <td>No</td>\n",
       "      <td>Fiber optic</td>\n",
       "      <td>No</td>\n",
       "      <td>...</td>\n",
       "      <td>No</td>\n",
       "      <td>No</td>\n",
       "      <td>No</td>\n",
       "      <td>No</td>\n",
       "      <td>Month-to-month</td>\n",
       "      <td>Yes</td>\n",
       "      <td>Electronic check</td>\n",
       "      <td>70.70</td>\n",
       "      <td>151.65</td>\n",
       "      <td>Yes</td>\n",
       "    </tr>\n",
       "  </tbody>\n",
       "</table>\n",
       "<p>5 rows × 21 columns</p>\n",
       "</div>"
      ],
      "text/plain": [
       "  customer_id  gender  senior_citizen partner dependents  tenure  \\\n",
       "0  7590-VHVEG  Female               0     Yes         No       1   \n",
       "1  5575-GNVDE    Male               0      No         No      34   \n",
       "2  3668-QPYBK    Male               0      No         No       2   \n",
       "3  7795-CFOCW    Male               0      No         No      45   \n",
       "4  9237-HQITU  Female               0      No         No       2   \n",
       "\n",
       "  phone_service    multiple_lines internet_service online_security  ...  \\\n",
       "0            No  No phone service              DSL              No  ...   \n",
       "1           Yes                No              DSL             Yes  ...   \n",
       "2           Yes                No              DSL             Yes  ...   \n",
       "3            No  No phone service              DSL             Yes  ...   \n",
       "4           Yes                No      Fiber optic              No  ...   \n",
       "\n",
       "  device_protection tech_support streaming_tv streaming_movies  \\\n",
       "0                No           No           No               No   \n",
       "1               Yes           No           No               No   \n",
       "2                No           No           No               No   \n",
       "3               Yes          Yes           No               No   \n",
       "4                No           No           No               No   \n",
       "\n",
       "         contract paperless_billing             payment_method  \\\n",
       "0  Month-to-month               Yes           Electronic check   \n",
       "1        One year                No               Mailed check   \n",
       "2  Month-to-month               Yes               Mailed check   \n",
       "3        One year                No  Bank transfer (automatic)   \n",
       "4  Month-to-month               Yes           Electronic check   \n",
       "\n",
       "  monthly_charges  total_charges churn  \n",
       "0           29.85          29.85    No  \n",
       "1           56.95         1889.5    No  \n",
       "2           53.85         108.15   Yes  \n",
       "3           42.30        1840.75    No  \n",
       "4           70.70         151.65   Yes  \n",
       "\n",
       "[5 rows x 21 columns]"
      ]
     },
     "execution_count": 20,
     "metadata": {},
     "output_type": "execute_result"
    }
   ],
   "source": [
    "empresa.head()"
   ]
  },
  {
   "cell_type": "code",
   "execution_count": 21,
   "id": "surface-keyboard",
   "metadata": {},
   "outputs": [],
   "source": [
    "# Cambia los \"Yes\" a 1s y los \"No\" a 0s (Excepto gender en el que \"Female\" es 1 y \"Male\" es 0)\n",
    "empresa[\"gender\"].replace({\"Female\": 1, \"Male\": 0}, inplace = True)\n",
    "empresa[\"partner\"].replace({\"Yes\": 1, \"No\": 0}, inplace = True)\n",
    "empresa[\"phone_service\"].replace({\"Yes\": 1, \"No\": 0}, inplace = True)\n",
    "empresa[\"paperless_billing\"].replace({\"Yes\": 1, \"No\": 0}, inplace = True)\n",
    "empresa[\"churn\"].replace({\"Yes\": 1, \"No\": 0}, inplace = True)\n",
    "empresa[\"dependents\"].replace({\"Yes\": 1, \"No\": 0}, inplace = True)"
   ]
  },
  {
   "cell_type": "code",
   "execution_count": 22,
   "id": "attractive-panama",
   "metadata": {},
   "outputs": [
    {
     "data": {
      "text/html": [
       "<div>\n",
       "<style scoped>\n",
       "    .dataframe tbody tr th:only-of-type {\n",
       "        vertical-align: middle;\n",
       "    }\n",
       "\n",
       "    .dataframe tbody tr th {\n",
       "        vertical-align: top;\n",
       "    }\n",
       "\n",
       "    .dataframe thead th {\n",
       "        text-align: right;\n",
       "    }\n",
       "</style>\n",
       "<table border=\"1\" class=\"dataframe\">\n",
       "  <thead>\n",
       "    <tr style=\"text-align: right;\">\n",
       "      <th></th>\n",
       "      <th>customer_id</th>\n",
       "      <th>gender</th>\n",
       "      <th>senior_citizen</th>\n",
       "      <th>partner</th>\n",
       "      <th>dependents</th>\n",
       "      <th>tenure</th>\n",
       "      <th>phone_service</th>\n",
       "      <th>internet_service</th>\n",
       "      <th>online_security</th>\n",
       "      <th>online_backup</th>\n",
       "      <th>device_protection</th>\n",
       "      <th>tech_support</th>\n",
       "      <th>streaming_tv</th>\n",
       "      <th>streaming_movies</th>\n",
       "      <th>contract</th>\n",
       "      <th>paperless_billing</th>\n",
       "      <th>payment_method</th>\n",
       "      <th>monthly_charges</th>\n",
       "      <th>total_charges</th>\n",
       "      <th>churn</th>\n",
       "    </tr>\n",
       "    <tr>\n",
       "      <th>multiple_lines</th>\n",
       "      <th></th>\n",
       "      <th></th>\n",
       "      <th></th>\n",
       "      <th></th>\n",
       "      <th></th>\n",
       "      <th></th>\n",
       "      <th></th>\n",
       "      <th></th>\n",
       "      <th></th>\n",
       "      <th></th>\n",
       "      <th></th>\n",
       "      <th></th>\n",
       "      <th></th>\n",
       "      <th></th>\n",
       "      <th></th>\n",
       "      <th></th>\n",
       "      <th></th>\n",
       "      <th></th>\n",
       "      <th></th>\n",
       "      <th></th>\n",
       "    </tr>\n",
       "  </thead>\n",
       "  <tbody>\n",
       "    <tr>\n",
       "      <th>No</th>\n",
       "      <td>3385</td>\n",
       "      <td>3385</td>\n",
       "      <td>3385</td>\n",
       "      <td>3385</td>\n",
       "      <td>3385</td>\n",
       "      <td>3385</td>\n",
       "      <td>3385</td>\n",
       "      <td>3385</td>\n",
       "      <td>3385</td>\n",
       "      <td>3385</td>\n",
       "      <td>3385</td>\n",
       "      <td>3385</td>\n",
       "      <td>3385</td>\n",
       "      <td>3385</td>\n",
       "      <td>3385</td>\n",
       "      <td>3385</td>\n",
       "      <td>3385</td>\n",
       "      <td>3385</td>\n",
       "      <td>3385</td>\n",
       "      <td>3385</td>\n",
       "    </tr>\n",
       "    <tr>\n",
       "      <th>No phone service</th>\n",
       "      <td>680</td>\n",
       "      <td>680</td>\n",
       "      <td>680</td>\n",
       "      <td>680</td>\n",
       "      <td>680</td>\n",
       "      <td>680</td>\n",
       "      <td>680</td>\n",
       "      <td>680</td>\n",
       "      <td>680</td>\n",
       "      <td>680</td>\n",
       "      <td>680</td>\n",
       "      <td>680</td>\n",
       "      <td>680</td>\n",
       "      <td>680</td>\n",
       "      <td>680</td>\n",
       "      <td>680</td>\n",
       "      <td>680</td>\n",
       "      <td>680</td>\n",
       "      <td>680</td>\n",
       "      <td>680</td>\n",
       "    </tr>\n",
       "    <tr>\n",
       "      <th>Yes</th>\n",
       "      <td>2967</td>\n",
       "      <td>2967</td>\n",
       "      <td>2967</td>\n",
       "      <td>2967</td>\n",
       "      <td>2967</td>\n",
       "      <td>2967</td>\n",
       "      <td>2967</td>\n",
       "      <td>2967</td>\n",
       "      <td>2967</td>\n",
       "      <td>2967</td>\n",
       "      <td>2967</td>\n",
       "      <td>2967</td>\n",
       "      <td>2967</td>\n",
       "      <td>2967</td>\n",
       "      <td>2967</td>\n",
       "      <td>2967</td>\n",
       "      <td>2967</td>\n",
       "      <td>2967</td>\n",
       "      <td>2967</td>\n",
       "      <td>2967</td>\n",
       "    </tr>\n",
       "  </tbody>\n",
       "</table>\n",
       "</div>"
      ],
      "text/plain": [
       "                  customer_id  gender  senior_citizen  partner  dependents  \\\n",
       "multiple_lines                                                               \n",
       "No                       3385    3385            3385     3385        3385   \n",
       "No phone service          680     680             680      680         680   \n",
       "Yes                      2967    2967            2967     2967        2967   \n",
       "\n",
       "                  tenure  phone_service  internet_service  online_security  \\\n",
       "multiple_lines                                                               \n",
       "No                  3385           3385              3385             3385   \n",
       "No phone service     680            680               680              680   \n",
       "Yes                 2967           2967              2967             2967   \n",
       "\n",
       "                  online_backup  device_protection  tech_support  \\\n",
       "multiple_lines                                                     \n",
       "No                         3385               3385          3385   \n",
       "No phone service            680                680           680   \n",
       "Yes                        2967               2967          2967   \n",
       "\n",
       "                  streaming_tv  streaming_movies  contract  paperless_billing  \\\n",
       "multiple_lines                                                                  \n",
       "No                        3385              3385      3385               3385   \n",
       "No phone service           680               680       680                680   \n",
       "Yes                       2967              2967      2967               2967   \n",
       "\n",
       "                  payment_method  monthly_charges  total_charges  churn  \n",
       "multiple_lines                                                           \n",
       "No                          3385             3385           3385   3385  \n",
       "No phone service             680              680            680    680  \n",
       "Yes                         2967             2967           2967   2967  "
      ]
     },
     "execution_count": 22,
     "metadata": {},
     "output_type": "execute_result"
    }
   ],
   "source": [
    "empresa.groupby(['multiple_lines']).count() "
   ]
  },
  {
   "cell_type": "markdown",
   "id": "improved-bulgarian",
   "metadata": {},
   "source": [
    "Transformamos las variables a una codificación de one hot encoding: multiplelines, internetservice, onlinesecurity, onlinebackup, deviceprotection, techsupport, streamingtv, streamingmovies, contract, paymentmethod."
   ]
  },
  {
   "cell_type": "code",
   "execution_count": 23,
   "id": "reflected-anatomy",
   "metadata": {},
   "outputs": [],
   "source": [
    "from sklearn.preprocessing import OneHotEncoder"
   ]
  },
  {
   "cell_type": "code",
   "execution_count": 24,
   "id": "ruled-frederick",
   "metadata": {},
   "outputs": [],
   "source": [
    "ohe = OneHotEncoder()\n",
    "ohe_df = pd.DataFrame()"
   ]
  },
  {
   "cell_type": "code",
   "execution_count": 25,
   "id": "initial-affiliate",
   "metadata": {},
   "outputs": [],
   "source": [
    "ohe_var = [\"multiple_lines\", \"internet_service\", \"online_security\", \"online_backup\", \"device_protection\", \n",
    "           \"tech_support\", \"streaming_tv\", \"streaming_movies\", \"contract\", \"payment_method\"]"
   ]
  },
  {
   "cell_type": "code",
   "execution_count": 26,
   "id": "hybrid-nature",
   "metadata": {},
   "outputs": [],
   "source": [
    "for i in range(len(ohe_var)):\n",
    "    columna = ohe_var[i]\n",
    "    ohe_ = ohe.fit_transform(empresa[columna].values.reshape(-1,1))\n",
    "    df_ohe = pd.DataFrame(list(ohe_.toarray()), columns = columna + \"_\" + empresa[columna].unique())\n",
    "    ohe_df = pd.merge(df_ohe, ohe_df, how=\"left\", left_index = True, right_index = True)"
   ]
  },
  {
   "cell_type": "code",
   "execution_count": 27,
   "id": "creative-spice",
   "metadata": {},
   "outputs": [
    {
     "data": {
      "text/html": [
       "<div>\n",
       "<style scoped>\n",
       "    .dataframe tbody tr th:only-of-type {\n",
       "        vertical-align: middle;\n",
       "    }\n",
       "\n",
       "    .dataframe tbody tr th {\n",
       "        vertical-align: top;\n",
       "    }\n",
       "\n",
       "    .dataframe thead th {\n",
       "        text-align: right;\n",
       "    }\n",
       "</style>\n",
       "<table border=\"1\" class=\"dataframe\">\n",
       "  <thead>\n",
       "    <tr style=\"text-align: right;\">\n",
       "      <th></th>\n",
       "      <th>payment_method_Electronic check</th>\n",
       "      <th>payment_method_Mailed check</th>\n",
       "      <th>payment_method_Bank transfer (automatic)</th>\n",
       "      <th>payment_method_Credit card (automatic)</th>\n",
       "      <th>contract_Month-to-month</th>\n",
       "      <th>contract_One year</th>\n",
       "      <th>contract_Two year</th>\n",
       "      <th>streaming_movies_No</th>\n",
       "      <th>streaming_movies_Yes</th>\n",
       "      <th>streaming_movies_No internet service</th>\n",
       "      <th>...</th>\n",
       "      <th>online_backup_No internet service</th>\n",
       "      <th>online_security_No</th>\n",
       "      <th>online_security_Yes</th>\n",
       "      <th>online_security_No internet service</th>\n",
       "      <th>internet_service_DSL</th>\n",
       "      <th>internet_service_Fiber optic</th>\n",
       "      <th>internet_service_No</th>\n",
       "      <th>multiple_lines_No phone service</th>\n",
       "      <th>multiple_lines_No</th>\n",
       "      <th>multiple_lines_Yes</th>\n",
       "    </tr>\n",
       "  </thead>\n",
       "  <tbody>\n",
       "    <tr>\n",
       "      <th>0</th>\n",
       "      <td>0.0</td>\n",
       "      <td>0.0</td>\n",
       "      <td>1.0</td>\n",
       "      <td>0.0</td>\n",
       "      <td>1.0</td>\n",
       "      <td>0.0</td>\n",
       "      <td>0.0</td>\n",
       "      <td>1.0</td>\n",
       "      <td>0.0</td>\n",
       "      <td>0.0</td>\n",
       "      <td>...</td>\n",
       "      <td>1.0</td>\n",
       "      <td>1.0</td>\n",
       "      <td>0.0</td>\n",
       "      <td>0.0</td>\n",
       "      <td>1.0</td>\n",
       "      <td>0.0</td>\n",
       "      <td>0.0</td>\n",
       "      <td>0.0</td>\n",
       "      <td>1.0</td>\n",
       "      <td>0.0</td>\n",
       "    </tr>\n",
       "    <tr>\n",
       "      <th>1</th>\n",
       "      <td>0.0</td>\n",
       "      <td>0.0</td>\n",
       "      <td>0.0</td>\n",
       "      <td>1.0</td>\n",
       "      <td>0.0</td>\n",
       "      <td>1.0</td>\n",
       "      <td>0.0</td>\n",
       "      <td>1.0</td>\n",
       "      <td>0.0</td>\n",
       "      <td>0.0</td>\n",
       "      <td>...</td>\n",
       "      <td>0.0</td>\n",
       "      <td>0.0</td>\n",
       "      <td>0.0</td>\n",
       "      <td>1.0</td>\n",
       "      <td>1.0</td>\n",
       "      <td>0.0</td>\n",
       "      <td>0.0</td>\n",
       "      <td>1.0</td>\n",
       "      <td>0.0</td>\n",
       "      <td>0.0</td>\n",
       "    </tr>\n",
       "    <tr>\n",
       "      <th>2</th>\n",
       "      <td>0.0</td>\n",
       "      <td>0.0</td>\n",
       "      <td>0.0</td>\n",
       "      <td>1.0</td>\n",
       "      <td>1.0</td>\n",
       "      <td>0.0</td>\n",
       "      <td>0.0</td>\n",
       "      <td>1.0</td>\n",
       "      <td>0.0</td>\n",
       "      <td>0.0</td>\n",
       "      <td>...</td>\n",
       "      <td>1.0</td>\n",
       "      <td>0.0</td>\n",
       "      <td>0.0</td>\n",
       "      <td>1.0</td>\n",
       "      <td>1.0</td>\n",
       "      <td>0.0</td>\n",
       "      <td>0.0</td>\n",
       "      <td>1.0</td>\n",
       "      <td>0.0</td>\n",
       "      <td>0.0</td>\n",
       "    </tr>\n",
       "    <tr>\n",
       "      <th>3</th>\n",
       "      <td>1.0</td>\n",
       "      <td>0.0</td>\n",
       "      <td>0.0</td>\n",
       "      <td>0.0</td>\n",
       "      <td>0.0</td>\n",
       "      <td>1.0</td>\n",
       "      <td>0.0</td>\n",
       "      <td>1.0</td>\n",
       "      <td>0.0</td>\n",
       "      <td>0.0</td>\n",
       "      <td>...</td>\n",
       "      <td>0.0</td>\n",
       "      <td>0.0</td>\n",
       "      <td>0.0</td>\n",
       "      <td>1.0</td>\n",
       "      <td>1.0</td>\n",
       "      <td>0.0</td>\n",
       "      <td>0.0</td>\n",
       "      <td>0.0</td>\n",
       "      <td>1.0</td>\n",
       "      <td>0.0</td>\n",
       "    </tr>\n",
       "    <tr>\n",
       "      <th>4</th>\n",
       "      <td>0.0</td>\n",
       "      <td>0.0</td>\n",
       "      <td>1.0</td>\n",
       "      <td>0.0</td>\n",
       "      <td>1.0</td>\n",
       "      <td>0.0</td>\n",
       "      <td>0.0</td>\n",
       "      <td>1.0</td>\n",
       "      <td>0.0</td>\n",
       "      <td>0.0</td>\n",
       "      <td>...</td>\n",
       "      <td>0.0</td>\n",
       "      <td>1.0</td>\n",
       "      <td>0.0</td>\n",
       "      <td>0.0</td>\n",
       "      <td>0.0</td>\n",
       "      <td>1.0</td>\n",
       "      <td>0.0</td>\n",
       "      <td>1.0</td>\n",
       "      <td>0.0</td>\n",
       "      <td>0.0</td>\n",
       "    </tr>\n",
       "  </tbody>\n",
       "</table>\n",
       "<p>5 rows × 31 columns</p>\n",
       "</div>"
      ],
      "text/plain": [
       "   payment_method_Electronic check  payment_method_Mailed check  \\\n",
       "0                              0.0                          0.0   \n",
       "1                              0.0                          0.0   \n",
       "2                              0.0                          0.0   \n",
       "3                              1.0                          0.0   \n",
       "4                              0.0                          0.0   \n",
       "\n",
       "   payment_method_Bank transfer (automatic)  \\\n",
       "0                                       1.0   \n",
       "1                                       0.0   \n",
       "2                                       0.0   \n",
       "3                                       0.0   \n",
       "4                                       1.0   \n",
       "\n",
       "   payment_method_Credit card (automatic)  contract_Month-to-month  \\\n",
       "0                                     0.0                      1.0   \n",
       "1                                     1.0                      0.0   \n",
       "2                                     1.0                      1.0   \n",
       "3                                     0.0                      0.0   \n",
       "4                                     0.0                      1.0   \n",
       "\n",
       "   contract_One year  contract_Two year  streaming_movies_No  \\\n",
       "0                0.0                0.0                  1.0   \n",
       "1                1.0                0.0                  1.0   \n",
       "2                0.0                0.0                  1.0   \n",
       "3                1.0                0.0                  1.0   \n",
       "4                0.0                0.0                  1.0   \n",
       "\n",
       "   streaming_movies_Yes  streaming_movies_No internet service  ...  \\\n",
       "0                   0.0                                   0.0  ...   \n",
       "1                   0.0                                   0.0  ...   \n",
       "2                   0.0                                   0.0  ...   \n",
       "3                   0.0                                   0.0  ...   \n",
       "4                   0.0                                   0.0  ...   \n",
       "\n",
       "   online_backup_No internet service  online_security_No  online_security_Yes  \\\n",
       "0                                1.0                 1.0                  0.0   \n",
       "1                                0.0                 0.0                  0.0   \n",
       "2                                1.0                 0.0                  0.0   \n",
       "3                                0.0                 0.0                  0.0   \n",
       "4                                0.0                 1.0                  0.0   \n",
       "\n",
       "   online_security_No internet service  internet_service_DSL  \\\n",
       "0                                  0.0                   1.0   \n",
       "1                                  1.0                   1.0   \n",
       "2                                  1.0                   1.0   \n",
       "3                                  1.0                   1.0   \n",
       "4                                  0.0                   0.0   \n",
       "\n",
       "   internet_service_Fiber optic  internet_service_No  \\\n",
       "0                           0.0                  0.0   \n",
       "1                           0.0                  0.0   \n",
       "2                           0.0                  0.0   \n",
       "3                           0.0                  0.0   \n",
       "4                           1.0                  0.0   \n",
       "\n",
       "   multiple_lines_No phone service  multiple_lines_No  multiple_lines_Yes  \n",
       "0                              0.0                1.0                 0.0  \n",
       "1                              1.0                0.0                 0.0  \n",
       "2                              1.0                0.0                 0.0  \n",
       "3                              0.0                1.0                 0.0  \n",
       "4                              1.0                0.0                 0.0  \n",
       "\n",
       "[5 rows x 31 columns]"
      ]
     },
     "execution_count": 27,
     "metadata": {},
     "output_type": "execute_result"
    }
   ],
   "source": [
    "ohe_df.head()"
   ]
  },
  {
   "cell_type": "code",
   "execution_count": 28,
   "id": "voluntary-joshua",
   "metadata": {},
   "outputs": [],
   "source": [
    "empresa = empresa.drop(ohe_var, axis = 1)"
   ]
  },
  {
   "cell_type": "code",
   "execution_count": 29,
   "id": "blocked-perth",
   "metadata": {},
   "outputs": [],
   "source": [
    "empresa = pd.concat([empresa, ohe_df], axis=1)"
   ]
  },
  {
   "cell_type": "code",
   "execution_count": 30,
   "id": "equipped-encoding",
   "metadata": {},
   "outputs": [
    {
     "data": {
      "text/html": [
       "<div>\n",
       "<style scoped>\n",
       "    .dataframe tbody tr th:only-of-type {\n",
       "        vertical-align: middle;\n",
       "    }\n",
       "\n",
       "    .dataframe tbody tr th {\n",
       "        vertical-align: top;\n",
       "    }\n",
       "\n",
       "    .dataframe thead th {\n",
       "        text-align: right;\n",
       "    }\n",
       "</style>\n",
       "<table border=\"1\" class=\"dataframe\">\n",
       "  <thead>\n",
       "    <tr style=\"text-align: right;\">\n",
       "      <th></th>\n",
       "      <th>customer_id</th>\n",
       "      <th>gender</th>\n",
       "      <th>senior_citizen</th>\n",
       "      <th>partner</th>\n",
       "      <th>dependents</th>\n",
       "      <th>tenure</th>\n",
       "      <th>phone_service</th>\n",
       "      <th>paperless_billing</th>\n",
       "      <th>monthly_charges</th>\n",
       "      <th>total_charges</th>\n",
       "      <th>...</th>\n",
       "      <th>online_backup_No internet service</th>\n",
       "      <th>online_security_No</th>\n",
       "      <th>online_security_Yes</th>\n",
       "      <th>online_security_No internet service</th>\n",
       "      <th>internet_service_DSL</th>\n",
       "      <th>internet_service_Fiber optic</th>\n",
       "      <th>internet_service_No</th>\n",
       "      <th>multiple_lines_No phone service</th>\n",
       "      <th>multiple_lines_No</th>\n",
       "      <th>multiple_lines_Yes</th>\n",
       "    </tr>\n",
       "  </thead>\n",
       "  <tbody>\n",
       "    <tr>\n",
       "      <th>0</th>\n",
       "      <td>7590-VHVEG</td>\n",
       "      <td>1</td>\n",
       "      <td>0</td>\n",
       "      <td>1</td>\n",
       "      <td>0</td>\n",
       "      <td>1</td>\n",
       "      <td>0</td>\n",
       "      <td>1</td>\n",
       "      <td>29.85</td>\n",
       "      <td>29.85</td>\n",
       "      <td>...</td>\n",
       "      <td>1.0</td>\n",
       "      <td>1.0</td>\n",
       "      <td>0.0</td>\n",
       "      <td>0.0</td>\n",
       "      <td>1.0</td>\n",
       "      <td>0.0</td>\n",
       "      <td>0.0</td>\n",
       "      <td>0.0</td>\n",
       "      <td>1.0</td>\n",
       "      <td>0.0</td>\n",
       "    </tr>\n",
       "    <tr>\n",
       "      <th>1</th>\n",
       "      <td>5575-GNVDE</td>\n",
       "      <td>0</td>\n",
       "      <td>0</td>\n",
       "      <td>0</td>\n",
       "      <td>0</td>\n",
       "      <td>34</td>\n",
       "      <td>1</td>\n",
       "      <td>0</td>\n",
       "      <td>56.95</td>\n",
       "      <td>1889.5</td>\n",
       "      <td>...</td>\n",
       "      <td>0.0</td>\n",
       "      <td>0.0</td>\n",
       "      <td>0.0</td>\n",
       "      <td>1.0</td>\n",
       "      <td>1.0</td>\n",
       "      <td>0.0</td>\n",
       "      <td>0.0</td>\n",
       "      <td>1.0</td>\n",
       "      <td>0.0</td>\n",
       "      <td>0.0</td>\n",
       "    </tr>\n",
       "    <tr>\n",
       "      <th>2</th>\n",
       "      <td>3668-QPYBK</td>\n",
       "      <td>0</td>\n",
       "      <td>0</td>\n",
       "      <td>0</td>\n",
       "      <td>0</td>\n",
       "      <td>2</td>\n",
       "      <td>1</td>\n",
       "      <td>1</td>\n",
       "      <td>53.85</td>\n",
       "      <td>108.15</td>\n",
       "      <td>...</td>\n",
       "      <td>1.0</td>\n",
       "      <td>0.0</td>\n",
       "      <td>0.0</td>\n",
       "      <td>1.0</td>\n",
       "      <td>1.0</td>\n",
       "      <td>0.0</td>\n",
       "      <td>0.0</td>\n",
       "      <td>1.0</td>\n",
       "      <td>0.0</td>\n",
       "      <td>0.0</td>\n",
       "    </tr>\n",
       "    <tr>\n",
       "      <th>3</th>\n",
       "      <td>7795-CFOCW</td>\n",
       "      <td>0</td>\n",
       "      <td>0</td>\n",
       "      <td>0</td>\n",
       "      <td>0</td>\n",
       "      <td>45</td>\n",
       "      <td>0</td>\n",
       "      <td>0</td>\n",
       "      <td>42.30</td>\n",
       "      <td>1840.75</td>\n",
       "      <td>...</td>\n",
       "      <td>0.0</td>\n",
       "      <td>0.0</td>\n",
       "      <td>0.0</td>\n",
       "      <td>1.0</td>\n",
       "      <td>1.0</td>\n",
       "      <td>0.0</td>\n",
       "      <td>0.0</td>\n",
       "      <td>0.0</td>\n",
       "      <td>1.0</td>\n",
       "      <td>0.0</td>\n",
       "    </tr>\n",
       "    <tr>\n",
       "      <th>4</th>\n",
       "      <td>9237-HQITU</td>\n",
       "      <td>1</td>\n",
       "      <td>0</td>\n",
       "      <td>0</td>\n",
       "      <td>0</td>\n",
       "      <td>2</td>\n",
       "      <td>1</td>\n",
       "      <td>1</td>\n",
       "      <td>70.70</td>\n",
       "      <td>151.65</td>\n",
       "      <td>...</td>\n",
       "      <td>0.0</td>\n",
       "      <td>1.0</td>\n",
       "      <td>0.0</td>\n",
       "      <td>0.0</td>\n",
       "      <td>0.0</td>\n",
       "      <td>1.0</td>\n",
       "      <td>0.0</td>\n",
       "      <td>1.0</td>\n",
       "      <td>0.0</td>\n",
       "      <td>0.0</td>\n",
       "    </tr>\n",
       "  </tbody>\n",
       "</table>\n",
       "<p>5 rows × 42 columns</p>\n",
       "</div>"
      ],
      "text/plain": [
       "  customer_id  gender  senior_citizen  partner  dependents  tenure  \\\n",
       "0  7590-VHVEG       1               0        1           0       1   \n",
       "1  5575-GNVDE       0               0        0           0      34   \n",
       "2  3668-QPYBK       0               0        0           0       2   \n",
       "3  7795-CFOCW       0               0        0           0      45   \n",
       "4  9237-HQITU       1               0        0           0       2   \n",
       "\n",
       "   phone_service  paperless_billing  monthly_charges total_charges  ...  \\\n",
       "0              0                  1            29.85         29.85  ...   \n",
       "1              1                  0            56.95        1889.5  ...   \n",
       "2              1                  1            53.85        108.15  ...   \n",
       "3              0                  0            42.30       1840.75  ...   \n",
       "4              1                  1            70.70        151.65  ...   \n",
       "\n",
       "   online_backup_No internet service  online_security_No  online_security_Yes  \\\n",
       "0                                1.0                 1.0                  0.0   \n",
       "1                                0.0                 0.0                  0.0   \n",
       "2                                1.0                 0.0                  0.0   \n",
       "3                                0.0                 0.0                  0.0   \n",
       "4                                0.0                 1.0                  0.0   \n",
       "\n",
       "   online_security_No internet service  internet_service_DSL  \\\n",
       "0                                  0.0                   1.0   \n",
       "1                                  1.0                   1.0   \n",
       "2                                  1.0                   1.0   \n",
       "3                                  1.0                   1.0   \n",
       "4                                  0.0                   0.0   \n",
       "\n",
       "   internet_service_Fiber optic  internet_service_No  \\\n",
       "0                           0.0                  0.0   \n",
       "1                           0.0                  0.0   \n",
       "2                           0.0                  0.0   \n",
       "3                           0.0                  0.0   \n",
       "4                           1.0                  0.0   \n",
       "\n",
       "   multiple_lines_No phone service  multiple_lines_No  multiple_lines_Yes  \n",
       "0                              0.0                1.0                 0.0  \n",
       "1                              1.0                0.0                 0.0  \n",
       "2                              1.0                0.0                 0.0  \n",
       "3                              0.0                1.0                 0.0  \n",
       "4                              1.0                0.0                 0.0  \n",
       "\n",
       "[5 rows x 42 columns]"
      ]
     },
     "execution_count": 30,
     "metadata": {},
     "output_type": "execute_result"
    }
   ],
   "source": [
    "empresa.head()"
   ]
  },
  {
   "cell_type": "markdown",
   "id": "academic-james",
   "metadata": {},
   "source": [
    "## Modelado"
   ]
  },
  {
   "cell_type": "code",
   "execution_count": 31,
   "id": "restricted-bridge",
   "metadata": {},
   "outputs": [],
   "source": [
    "np.random.seed(210418)"
   ]
  },
  {
   "cell_type": "markdown",
   "id": "hollywood-minutes",
   "metadata": {},
   "source": [
    "Se generan las variables:"
   ]
  },
  {
   "cell_type": "code",
   "execution_count": 32,
   "id": "stainless-metro",
   "metadata": {},
   "outputs": [
    {
     "data": {
      "text/plain": [
       "0    0\n",
       "1    0\n",
       "2    1\n",
       "3    0\n",
       "4    1\n",
       "Name: churn, dtype: int64"
      ]
     },
     "execution_count": 32,
     "metadata": {},
     "output_type": "execute_result"
    }
   ],
   "source": [
    "# Variable target\n",
    "y = empresa.churn\n",
    "y.head()"
   ]
  },
  {
   "cell_type": "code",
   "execution_count": 33,
   "id": "pediatric-orientation",
   "metadata": {},
   "outputs": [
    {
     "data": {
      "text/html": [
       "<div>\n",
       "<style scoped>\n",
       "    .dataframe tbody tr th:only-of-type {\n",
       "        vertical-align: middle;\n",
       "    }\n",
       "\n",
       "    .dataframe tbody tr th {\n",
       "        vertical-align: top;\n",
       "    }\n",
       "\n",
       "    .dataframe thead th {\n",
       "        text-align: right;\n",
       "    }\n",
       "</style>\n",
       "<table border=\"1\" class=\"dataframe\">\n",
       "  <thead>\n",
       "    <tr style=\"text-align: right;\">\n",
       "      <th></th>\n",
       "      <th>gender</th>\n",
       "      <th>senior_citizen</th>\n",
       "      <th>partner</th>\n",
       "      <th>dependents</th>\n",
       "      <th>tenure</th>\n",
       "      <th>phone_service</th>\n",
       "      <th>paperless_billing</th>\n",
       "      <th>monthly_charges</th>\n",
       "      <th>total_charges</th>\n",
       "      <th>payment_method_Electronic check</th>\n",
       "      <th>...</th>\n",
       "      <th>online_backup_No internet service</th>\n",
       "      <th>online_security_No</th>\n",
       "      <th>online_security_Yes</th>\n",
       "      <th>online_security_No internet service</th>\n",
       "      <th>internet_service_DSL</th>\n",
       "      <th>internet_service_Fiber optic</th>\n",
       "      <th>internet_service_No</th>\n",
       "      <th>multiple_lines_No phone service</th>\n",
       "      <th>multiple_lines_No</th>\n",
       "      <th>multiple_lines_Yes</th>\n",
       "    </tr>\n",
       "  </thead>\n",
       "  <tbody>\n",
       "    <tr>\n",
       "      <th>0</th>\n",
       "      <td>1</td>\n",
       "      <td>0</td>\n",
       "      <td>1</td>\n",
       "      <td>0</td>\n",
       "      <td>1</td>\n",
       "      <td>0</td>\n",
       "      <td>1</td>\n",
       "      <td>29.85</td>\n",
       "      <td>29.85</td>\n",
       "      <td>0.0</td>\n",
       "      <td>...</td>\n",
       "      <td>1.0</td>\n",
       "      <td>1.0</td>\n",
       "      <td>0.0</td>\n",
       "      <td>0.0</td>\n",
       "      <td>1.0</td>\n",
       "      <td>0.0</td>\n",
       "      <td>0.0</td>\n",
       "      <td>0.0</td>\n",
       "      <td>1.0</td>\n",
       "      <td>0.0</td>\n",
       "    </tr>\n",
       "    <tr>\n",
       "      <th>1</th>\n",
       "      <td>0</td>\n",
       "      <td>0</td>\n",
       "      <td>0</td>\n",
       "      <td>0</td>\n",
       "      <td>34</td>\n",
       "      <td>1</td>\n",
       "      <td>0</td>\n",
       "      <td>56.95</td>\n",
       "      <td>1889.5</td>\n",
       "      <td>0.0</td>\n",
       "      <td>...</td>\n",
       "      <td>0.0</td>\n",
       "      <td>0.0</td>\n",
       "      <td>0.0</td>\n",
       "      <td>1.0</td>\n",
       "      <td>1.0</td>\n",
       "      <td>0.0</td>\n",
       "      <td>0.0</td>\n",
       "      <td>1.0</td>\n",
       "      <td>0.0</td>\n",
       "      <td>0.0</td>\n",
       "    </tr>\n",
       "    <tr>\n",
       "      <th>2</th>\n",
       "      <td>0</td>\n",
       "      <td>0</td>\n",
       "      <td>0</td>\n",
       "      <td>0</td>\n",
       "      <td>2</td>\n",
       "      <td>1</td>\n",
       "      <td>1</td>\n",
       "      <td>53.85</td>\n",
       "      <td>108.15</td>\n",
       "      <td>0.0</td>\n",
       "      <td>...</td>\n",
       "      <td>1.0</td>\n",
       "      <td>0.0</td>\n",
       "      <td>0.0</td>\n",
       "      <td>1.0</td>\n",
       "      <td>1.0</td>\n",
       "      <td>0.0</td>\n",
       "      <td>0.0</td>\n",
       "      <td>1.0</td>\n",
       "      <td>0.0</td>\n",
       "      <td>0.0</td>\n",
       "    </tr>\n",
       "    <tr>\n",
       "      <th>3</th>\n",
       "      <td>0</td>\n",
       "      <td>0</td>\n",
       "      <td>0</td>\n",
       "      <td>0</td>\n",
       "      <td>45</td>\n",
       "      <td>0</td>\n",
       "      <td>0</td>\n",
       "      <td>42.30</td>\n",
       "      <td>1840.75</td>\n",
       "      <td>1.0</td>\n",
       "      <td>...</td>\n",
       "      <td>0.0</td>\n",
       "      <td>0.0</td>\n",
       "      <td>0.0</td>\n",
       "      <td>1.0</td>\n",
       "      <td>1.0</td>\n",
       "      <td>0.0</td>\n",
       "      <td>0.0</td>\n",
       "      <td>0.0</td>\n",
       "      <td>1.0</td>\n",
       "      <td>0.0</td>\n",
       "    </tr>\n",
       "    <tr>\n",
       "      <th>4</th>\n",
       "      <td>1</td>\n",
       "      <td>0</td>\n",
       "      <td>0</td>\n",
       "      <td>0</td>\n",
       "      <td>2</td>\n",
       "      <td>1</td>\n",
       "      <td>1</td>\n",
       "      <td>70.70</td>\n",
       "      <td>151.65</td>\n",
       "      <td>0.0</td>\n",
       "      <td>...</td>\n",
       "      <td>0.0</td>\n",
       "      <td>1.0</td>\n",
       "      <td>0.0</td>\n",
       "      <td>0.0</td>\n",
       "      <td>0.0</td>\n",
       "      <td>1.0</td>\n",
       "      <td>0.0</td>\n",
       "      <td>1.0</td>\n",
       "      <td>0.0</td>\n",
       "      <td>0.0</td>\n",
       "    </tr>\n",
       "  </tbody>\n",
       "</table>\n",
       "<p>5 rows × 40 columns</p>\n",
       "</div>"
      ],
      "text/plain": [
       "   gender  senior_citizen  partner  dependents  tenure  phone_service  \\\n",
       "0       1               0        1           0       1              0   \n",
       "1       0               0        0           0      34              1   \n",
       "2       0               0        0           0       2              1   \n",
       "3       0               0        0           0      45              0   \n",
       "4       1               0        0           0       2              1   \n",
       "\n",
       "   paperless_billing  monthly_charges total_charges  \\\n",
       "0                  1            29.85         29.85   \n",
       "1                  0            56.95        1889.5   \n",
       "2                  1            53.85        108.15   \n",
       "3                  0            42.30       1840.75   \n",
       "4                  1            70.70        151.65   \n",
       "\n",
       "   payment_method_Electronic check  ...  online_backup_No internet service  \\\n",
       "0                              0.0  ...                                1.0   \n",
       "1                              0.0  ...                                0.0   \n",
       "2                              0.0  ...                                1.0   \n",
       "3                              1.0  ...                                0.0   \n",
       "4                              0.0  ...                                0.0   \n",
       "\n",
       "   online_security_No  online_security_Yes  \\\n",
       "0                 1.0                  0.0   \n",
       "1                 0.0                  0.0   \n",
       "2                 0.0                  0.0   \n",
       "3                 0.0                  0.0   \n",
       "4                 1.0                  0.0   \n",
       "\n",
       "   online_security_No internet service  internet_service_DSL  \\\n",
       "0                                  0.0                   1.0   \n",
       "1                                  1.0                   1.0   \n",
       "2                                  1.0                   1.0   \n",
       "3                                  1.0                   1.0   \n",
       "4                                  0.0                   0.0   \n",
       "\n",
       "   internet_service_Fiber optic  internet_service_No  \\\n",
       "0                           0.0                  0.0   \n",
       "1                           0.0                  0.0   \n",
       "2                           0.0                  0.0   \n",
       "3                           0.0                  0.0   \n",
       "4                           1.0                  0.0   \n",
       "\n",
       "   multiple_lines_No phone service  multiple_lines_No  multiple_lines_Yes  \n",
       "0                              0.0                1.0                 0.0  \n",
       "1                              1.0                0.0                 0.0  \n",
       "2                              1.0                0.0                 0.0  \n",
       "3                              0.0                1.0                 0.0  \n",
       "4                              1.0                0.0                 0.0  \n",
       "\n",
       "[5 rows x 40 columns]"
      ]
     },
     "execution_count": 33,
     "metadata": {},
     "output_type": "execute_result"
    }
   ],
   "source": [
    "# Variables para predecir\n",
    "# Se quita la columna churn (es el target) y customer_id (causa conflicto en el árbol)\n",
    "X = empresa.drop(['churn', 'customer_id'], axis = 1)\n",
    "X.head()"
   ]
  },
  {
   "cell_type": "markdown",
   "id": "representative-river",
   "metadata": {},
   "source": [
    "### Árbol de selección"
   ]
  },
  {
   "cell_type": "markdown",
   "id": "chief-dominant",
   "metadata": {},
   "source": [
    "Se hace la separación de entrenamiento"
   ]
  },
  {
   "cell_type": "code",
   "execution_count": 34,
   "id": "opposed-baker",
   "metadata": {},
   "outputs": [
    {
     "name": "stdout",
     "output_type": "stream",
     "text": [
      "entrenamiento: X: (5274, 40), y: (5274,)\n",
      "prueba: X: (1758, 40), y: (1758,)\n"
     ]
    }
   ],
   "source": [
    "## separando en train, test \n",
    "from sklearn.model_selection import train_test_split\n",
    "\n",
    "X_train, X_test, y_train, y_test = train_test_split(X, y, test_size=0.25)\n",
    "\n",
    "## verificando los tamaños de nuestros 4 sets\n",
    "print(\"entrenamiento: X: {}, y: {}\".format(X_train.shape, y_train.shape))\n",
    "print(\"prueba: X: {}, y: {}\".format(X_test.shape, y_test.shape))"
   ]
  },
  {
   "cell_type": "markdown",
   "id": "unavailable-afternoon",
   "metadata": {},
   "source": [
    "Se configura el árbol:"
   ]
  },
  {
   "cell_type": "code",
   "execution_count": 35,
   "id": "ongoing-investigation",
   "metadata": {},
   "outputs": [
    {
     "name": "stdout",
     "output_type": "stream",
     "text": [
      "tiempo de ejecución en segundos: 13.384314775466919\n"
     ]
    }
   ],
   "source": [
    "from sklearn.tree import DecisionTreeClassifier, plot_tree\n",
    "from sklearn.model_selection import GridSearchCV\n",
    "import matplotlib.pyplot as plt\n",
    "import time\n",
    "\n",
    "%matplotlib inline\n",
    "\n",
    "grid = {'random_state': [5432], 'max_depth': [5, 7, 11], 'min_samples_leaf': [7, 9, 11, 13], \n",
    "        'criterion':['gini','entropy'] }\n",
    "\n",
    "dt = DecisionTreeClassifier(random_state=5432)\n",
    "gs_dt = GridSearchCV(dt, grid, cv=5, scoring='recall', return_train_score=True, n_jobs=-1)\n",
    "\n",
    "start = time.time()\n",
    "# Instanciaremos y entrenaremos el árbol con nuestros datos de entrenamiento\n",
    "gs_dt.fit(X_train, y_train)\n",
    "print(\"tiempo de ejecución en segundos: {}\".format(time.time() - start))"
   ]
  },
  {
   "cell_type": "markdown",
   "id": "persistent-senior",
   "metadata": {},
   "source": [
    "Se generan **24 modelos**, es decir que se genera un modelo por cada combinación posible entre los parámetros dados. \n",
    "\n",
    "Por lo tanto: 1 x 3 x 4 x 2 = 24 modelos."
   ]
  },
  {
   "cell_type": "code",
   "execution_count": 36,
   "id": "scientific-exhibit",
   "metadata": {},
   "outputs": [
    {
     "data": {
      "text/plain": [
       "array([0.01146319, 0.00914269, 0.0024823 , 0.00231267, 0.15592133,\n",
       "       0.00339089, 0.01192543, 0.08460734, 0.07648416, 0.00411911,\n",
       "       0.        , 0.01875197, 0.00195279, 0.43681937, 0.01941309,\n",
       "       0.        , 0.        , 0.        , 0.01134441, 0.00165582,\n",
       "       0.        , 0.        , 0.01218505, 0.        , 0.00268436,\n",
       "       0.00358144, 0.        , 0.        , 0.00976768, 0.        ,\n",
       "       0.        , 0.00354587, 0.        , 0.00726961, 0.        ,\n",
       "       0.09906008, 0.        , 0.00298772, 0.00288108, 0.00425054])"
      ]
     },
     "execution_count": 36,
     "metadata": {},
     "output_type": "execute_result"
    }
   ],
   "source": [
    "# mejor configuración \n",
    "importancias = gs_dt.best_estimator_.feature_importances_\n",
    "importancias"
   ]
  },
  {
   "cell_type": "code",
   "execution_count": 37,
   "id": "sudden-deficit",
   "metadata": {},
   "outputs": [
    {
     "data": {
      "text/plain": [
       "array([13,  4, 35])"
      ]
     },
     "execution_count": 37,
     "metadata": {},
     "output_type": "execute_result"
    }
   ],
   "source": [
    "# Índices de los más importantes (están ordenados de menor a mayor)\n",
    "imp_3 = np.argsort(importancias)[[-1, -2, -3]]\n",
    "imp_3"
   ]
  },
  {
   "cell_type": "code",
   "execution_count": 38,
   "id": "sorted-wesley",
   "metadata": {},
   "outputs": [
    {
     "data": {
      "text/plain": [
       "Index(['contract_Month-to-month', 'tenure', 'internet_service_Fiber optic'], dtype='object')"
      ]
     },
     "execution_count": 38,
     "metadata": {},
     "output_type": "execute_result"
    }
   ],
   "source": [
    "# Columnas importantes\n",
    "X.columns[imp_3]"
   ]
  },
  {
   "cell_type": "code",
   "execution_count": 39,
   "id": "threatened-pollution",
   "metadata": {},
   "outputs": [
    {
     "data": {
      "text/plain": [
       "array([0.43681937, 0.15592133, 0.09906008])"
      ]
     },
     "execution_count": 39,
     "metadata": {},
     "output_type": "execute_result"
    }
   ],
   "source": [
    "# Porcentaje de importancia de las columnas importantes\n",
    "importancias[imp_3]"
   ]
  },
  {
   "cell_type": "markdown",
   "id": "isolated-version",
   "metadata": {},
   "source": [
    "Las tres variables más importantes para la predicción son si el cliente tiene un contrato de mes-mes (contract_Month-to-month) con 43.68% de importancia; la tenencia (tenure) con 15.59% de importancia; y si el cliente tiene Internet por medio de fibra óptica (internet_service_Fiber optic) con 9.90% de importancia."
   ]
  },
  {
   "cell_type": "code",
   "execution_count": 40,
   "id": "quarterly-prevention",
   "metadata": {},
   "outputs": [
    {
     "data": {
      "text/plain": [
       "Index(['senior_citizen', 'partner', 'dependents', 'phone_service',\n",
       "       'payment_method_Electronic check', 'payment_method_Mailed check',\n",
       "       'payment_method_Credit card (automatic)', 'contract_Two year',\n",
       "       'streaming_movies_No', 'streaming_movies_Yes', 'streaming_tv_No',\n",
       "       'streaming_tv_Yes', 'streaming_tv_No internet service',\n",
       "       'tech_support_Yes', 'tech_support_No internet service',\n",
       "       'device_protection_No', 'device_protection_Yes',\n",
       "       'device_protection_No internet service', 'online_backup_Yes',\n",
       "       'online_backup_No', 'online_backup_No internet service',\n",
       "       'online_security_No', 'online_security_Yes',\n",
       "       'online_security_No internet service', 'internet_service_DSL',\n",
       "       'internet_service_No', 'multiple_lines_No phone service',\n",
       "       'multiple_lines_No', 'multiple_lines_Yes'],\n",
       "      dtype='object')"
      ]
     },
     "execution_count": 40,
     "metadata": {},
     "output_type": "execute_result"
    }
   ],
   "source": [
    "# Variables que no importan\n",
    "no_imp = np.where(importancias < 0.01)\n",
    "var_no_imp = X.columns[no_imp]\n",
    "var_no_imp"
   ]
  },
  {
   "cell_type": "code",
   "execution_count": 41,
   "id": "communist-venture",
   "metadata": {},
   "outputs": [],
   "source": [
    "X_train = X_train.drop(var_no_imp, axis = 1)\n",
    "X_test = X_test.drop(var_no_imp, axis = 1)"
   ]
  },
  {
   "cell_type": "code",
   "execution_count": 42,
   "id": "armed-screen",
   "metadata": {
    "scrolled": true
   },
   "outputs": [
    {
     "data": {
      "text/html": [
       "<div>\n",
       "<style scoped>\n",
       "    .dataframe tbody tr th:only-of-type {\n",
       "        vertical-align: middle;\n",
       "    }\n",
       "\n",
       "    .dataframe tbody tr th {\n",
       "        vertical-align: top;\n",
       "    }\n",
       "\n",
       "    .dataframe thead th {\n",
       "        text-align: right;\n",
       "    }\n",
       "</style>\n",
       "<table border=\"1\" class=\"dataframe\">\n",
       "  <thead>\n",
       "    <tr style=\"text-align: right;\">\n",
       "      <th></th>\n",
       "      <th>gender</th>\n",
       "      <th>tenure</th>\n",
       "      <th>paperless_billing</th>\n",
       "      <th>monthly_charges</th>\n",
       "      <th>total_charges</th>\n",
       "      <th>payment_method_Bank transfer (automatic)</th>\n",
       "      <th>contract_Month-to-month</th>\n",
       "      <th>contract_One year</th>\n",
       "      <th>streaming_movies_No internet service</th>\n",
       "      <th>tech_support_No</th>\n",
       "      <th>internet_service_Fiber optic</th>\n",
       "    </tr>\n",
       "  </thead>\n",
       "  <tbody>\n",
       "    <tr>\n",
       "      <th>5512</th>\n",
       "      <td>0</td>\n",
       "      <td>59</td>\n",
       "      <td>1</td>\n",
       "      <td>64.65</td>\n",
       "      <td>3735.45</td>\n",
       "      <td>1.0</td>\n",
       "      <td>1.0</td>\n",
       "      <td>0.0</td>\n",
       "      <td>0.0</td>\n",
       "      <td>0.0</td>\n",
       "      <td>0.0</td>\n",
       "    </tr>\n",
       "    <tr>\n",
       "      <th>6471</th>\n",
       "      <td>1</td>\n",
       "      <td>13</td>\n",
       "      <td>0</td>\n",
       "      <td>53.45</td>\n",
       "      <td>718.1</td>\n",
       "      <td>0.0</td>\n",
       "      <td>1.0</td>\n",
       "      <td>0.0</td>\n",
       "      <td>0.0</td>\n",
       "      <td>0.0</td>\n",
       "      <td>0.0</td>\n",
       "    </tr>\n",
       "    <tr>\n",
       "      <th>615</th>\n",
       "      <td>0</td>\n",
       "      <td>8</td>\n",
       "      <td>1</td>\n",
       "      <td>25.25</td>\n",
       "      <td>186.3</td>\n",
       "      <td>0.0</td>\n",
       "      <td>1.0</td>\n",
       "      <td>0.0</td>\n",
       "      <td>0.0</td>\n",
       "      <td>1.0</td>\n",
       "      <td>0.0</td>\n",
       "    </tr>\n",
       "    <tr>\n",
       "      <th>2521</th>\n",
       "      <td>0</td>\n",
       "      <td>1</td>\n",
       "      <td>0</td>\n",
       "      <td>19.40</td>\n",
       "      <td>19.4</td>\n",
       "      <td>0.0</td>\n",
       "      <td>1.0</td>\n",
       "      <td>0.0</td>\n",
       "      <td>0.0</td>\n",
       "      <td>0.0</td>\n",
       "      <td>0.0</td>\n",
       "    </tr>\n",
       "    <tr>\n",
       "      <th>571</th>\n",
       "      <td>1</td>\n",
       "      <td>11</td>\n",
       "      <td>0</td>\n",
       "      <td>64.90</td>\n",
       "      <td>697.25</td>\n",
       "      <td>0.0</td>\n",
       "      <td>0.0</td>\n",
       "      <td>1.0</td>\n",
       "      <td>1.0</td>\n",
       "      <td>0.0</td>\n",
       "      <td>0.0</td>\n",
       "    </tr>\n",
       "  </tbody>\n",
       "</table>\n",
       "</div>"
      ],
      "text/plain": [
       "      gender  tenure  paperless_billing  monthly_charges total_charges  \\\n",
       "5512       0      59                  1            64.65       3735.45   \n",
       "6471       1      13                  0            53.45         718.1   \n",
       "615        0       8                  1            25.25         186.3   \n",
       "2521       0       1                  0            19.40          19.4   \n",
       "571        1      11                  0            64.90        697.25   \n",
       "\n",
       "      payment_method_Bank transfer (automatic)  contract_Month-to-month  \\\n",
       "5512                                       1.0                      1.0   \n",
       "6471                                       0.0                      1.0   \n",
       "615                                        0.0                      1.0   \n",
       "2521                                       0.0                      1.0   \n",
       "571                                        0.0                      0.0   \n",
       "\n",
       "      contract_One year  streaming_movies_No internet service  \\\n",
       "5512                0.0                                   0.0   \n",
       "6471                0.0                                   0.0   \n",
       "615                 0.0                                   0.0   \n",
       "2521                0.0                                   0.0   \n",
       "571                 1.0                                   1.0   \n",
       "\n",
       "      tech_support_No  internet_service_Fiber optic  \n",
       "5512              0.0                           0.0  \n",
       "6471              0.0                           0.0  \n",
       "615               1.0                           0.0  \n",
       "2521              0.0                           0.0  \n",
       "571               0.0                           0.0  "
      ]
     },
     "execution_count": 42,
     "metadata": {},
     "output_type": "execute_result"
    }
   ],
   "source": [
    "X_train.head()"
   ]
  },
  {
   "cell_type": "markdown",
   "id": "alien-leader",
   "metadata": {},
   "source": [
    "<p style='text-align: justify;'> \n",
    "En este momento se eliminan las variables que no aportan mucha información del x_train y x_test ya existentes, en vez de generar uno nuevo con las variables importantes. Esto es debido a que, si se quitan de la base original y se vuelven a separar en 25% para prueba y 75% para entrenamiento, como no se utilizó un random state, la separación resultante sería diferente a la que se usó para el primer árbol. Si estos nuevos x_train y x_test los usáramos para el Random Forest, le estaríamos pasando información adicional al modelo y habría data leakage. Queremos evitar el data leakage para tener un modelo no sesgado.\n",
    "</p>"
   ]
  },
  {
   "cell_type": "markdown",
   "id": "fifth-eleven",
   "metadata": {},
   "source": [
    "### Random Forest"
   ]
  },
  {
   "cell_type": "code",
   "execution_count": null,
   "id": "searching-astronomy",
   "metadata": {},
   "outputs": [],
   "source": [
    "from sklearn.model_selection import GridSearchCV\n",
    "from sklearn.ensemble import RandomForestClassifier\n",
    "import time\n",
    "\n",
    "import matplotlib.pyplot as plt\n",
    "# n_estimators corresponde al número de árboles que queremos crear: \n",
    "grid = {'random_state': [7654], 'max_depth': [11, 13, 15], 'n_estimators': [500, 800, 1000], \n",
    "        'min_samples_leaf': [11, 13], 'criterion':['gini','entropy'] }\n",
    "\n",
    "rf = RandomForestClassifier(oob_score=True, n_jobs=-1)\n",
    "gs_rf = GridSearchCV(rf, grid, cv=5, scoring='recall', return_train_score=True, n_jobs=-1)\n",
    "\n",
    "start = time.time()\n",
    "# entrenando los random forest\n",
    "gs_rf.fit(X_train, y_train)\n",
    "print(\"tiempo de ejecución en segundos: {}\".format(time.time() - start))"
   ]
  },
  {
   "cell_type": "markdown",
   "id": "developmental-setup",
   "metadata": {},
   "source": [
    "Se generan **36 modelos**, es decir que se genera un modelo por cada combinación posible entre los parámetros dados. \n",
    "\n",
    "Por lo tanto: 1 x 3 x 3 x 2 x 2 = 36 modelos."
   ]
  },
  {
   "cell_type": "code",
   "execution_count": null,
   "id": "sophisticated-dallas",
   "metadata": {},
   "outputs": [],
   "source": [
    "# mejor configuración \n",
    "importancias_rf = gs_rf.best_estimator_.feature_importances_\n",
    "importancias_rf"
   ]
  },
  {
   "cell_type": "code",
   "execution_count": null,
   "id": "diverse-belly",
   "metadata": {},
   "outputs": [],
   "source": [
    "# Índice del más importantes (están ordenados de menor a mayor)\n",
    "imp = np.argsort(importancias_rf)[-1]\n",
    "imp"
   ]
  },
  {
   "cell_type": "code",
   "execution_count": null,
   "id": "recognized-above",
   "metadata": {},
   "outputs": [],
   "source": [
    "X_train.columns[imp]"
   ]
  },
  {
   "cell_type": "code",
   "execution_count": null,
   "id": "connected-disability",
   "metadata": {},
   "outputs": [],
   "source": [
    "importancias_rf[imp]"
   ]
  },
  {
   "cell_type": "markdown",
   "id": "dried-fiber",
   "metadata": {},
   "source": [
    "La variable raíz para el modelo es **tenure** con un porcentaje de 21.14% de información proporcionada."
   ]
  },
  {
   "cell_type": "markdown",
   "id": "phantom-jerusalem",
   "metadata": {},
   "source": [
    "Los mejores hiperparámetros para el modelo son con una profundidad de 11, una definición de hoja de 11 y con 800 árboles"
   ]
  },
  {
   "cell_type": "code",
   "execution_count": null,
   "id": "certified-bacon",
   "metadata": {},
   "outputs": [],
   "source": [
    "# mejor configuración \n",
    "gs_rf.best_estimator_"
   ]
  },
  {
   "cell_type": "markdown",
   "id": "split-leeds",
   "metadata": {},
   "source": [
    "### Predicción"
   ]
  },
  {
   "cell_type": "code",
   "execution_count": null,
   "id": "blocked-vitamin",
   "metadata": {},
   "outputs": [],
   "source": [
    "# predicciones con el mejor predictor \n",
    "predicted_labels = gs_rf.predict(X_test)\n",
    "predicted_labels[:10]"
   ]
  },
  {
   "cell_type": "code",
   "execution_count": null,
   "id": "legendary-store",
   "metadata": {},
   "outputs": [],
   "source": [
    "# predicciones en score con el mejor predictor\n",
    "predicted_scores = gs_rf.predict_proba(X_test)\n",
    "predicted_scores[:10]"
   ]
  },
  {
   "cell_type": "markdown",
   "id": "spread-legend",
   "metadata": {},
   "source": [
    "### Curva ROC"
   ]
  },
  {
   "cell_type": "code",
   "execution_count": null,
   "id": "occupied-pathology",
   "metadata": {},
   "outputs": [],
   "source": [
    "from sklearn.metrics import roc_curve, roc_auc_score\n",
    "\n",
    "import matplotlib.pyplot as plt\n",
    "\n",
    "%matplotlib inline\n",
    "\n",
    "fpr, tpr, thresholds = roc_curve(y_test, predicted_scores[:,1], pos_label=1)\n",
    "\n",
    "plt.clf()\n",
    "plt.plot([0,1],[0,1], 'k--', c=\"red\")\n",
    "plt.plot(fpr, tpr)\n",
    "plt.title(\"ROC best RF, AUC: {}\".format(roc_auc_score(y_test, predicted_labels)))\n",
    "plt.xlabel(\"fpr\")\n",
    "plt.ylabel(\"tpr\")\n",
    "plt.show()"
   ]
  },
  {
   "cell_type": "markdown",
   "id": "functional-while",
   "metadata": {},
   "source": [
    "La curva ROC está por encima del ángulo de 45ºy el AUC de nuestro modelo es de 0.68. Entonces, existe un 68% de probabilidad de que el modelo sea capaz de distinguir una muestra positiva y una muestra negativa. Por lo tanto, el modelo tiene un buen desempeño para predecir qué clientes harán *churn*."
   ]
  },
  {
   "cell_type": "markdown",
   "id": "flying-attraction",
   "metadata": {},
   "source": [
    "### Curva Precision-Recall"
   ]
  },
  {
   "cell_type": "code",
   "execution_count": null,
   "id": "southern-christopher",
   "metadata": {
    "scrolled": true
   },
   "outputs": [],
   "source": [
    "from sklearn.metrics import precision_recall_curve\n",
    "from sklearn.metrics import plot_precision_recall_curve\n",
    "\n",
    "precision, recall, thresholds_2 = precision_recall_curve(y_test, predicted_scores[:,1], pos_label=1)\n",
    "thresholds_2 = np.append(thresholds_2, 1)\n",
    "(precision.shape, recall.shape, thresholds_2.shape)\n",
    "\n",
    "plt.clf()\n",
    "plot_precision_recall_curve(gs_rf, X_test, y_test)\n",
    "plt.title(\"Precision-recall curve\")\n",
    "plt.xlabel(\"recall\")\n",
    "plt.ylabel(\"precision\")\n",
    "plt.show()"
   ]
  },
  {
   "cell_type": "markdown",
   "id": "fallen-flexibility",
   "metadata": {},
   "source": [
    "Si se hace un corte en la gráfica en el 0.7 (70%) del eje de presición, podemos ver que aproximadamente se necesita un recall de 35%, es decir que de todas las posibles predicciones de la clase positiva, el 35% se identificaría correctamente. Por lo tanto, nos damos cuenta de que si se quiere una alta precisión, como censecuencia se tendrá un bajo recall, es decir que se comportan como variables inversamente proporcionales. Sin embargo, en el caso de Telco, como se comentó al principio del trabajo, se necesita un alto recall para minimizar los falsos negativos porque son los casos que le cuestan más a la empresa y eso genera que haya un bajo porcentaje de precisión."
   ]
  },
  {
   "cell_type": "markdown",
   "id": "smaller-newspaper",
   "metadata": {},
   "source": [
    "### Métricas de desempeño"
   ]
  },
  {
   "cell_type": "code",
   "execution_count": null,
   "id": "double-israel",
   "metadata": {},
   "outputs": [],
   "source": [
    "def get_metrics_report(fpr, tpr, thresholds, precision, recall, thresholds_2):\n",
    "    df_1 = pd.DataFrame({'threshold': thresholds_2,'precision': precision,\n",
    "                    'recall': recall})\n",
    "    df_1['f1_score'] = 2 * (df_1.precision * df_1.recall) / (df_1.precision + df_1.recall)\n",
    "    \n",
    "    df_2 = pd.DataFrame({'tpr': tpr, 'fpr': fpr, 'threshold': thresholds})\n",
    "    df_2['tnr'] = 1 - df_2['fpr']\n",
    "    df_2['fnr'] = 1 - df_2['tpr']\n",
    "    \n",
    "    df = df_1.merge(df_2, on=\"threshold\")\n",
    "    \n",
    "    return df"
   ]
  },
  {
   "cell_type": "code",
   "execution_count": null,
   "id": "supposed-ultimate",
   "metadata": {},
   "outputs": [],
   "source": [
    "metrics_report = get_metrics_report(fpr, tpr, thresholds, precision, recall, thresholds_2)\n",
    "metrics_report.head(25)"
   ]
  },
  {
   "cell_type": "markdown",
   "id": "central-underwear",
   "metadata": {},
   "source": [
    "### Punto de corte"
   ]
  },
  {
   "cell_type": "markdown",
   "id": "assured-intermediate",
   "metadata": {},
   "source": [
    "<p style='text-align: justify;'> \n",
    "De acuerdo al contexto del problema, nos piden que no puede haber más del 2% de errores de acuerdo a la etiqueta positiva, es decir que máximo puede haber 140 falsos negativos. \n",
    "</p>"
   ]
  },
  {
   "cell_type": "code",
   "execution_count": null,
   "id": "cross-inventory",
   "metadata": {},
   "outputs": [],
   "source": [
    "negocio = metrics_report[metrics_report.fnr <= 0.02]\n",
    "negocio"
   ]
  },
  {
   "cell_type": "markdown",
   "id": "raising-usage",
   "metadata": {},
   "source": [
    "Como nos estamos fijando en los falsos negativos (fnr), el punto de corte es la última tupla de la tabla *negocio*:"
   ]
  },
  {
   "cell_type": "code",
   "execution_count": null,
   "id": "ordinary-clause",
   "metadata": {},
   "outputs": [],
   "source": [
    "punto_corte = negocio.iloc[-1].threshold\n",
    "punto_corte"
   ]
  },
  {
   "cell_type": "markdown",
   "id": "indie-comedy",
   "metadata": {},
   "source": [
    "<p style='text-align: justify;'> \n",
    "Por lo tanto, el punto de corte es de <b>0.060233</b>, es decir que para tener un 2% de errores, se verificará que el score de la predicción hecha sea en menor o igual a ese número; si es menor entonces le pondremos la etiqueta 0, si es mayor entonces tendrá la etiqueta 1. <br> <br>\n",
    "    En ese punto de corte se tiene un porcentaje de <i>recall</i> de 98.10%, es decir que de las posibles predicciones de la clase positiva, el 98.10% se identifican correctamente. Por otro lado, el porcentaje de <i>precisión</i> en el punto de corte es de 36.57%, es decir que de los que se identifican como clase positiva, el 36.57% se predijeron correctamente por lo que no es un modelo tan eficiente.\n",
    "</p>"
   ]
  },
  {
   "cell_type": "markdown",
   "id": "wrong-tunnel",
   "metadata": {},
   "source": [
    "### Matriz de confusión"
   ]
  },
  {
   "cell_type": "code",
   "execution_count": null,
   "id": "organizational-tanzania",
   "metadata": {},
   "outputs": [],
   "source": [
    "from sklearn.metrics import confusion_matrix\n",
    "\n",
    "confusion_matrix(y_test, predicted_labels)"
   ]
  },
  {
   "cell_type": "markdown",
   "id": "expressed-environment",
   "metadata": {},
   "source": [
    "El objetivo de minimizar los *falsos negativos* se logró. Es decir que de los 372 errores que tuvo el modelo, solo 122 fueron falsos negativos por lo que hizo una buena predicción."
   ]
  },
  {
   "cell_type": "code",
   "execution_count": null,
   "id": "adequate-dealer",
   "metadata": {},
   "outputs": [],
   "source": []
  }
 ],
 "metadata": {
  "kernelspec": {
   "display_name": "itam_md",
   "language": "python",
   "name": "itam_md"
  },
  "language_info": {
   "codemirror_mode": {
    "name": "ipython",
    "version": 3
   },
   "file_extension": ".py",
   "mimetype": "text/x-python",
   "name": "python",
   "nbconvert_exporter": "python",
   "pygments_lexer": "ipython3",
   "version": "3.7.4"
  }
 },
 "nbformat": 4,
 "nbformat_minor": 5
}
